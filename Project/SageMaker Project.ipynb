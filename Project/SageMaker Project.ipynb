{
 "cells": [
  {
   "cell_type": "markdown",
   "metadata": {},
   "source": [
    "# Creating a Sentiment Analysis Web App\n",
    "## Using PyTorch and SageMaker\n",
    "\n",
    "_Deep Learning Nanodegree Program | Deployment_\n",
    "\n",
    "---\n",
    "\n",
    "Now that we have a basic understanding of how SageMaker works we will try to use it to construct a complete project from end to end. Our goal will be to have a simple web page which a user can use to enter a movie review. The web page will then send the review off to our deployed model which will predict the sentiment of the entered review.\n",
    "\n",
    "## Instructions\n",
    "\n",
    "Some template code has already been provided for you, and you will need to implement additional functionality to successfully complete this notebook. You will not need to modify the included code beyond what is requested. Sections that begin with '**TODO**' in the header indicate that you need to complete or implement some portion within them. Instructions will be provided for each section and the specifics of the implementation are marked in the code block with a `# TODO: ...` comment. Please be sure to read the instructions carefully!\n",
    "\n",
    "In addition to implementing code, there will be questions for you to answer which relate to the task and your implementation. Each section where you will answer a question is preceded by a '**Question:**' header. Carefully read each question and provide your answer below the '**Answer:**' header by editing the Markdown cell.\n",
    "\n",
    "> **Note**: Code and Markdown cells can be executed using the **Shift+Enter** keyboard shortcut. In addition, a cell can be edited by typically clicking it (double-click for Markdown cells) or by pressing **Enter** while it is highlighted.\n",
    "\n",
    "## General Outline\n",
    "\n",
    "Recall the general outline for SageMaker projects using a notebook instance.\n",
    "\n",
    "1. Download or otherwise retrieve the data.\n",
    "2. Process / Prepare the data.\n",
    "3. Upload the processed data to S3.\n",
    "4. Train a chosen model.\n",
    "5. Test the trained model (typically using a batch transform job).\n",
    "6. Deploy the trained model.\n",
    "7. Use the deployed model.\n",
    "\n",
    "For this project, you will be following the steps in the general outline with some modifications. \n",
    "\n",
    "First, you will not be testing the model in its own step. You will still be testing the model, however, you will do it by deploying your model and then using the deployed model by sending the test data to it. One of the reasons for doing this is so that you can make sure that your deployed model is working correctly before moving forward.\n",
    "\n",
    "In addition, you will deploy and use your trained model a second time. In the second iteration you will customize the way that your trained model is deployed by including some of your own code. In addition, your newly deployed model will be used in the sentiment analysis web app."
   ]
  },
  {
   "cell_type": "markdown",
   "metadata": {},
   "source": [
    "## Step 1: Downloading the data\n",
    "\n",
    "As in the XGBoost in SageMaker notebook, we will be using the [IMDb dataset](http://ai.stanford.edu/~amaas/data/sentiment/)\n",
    "\n",
    "> Maas, Andrew L., et al. [Learning Word Vectors for Sentiment Analysis](http://ai.stanford.edu/~amaas/data/sentiment/). In _Proceedings of the 49th Annual Meeting of the Association for Computational Linguistics: Human Language Technologies_. Association for Computational Linguistics, 2011."
   ]
  },
  {
   "cell_type": "code",
   "execution_count": null,
   "metadata": {},
   "outputs": [
    {
     "name": "stdout",
     "output_type": "stream",
     "text": [
      "mkdir: cannot create directory ‘../data’: File exists\n",
      "--2020-07-07 10:11:52--  http://ai.stanford.edu/~amaas/data/sentiment/aclImdb_v1.tar.gz\n",
      "Resolving ai.stanford.edu (ai.stanford.edu)... 171.64.68.10\n",
      "Connecting to ai.stanford.edu (ai.stanford.edu)|171.64.68.10|:80... connected.\n",
      "HTTP request sent, awaiting response... 200 OK\n",
      "Length: 84125825 (80M) [application/x-gzip]\n",
      "Saving to: ‘../data/aclImdb_v1.tar.gz’\n",
      "\n",
      "../data/aclImdb_v1. 100%[===================>]  80.23M  23.4MB/s    in 3.9s    \n",
      "\n",
      "2020-07-07 10:11:57 (20.5 MB/s) - ‘../data/aclImdb_v1.tar.gz’ saved [84125825/84125825]\n",
      "\n"
     ]
    }
   ],
   "source": [
    "%mkdir ../data\n",
    "!wget -O ../data/aclImdb_v1.tar.gz http://ai.stanford.edu/~amaas/data/sentiment/aclImdb_v1.tar.gz\n",
    "!tar -zxf ../data/aclImdb_v1.tar.gz -C ../data"
   ]
  },
  {
   "cell_type": "markdown",
   "metadata": {},
   "source": [
    "## Step 2: Preparing and Processing the data\n",
    "\n",
    "Also, as in the XGBoost notebook, we will be doing some initial data processing. The first few steps are the same as in the XGBoost example. To begin with, we will read in each of the reviews and combine them into a single input structure. Then, we will split the dataset into a training set and a testing set."
   ]
  },
  {
   "cell_type": "code",
   "execution_count": 2,
   "metadata": {},
   "outputs": [],
   "source": [
    "import os\n",
    "import glob\n",
    "\n",
    "def read_imdb_data(data_dir='../data/aclImdb'):\n",
    "    data = {}\n",
    "    labels = {}\n",
    "    \n",
    "    for data_type in ['train', 'test']:\n",
    "        data[data_type] = {}\n",
    "        labels[data_type] = {}\n",
    "        \n",
    "        for sentiment in ['pos', 'neg']:\n",
    "            data[data_type][sentiment] = []\n",
    "            labels[data_type][sentiment] = []\n",
    "            \n",
    "            path = os.path.join(data_dir, data_type, sentiment, '*.txt')\n",
    "            files = glob.glob(path)\n",
    "            \n",
    "            for f in files:\n",
    "                with open(f) as review:\n",
    "                    data[data_type][sentiment].append(review.read())\n",
    "                    # Here we represent a positive review by '1' and a negative review by '0'\n",
    "                    labels[data_type][sentiment].append(1 if sentiment == 'pos' else 0)\n",
    "                    \n",
    "            assert len(data[data_type][sentiment]) == len(labels[data_type][sentiment]), \\\n",
    "                    \"{}/{} data size does not match labels size\".format(data_type, sentiment)\n",
    "                \n",
    "    return data, labels"
   ]
  },
  {
   "cell_type": "code",
   "execution_count": 3,
   "metadata": {},
   "outputs": [
    {
     "name": "stdout",
     "output_type": "stream",
     "text": [
      "IMDB reviews: train = 12500 pos / 12500 neg, test = 12500 pos / 12500 neg\n"
     ]
    }
   ],
   "source": [
    "data, labels = read_imdb_data()\n",
    "print(\"IMDB reviews: train = {} pos / {} neg, test = {} pos / {} neg\".format(\n",
    "            len(data['train']['pos']), len(data['train']['neg']),\n",
    "            len(data['test']['pos']), len(data['test']['neg'])))"
   ]
  },
  {
   "cell_type": "markdown",
   "metadata": {},
   "source": [
    "Now that we've read the raw training and testing data from the downloaded dataset, we will combine the positive and negative reviews and shuffle the resulting records."
   ]
  },
  {
   "cell_type": "code",
   "execution_count": 4,
   "metadata": {},
   "outputs": [],
   "source": [
    "from sklearn.utils import shuffle\n",
    "\n",
    "def prepare_imdb_data(data, labels):\n",
    "    \"\"\"Prepare training and test sets from IMDb movie reviews.\"\"\"\n",
    "    \n",
    "    #Combine positive and negative reviews and labels\n",
    "    data_train = data['train']['pos'] + data['train']['neg']\n",
    "    data_test = data['test']['pos'] + data['test']['neg']\n",
    "    labels_train = labels['train']['pos'] + labels['train']['neg']\n",
    "    labels_test = labels['test']['pos'] + labels['test']['neg']\n",
    "    \n",
    "    #Shuffle reviews and corresponding labels within training and test sets\n",
    "    data_train, labels_train = shuffle(data_train, labels_train)\n",
    "    data_test, labels_test = shuffle(data_test, labels_test)\n",
    "    \n",
    "    # Return a unified training data, test data, training labels, test labets\n",
    "    return data_train, data_test, labels_train, labels_test"
   ]
  },
  {
   "cell_type": "code",
   "execution_count": 5,
   "metadata": {},
   "outputs": [
    {
     "name": "stdout",
     "output_type": "stream",
     "text": [
      "IMDb reviews (combined): train = 25000, test = 25000\n"
     ]
    }
   ],
   "source": [
    "train_X, test_X, train_y, test_y = prepare_imdb_data(data, labels)\n",
    "print(\"IMDb reviews (combined): train = {}, test = {}\".format(len(train_X), len(test_X)))"
   ]
  },
  {
   "cell_type": "markdown",
   "metadata": {},
   "source": [
    "Now that we have our training and testing sets unified and prepared, we should do a quick check and see an example of the data our model will be trained on. This is generally a good idea as it allows you to see how each of the further processing steps affects the reviews and it also ensures that the data has been loaded correctly."
   ]
  },
  {
   "cell_type": "code",
   "execution_count": 6,
   "metadata": {},
   "outputs": [
    {
     "name": "stdout",
     "output_type": "stream",
     "text": [
      "I never watched the 'Next Action Hero' show, and until reading the other comments here, did not know that this movie was the 'prize' from that competition. I was just flipping channels and came across this, and found myself watching, dare eagerly, all the way to the end.<br /><br />Yes, the plot's been done (The Most Dangerous Game, etc.) but I was hoping for, and almost received, the 'gotcha' - how the protagonist was going to beat the hunter in the end. I think the high-tech was overdone (GPS's) and gave me cold-sweat flashbacks of Night Rider, but it nevertheless was not too overdone.<br /><br />The basic problem I had with this movie was the degree of SOD (Suspension of Disbelief) that was required of the viewer. Do we really think that someone flying in a helicopter could lob countless incendiary grenades at a public bridge and NO COPS show up to investigate? Could a limousine do countless donuts in a Las Vegas intersection and NO COPS show up? Pleeease. Way too much of that type of thing - fun to watch, but keep it at least plausible, thank you very much.<br /><br />The final solution was good, but the ending was disappointing, with the after taste of a bad Star Trek episode. At least now I understand why the acting was so cheesy - except for Zane, who doesn't get near as much work as he deserves IMHO - they were winners from a reality show.<br /><br />Knock me out.\n",
      "1\n"
     ]
    }
   ],
   "source": [
    "print(train_X[100])\n",
    "print(train_y[100])"
   ]
  },
  {
   "cell_type": "markdown",
   "metadata": {},
   "source": [
    "The first step in processing the reviews is to make sure that any html tags that appear should be removed. In addition we wish to tokenize our input, that way words such as *entertained* and *entertaining* are considered the same with regard to sentiment analysis."
   ]
  },
  {
   "cell_type": "code",
   "execution_count": 7,
   "metadata": {},
   "outputs": [],
   "source": [
    "import nltk\n",
    "from nltk.corpus import stopwords\n",
    "from nltk.stem.porter import *\n",
    "\n",
    "import re\n",
    "from bs4 import BeautifulSoup\n",
    "\n",
    "def review_to_words(review):\n",
    "    nltk.download(\"stopwords\", quiet=True)\n",
    "    stemmer = PorterStemmer()\n",
    "    \n",
    "    text = BeautifulSoup(review, \"html.parser\").get_text() # Remove HTML tags\n",
    "    text = re.sub(r\"[^a-zA-Z0-9]\", \" \", text.lower()) # Convert to lower case\n",
    "    words = text.split() # Split string into words\n",
    "    words = [w for w in words if w not in stopwords.words(\"english\")] # Remove stopwords\n",
    "    words = [PorterStemmer().stem(w) for w in words] # stem\n",
    "    \n",
    "    return words"
   ]
  },
  {
   "cell_type": "markdown",
   "metadata": {},
   "source": [
    "The `review_to_words` method defined above uses `BeautifulSoup` to remove any html tags that appear and uses the `nltk` package to tokenize the reviews. As a check to ensure we know how everything is working, try applying `review_to_words` to one of the reviews in the training set."
   ]
  },
  {
   "cell_type": "code",
   "execution_count": 8,
   "metadata": {},
   "outputs": [
    {
     "data": {
      "text/plain": [
       "['never',\n",
       " 'watch',\n",
       " 'next',\n",
       " 'action',\n",
       " 'hero',\n",
       " 'show',\n",
       " 'read',\n",
       " 'comment',\n",
       " 'know',\n",
       " 'movi',\n",
       " 'prize',\n",
       " 'competit',\n",
       " 'flip',\n",
       " 'channel',\n",
       " 'came',\n",
       " 'across',\n",
       " 'found',\n",
       " 'watch',\n",
       " 'dare',\n",
       " 'eagerli',\n",
       " 'way',\n",
       " 'end',\n",
       " 'ye',\n",
       " 'plot',\n",
       " 'done',\n",
       " 'danger',\n",
       " 'game',\n",
       " 'etc',\n",
       " 'hope',\n",
       " 'almost',\n",
       " 'receiv',\n",
       " 'gotcha',\n",
       " 'protagonist',\n",
       " 'go',\n",
       " 'beat',\n",
       " 'hunter',\n",
       " 'end',\n",
       " 'think',\n",
       " 'high',\n",
       " 'tech',\n",
       " 'overdon',\n",
       " 'gp',\n",
       " 'gave',\n",
       " 'cold',\n",
       " 'sweat',\n",
       " 'flashback',\n",
       " 'night',\n",
       " 'rider',\n",
       " 'nevertheless',\n",
       " 'overdon',\n",
       " 'basic',\n",
       " 'problem',\n",
       " 'movi',\n",
       " 'degre',\n",
       " 'sod',\n",
       " 'suspens',\n",
       " 'disbelief',\n",
       " 'requir',\n",
       " 'viewer',\n",
       " 'realli',\n",
       " 'think',\n",
       " 'someon',\n",
       " 'fli',\n",
       " 'helicopt',\n",
       " 'could',\n",
       " 'lob',\n",
       " 'countless',\n",
       " 'incendiari',\n",
       " 'grenad',\n",
       " 'public',\n",
       " 'bridg',\n",
       " 'cop',\n",
       " 'show',\n",
       " 'investig',\n",
       " 'could',\n",
       " 'limousin',\n",
       " 'countless',\n",
       " 'donut',\n",
       " 'la',\n",
       " 'vega',\n",
       " 'intersect',\n",
       " 'cop',\n",
       " 'show',\n",
       " 'pleeeas',\n",
       " 'way',\n",
       " 'much',\n",
       " 'type',\n",
       " 'thing',\n",
       " 'fun',\n",
       " 'watch',\n",
       " 'keep',\n",
       " 'least',\n",
       " 'plausibl',\n",
       " 'thank',\n",
       " 'much',\n",
       " 'final',\n",
       " 'solut',\n",
       " 'good',\n",
       " 'end',\n",
       " 'disappoint',\n",
       " 'tast',\n",
       " 'bad',\n",
       " 'star',\n",
       " 'trek',\n",
       " 'episod',\n",
       " 'least',\n",
       " 'understand',\n",
       " 'act',\n",
       " 'cheesi',\n",
       " 'except',\n",
       " 'zane',\n",
       " 'get',\n",
       " 'near',\n",
       " 'much',\n",
       " 'work',\n",
       " 'deserv',\n",
       " 'imho',\n",
       " 'winner',\n",
       " 'realiti',\n",
       " 'show',\n",
       " 'knock']"
      ]
     },
     "execution_count": 8,
     "metadata": {},
     "output_type": "execute_result"
    }
   ],
   "source": [
    "# TODO: Apply review_to_words to a review (train_X[100] or any other review)\n",
    "review =train_X[100]\n",
    "review_to_words(review)"
   ]
  },
  {
   "cell_type": "markdown",
   "metadata": {},
   "source": [
    "**Question:** Above we mentioned that `review_to_words` method removes html formatting and allows us to tokenize the words found in a review, for example, converting *entertained* and *entertaining* into *entertain* so that they are treated as though they are the same word. What else, if anything, does this method do to the input?"
   ]
  },
  {
   "cell_type": "markdown",
   "metadata": {},
   "source": [
    "**Answer:**"
   ]
  },
  {
   "cell_type": "markdown",
   "metadata": {},
   "source": [
    "The method below applies the `review_to_words` method to each of the reviews in the training and testing datasets. In addition it caches the results. This is because performing this processing step can take a long time. This way if you are unable to complete the notebook in the current session, you can come back without needing to process the data a second time."
   ]
  },
  {
   "cell_type": "code",
   "execution_count": 9,
   "metadata": {},
   "outputs": [],
   "source": [
    "import pickle\n",
    "\n",
    "cache_dir = os.path.join(\"../cache\", \"sentiment_analysis\")  # where to store cache files\n",
    "os.makedirs(cache_dir, exist_ok=True)  # ensure cache directory exists\n",
    "\n",
    "def preprocess_data(data_train, data_test, labels_train, labels_test,\n",
    "                    cache_dir=cache_dir, cache_file=\"preprocessed_data.pkl\"):\n",
    "    \"\"\"Convert each review to words; read from cache if available.\"\"\"\n",
    "\n",
    "    # If cache_file is not None, try to read from it first\n",
    "    cache_data = None\n",
    "    if cache_file is not None:\n",
    "        try:\n",
    "            with open(os.path.join(cache_dir, cache_file), \"rb\") as f:\n",
    "                cache_data = pickle.load(f)\n",
    "            print(\"Read preprocessed data from cache file:\", cache_file)\n",
    "        except:\n",
    "            pass  # unable to read from cache, but that's okay\n",
    "    \n",
    "    # If cache is missing, then do the heavy lifting\n",
    "    if cache_data is None:\n",
    "        # Preprocess training and test data to obtain words for each review\n",
    "        #words_train = list(map(review_to_words, data_train))\n",
    "        #words_test = list(map(review_to_words, data_test))\n",
    "        words_train = [review_to_words(review) for review in data_train]\n",
    "        words_test = [review_to_words(review) for review in data_test]\n",
    "        \n",
    "        # Write to cache file for future runs\n",
    "        if cache_file is not None:\n",
    "            cache_data = dict(words_train=words_train, words_test=words_test,\n",
    "                              labels_train=labels_train, labels_test=labels_test)\n",
    "            with open(os.path.join(cache_dir, cache_file), \"wb\") as f:\n",
    "                pickle.dump(cache_data, f)\n",
    "            print(\"Wrote preprocessed data to cache file:\", cache_file)\n",
    "    else:\n",
    "        # Unpack data loaded from cache file\n",
    "        words_train, words_test, labels_train, labels_test = (cache_data['words_train'],\n",
    "                cache_data['words_test'], cache_data['labels_train'], cache_data['labels_test'])\n",
    "    \n",
    "    return words_train, words_test, labels_train, labels_test"
   ]
  },
  {
   "cell_type": "code",
   "execution_count": 10,
   "metadata": {},
   "outputs": [
    {
     "name": "stdout",
     "output_type": "stream",
     "text": [
      "Read preprocessed data from cache file: preprocessed_data.pkl\n"
     ]
    }
   ],
   "source": [
    "# Preprocess data\n",
    "train_X, test_X, train_y, test_y = preprocess_data(train_X, test_X, train_y, test_y)"
   ]
  },
  {
   "cell_type": "markdown",
   "metadata": {},
   "source": [
    "## Transform the data\n",
    "\n",
    "In the XGBoost notebook we transformed the data from its word representation to a bag-of-words feature representation. For the model we are going to construct in this notebook we will construct a feature representation which is very similar. To start, we will represent each word as an integer. Of course, some of the words that appear in the reviews occur very infrequently and so likely don't contain much information for the purposes of sentiment analysis. The way we will deal with this problem is that we will fix the size of our working vocabulary and we will only include the words that appear most frequently. We will then combine all of the infrequent words into a single category and, in our case, we will label it as `1`.\n",
    "\n",
    "Since we will be using a recurrent neural network, it will be convenient if the length of each review is the same. To do this, we will fix a size for our reviews and then pad short reviews with the category 'no word' (which we will label `0`) and truncate long reviews."
   ]
  },
  {
   "cell_type": "markdown",
   "metadata": {},
   "source": [
    "### (TODO) Create a word dictionary\n",
    "\n",
    "To begin with, we need to construct a way to map words that appear in the reviews to integers. Here we fix the size of our vocabulary (including the 'no word' and 'infrequent' categories) to be `5000` but you may wish to change this to see how it affects the model.\n",
    "\n",
    "> **TODO:** Complete the implementation for the `build_dict()` method below. Note that even though the vocab_size is set to `5000`, we only want to construct a mapping for the most frequently appearing `4998` words. This is because we want to reserve the special labels `0` for 'no word' and `1` for 'infrequent word'."
   ]
  },
  {
   "cell_type": "code",
   "execution_count": 11,
   "metadata": {},
   "outputs": [],
   "source": [
    "#train_X[:1]\n",
    "def word_counter(data):\n",
    "    #flattern all words in single list\n",
    "    flat = [words for reviews in data for words in reviews]\n",
    "    # A dict storing the words that appear in the reviews along with how often they occur\n",
    "    word_count = Counter(flat)\n",
    "    return word_count"
   ]
  },
  {
   "cell_type": "code",
   "execution_count": 12,
   "metadata": {},
   "outputs": [],
   "source": [
    "import numpy as np\n",
    "\n",
    "from collections import Counter\n",
    "def build_dict(data, vocab_size = 5000):\n",
    "    \"\"\"Construct and return a dictionary mapping each of the most frequently appearing words to a unique integer.\"\"\"\n",
    "    \n",
    "    # TODO: Determine how often each word appears in `data`. Note that `data` is a list of sentences and that a\n",
    "    #       sentence is a list of words.\n",
    "    \n",
    "    word_count =  word_counter(data)\n",
    "    \n",
    "    #Sort the words found in `data` so that sorted_words[0] is the most frequently appearing word and\n",
    "    #sorted_words[-1] is the least frequently appearing word.\n",
    "\n",
    "    #sort the counter and convert to dict\n",
    "    sorted_words = dict(word_count.most_common())\n",
    "    sorted_words = list(sorted_words.keys())\n",
    "    \n",
    "    word_dict = {} # This is what we are building, a dictionary that translates words into integers\n",
    "    for idx, word in enumerate(sorted_words[:vocab_size - 2]): # The -2 is so that we save room for the 'no word'\n",
    "        word_dict[word] = idx + 2                              # 'infrequent' labels\n",
    "        \n",
    "    return word_dict"
   ]
  },
  {
   "cell_type": "code",
   "execution_count": 13,
   "metadata": {},
   "outputs": [],
   "source": [
    "word_dict = build_dict(train_X)"
   ]
  },
  {
   "cell_type": "code",
   "execution_count": 14,
   "metadata": {},
   "outputs": [
    {
     "name": "stdout",
     "output_type": "stream",
     "text": [
      "{'movi': 2, 'film': 3, 'one': 4, 'like': 5, 'time': 6, 'good': 7, 'make': 8, 'charact': 9, 'get': 10, 'see': 11, 'watch': 12, 'stori': 13, 'even': 14, 'would': 15, 'realli': 16, 'well': 17, 'scene': 18, 'look': 19, 'show': 20, 'much': 21, 'end': 22, 'peopl': 23, 'bad': 24, 'go': 25, 'great': 26, 'also': 27, 'first': 28, 'love': 29, 'think': 30, 'way': 31, 'act': 32, 'play': 33, 'made': 34, 'thing': 35, 'could': 36, 'know': 37, 'say': 38, 'seem': 39, 'work': 40, 'plot': 41, 'two': 42, 'actor': 43, 'year': 44, 'come': 45, 'mani': 46, 'seen': 47, 'take': 48, 'want': 49, 'life': 50, 'never': 51, 'littl': 52, 'best': 53, 'tri': 54, 'man': 55, 'ever': 56, 'give': 57, 'better': 58, 'still': 59, 'perform': 60, 'find': 61, 'feel': 62, 'part': 63, 'back': 64, 'use': 65, 'someth': 66, 'director': 67, 'actual': 68, 'interest': 69, 'lot': 70, 'real': 71, 'old': 72, 'cast': 73, 'though': 74, 'live': 75, 'star': 76, 'enjoy': 77, 'guy': 78, 'anoth': 79, 'new': 80, 'role': 81, 'noth': 82, '10': 83, 'funni': 84, 'music': 85, 'point': 86, 'start': 87, 'set': 88, 'girl': 89, 'origin': 90, 'day': 91, 'world': 92, 'everi': 93, 'believ': 94, 'turn': 95, 'quit': 96, 'direct': 97, 'us': 98, 'thought': 99, 'fact': 100, 'minut': 101, 'horror': 102, 'kill': 103, 'action': 104, 'comedi': 105, 'pretti': 106, 'young': 107, 'wonder': 108, 'happen': 109, 'around': 110, 'got': 111, 'effect': 112, 'right': 113, 'long': 114, 'howev': 115, 'big': 116, 'line': 117, 'famili': 118, 'enough': 119, 'seri': 120, 'may': 121, 'need': 122, 'fan': 123, 'bit': 124, 'script': 125, 'beauti': 126, 'person': 127, 'becom': 128, 'without': 129, 'must': 130, 'alway': 131, 'friend': 132, 'tell': 133, 'reason': 134, 'saw': 135, 'last': 136, 'final': 137, 'kid': 138, 'almost': 139, 'put': 140, 'least': 141, 'sure': 142, 'done': 143, 'whole': 144, 'place': 145, 'complet': 146, 'kind': 147, 'expect': 148, 'differ': 149, 'shot': 150, 'far': 151, 'mean': 152, 'anyth': 153, 'book': 154, 'laugh': 155, 'might': 156, 'name': 157, 'sinc': 158, 'begin': 159, '2': 160, 'probabl': 161, 'woman': 162, 'help': 163, 'entertain': 164, 'let': 165, 'screen': 166, 'call': 167, 'tv': 168, 'moment': 169, 'away': 170, 'read': 171, 'yet': 172, 'rather': 173, 'worst': 174, 'run': 175, 'fun': 176, 'lead': 177, 'hard': 178, 'audienc': 179, 'idea': 180, 'anyon': 181, 'episod': 182, 'american': 183, 'found': 184, 'appear': 185, 'bore': 186, 'especi': 187, 'although': 188, 'hope': 189, 'keep': 190, 'cours': 191, 'anim': 192, 'job': 193, 'goe': 194, 'move': 195, 'sens': 196, 'dvd': 197, 'version': 198, 'war': 199, 'money': 200, 'someon': 201, 'mind': 202, 'mayb': 203, 'problem': 204, 'true': 205, 'hous': 206, 'everyth': 207, 'nice': 208, 'second': 209, 'rate': 210, 'three': 211, 'night': 212, 'face': 213, 'follow': 214, 'recommend': 215, 'product': 216, 'main': 217, 'worth': 218, 'leav': 219, 'human': 220, 'special': 221, 'excel': 222, 'togeth': 223, 'wast': 224, 'sound': 225, 'everyon': 226, 'john': 227, 'hand': 228, '1': 229, 'father': 230, 'later': 231, 'eye': 232, 'said': 233, 'view': 234, 'instead': 235, 'review': 236, 'boy': 237, 'high': 238, 'hour': 239, 'miss': 240, 'talk': 241, 'classic': 242, 'wife': 243, 'understand': 244, 'left': 245, 'care': 246, 'black': 247, 'death': 248, 'open': 249, 'murder': 250, 'write': 251, 'half': 252, 'head': 253, 'rememb': 254, 'chang': 255, 'viewer': 256, 'fight': 257, 'gener': 258, 'surpris': 259, 'includ': 260, 'short': 261, 'die': 262, 'fall': 263, 'less': 264, 'els': 265, 'entir': 266, 'piec': 267, 'involv': 268, 'pictur': 269, 'simpli': 270, 'top': 271, 'home': 272, 'power': 273, 'total': 274, 'usual': 275, 'budget': 276, 'attempt': 277, 'suppos': 278, 'releas': 279, 'hollywood': 280, 'terribl': 281, 'song': 282, 'men': 283, 'possibl': 284, 'featur': 285, 'portray': 286, 'disappoint': 287, '3': 288, 'poor': 289, 'coupl': 290, 'camera': 291, 'stupid': 292, 'dead': 293, 'wrong': 294, 'low': 295, 'produc': 296, 'video': 297, 'either': 298, 'aw': 299, 'definit': 300, 'except': 301, 'rest': 302, 'given': 303, 'absolut': 304, 'women': 305, 'lack': 306, 'word': 307, 'writer': 308, 'titl': 309, 'talent': 310, 'decid': 311, 'full': 312, 'perfect': 313, 'along': 314, 'style': 315, 'close': 316, 'truli': 317, 'school': 318, 'save': 319, 'emot': 320, 'sex': 321, 'age': 322, 'next': 323, 'bring': 324, 'mr': 325, 'case': 326, 'killer': 327, 'heart': 328, 'comment': 329, 'sort': 330, 'creat': 331, 'perhap': 332, 'came': 333, 'brother': 334, 'sever': 335, 'joke': 336, 'art': 337, 'dialogu': 338, 'game': 339, 'small': 340, 'base': 341, 'flick': 342, 'written': 343, 'sequenc': 344, 'meet': 345, 'earli': 346, 'often': 347, 'other': 348, 'mother': 349, 'develop': 350, 'humor': 351, 'actress': 352, 'consid': 353, 'dark': 354, 'guess': 355, 'amaz': 356, 'unfortun': 357, 'light': 358, 'lost': 359, 'exampl': 360, 'cinema': 361, 'drama': 362, 'white': 363, 'ye': 364, 'experi': 365, 'imagin': 366, 'mention': 367, 'stop': 368, 'natur': 369, 'forc': 370, 'manag': 371, 'felt': 372, 'cut': 373, 'present': 374, 'children': 375, 'fail': 376, 'son': 377, 'qualiti': 378, 'support': 379, 'car': 380, 'ask': 381, 'hit': 382, 'side': 383, 'voic': 384, 'extrem': 385, 'impress': 386, 'evil': 387, 'wors': 388, 'went': 389, 'stand': 390, 'certainli': 391, 'basic': 392, 'oh': 393, 'overal': 394, 'favorit': 395, 'horribl': 396, 'mysteri': 397, 'number': 398, 'type': 399, 'danc': 400, 'wait': 401, 'hero': 402, 'alreadi': 403, '5': 404, 'learn': 405, 'matter': 406, '4': 407, 'michael': 408, 'genr': 409, 'fine': 410, 'despit': 411, 'throughout': 412, 'walk': 413, 'success': 414, 'histori': 415, 'question': 416, 'zombi': 417, 'town': 418, 'realiz': 419, 'relationship': 420, 'child': 421, 'past': 422, 'daughter': 423, 'late': 424, 'b': 425, 'wish': 426, 'credit': 427, 'hate': 428, 'event': 429, 'theme': 430, 'touch': 431, 'citi': 432, 'today': 433, 'sometim': 434, 'behind': 435, 'god': 436, 'twist': 437, 'sit': 438, 'deal': 439, 'stay': 440, 'annoy': 441, 'abl': 442, 'rent': 443, 'pleas': 444, 'edit': 445, 'blood': 446, 'deserv': 447, 'anyway': 448, 'comic': 449, 'appar': 450, 'soon': 451, 'gave': 452, 'etc': 453, 'level': 454, 'slow': 455, 'chanc': 456, 'score': 457, 'bodi': 458, 'brilliant': 459, 'incred': 460, 'figur': 461, 'situat': 462, 'major': 463, 'self': 464, 'stuff': 465, 'decent': 466, 'element': 467, 'dream': 468, 'return': 469, 'obvious': 470, 'order': 471, 'continu': 472, 'pace': 473, 'ridicul': 474, 'happi': 475, 'highli': 476, 'add': 477, 'group': 478, 'thank': 479, 'ladi': 480, 'novel': 481, 'pain': 482, 'speak': 483, 'career': 484, 'shoot': 485, 'strang': 486, 'heard': 487, 'sad': 488, 'husband': 489, 'polic': 490, 'import': 491, 'break': 492, 'took': 493, 'cannot': 494, 'strong': 495, 'robert': 496, 'predict': 497, 'violenc': 498, 'hilari': 499, 'recent': 500, 'countri': 501, 'known': 502, 'particularli': 503, 'pick': 504, 'documentari': 505, 'season': 506, 'critic': 507, 'jame': 508, 'compar': 509, 'obviou': 510, 'alon': 511, 'told': 512, 'state': 513, 'visual': 514, 'rock': 515, 'theater': 516, 'exist': 517, 'offer': 518, 'opinion': 519, 'gore': 520, 'crap': 521, 'hold': 522, 'result': 523, 'room': 524, 'realiti': 525, 'hear': 526, 'effort': 527, 'clich': 528, 'thriller': 529, 'caus': 530, 'sequel': 531, 'explain': 532, 'serious': 533, 'king': 534, 'local': 535, 'ago': 536, 'hell': 537, 'none': 538, 'note': 539, 'allow': 540, 'david': 541, 'sister': 542, 'simpl': 543, 'femal': 544, 'deliv': 545, 'ok': 546, 'convinc': 547, 'class': 548, 'check': 549, 'suspens': 550, 'win': 551, 'oscar': 552, 'buy': 553, 'huge': 554, 'valu': 555, 'sexual': 556, 'scari': 557, 'cool': 558, 'similar': 559, 'excit': 560, 'apart': 561, 'exactli': 562, 'provid': 563, 'shown': 564, 'avoid': 565, 'seriou': 566, 'english': 567, 'taken': 568, 'whose': 569, 'cinematographi': 570, 'shock': 571, 'polit': 572, 'spoiler': 573, 'offic': 574, 'across': 575, 'middl': 576, 'pass': 577, 'street': 578, 'messag': 579, 'somewhat': 580, 'silli': 581, 'charm': 582, 'modern': 583, 'filmmak': 584, 'confus': 585, 'form': 586, 'tale': 587, 'singl': 588, 'jack': 589, 'mostli': 590, 'attent': 591, 'carri': 592, 'william': 593, 'sing': 594, 'five': 595, 'subject': 596, 'prove': 597, 'richard': 598, 'team': 599, 'stage': 600, 'unlik': 601, 'cop': 602, 'georg': 603, 'televis': 604, 'monster': 605, 'earth': 606, 'cover': 607, 'villain': 608, 'pay': 609, 'marri': 610, 'toward': 611, 'build': 612, 'parent': 613, 'pull': 614, 'due': 615, 'fill': 616, 'respect': 617, 'dialog': 618, 'four': 619, 'remind': 620, 'futur': 621, 'typic': 622, 'weak': 623, '7': 624, 'cheap': 625, 'intellig': 626, 'british': 627, 'atmospher': 628, 'clearli': 629, '80': 630, 'non': 631, 'dog': 632, 'paul': 633, 'knew': 634, '8': 635, 'fast': 636, 'artist': 637, 'crime': 638, 'easili': 639, 'escap': 640, 'adult': 641, 'doubt': 642, 'detail': 643, 'date': 644, 'member': 645, 'romant': 646, 'fire': 647, 'drive': 648, 'gun': 649, 'straight': 650, 'beyond': 651, 'fit': 652, 'attack': 653, 'imag': 654, 'upon': 655, 'posit': 656, 'whether': 657, 'fantast': 658, 'peter': 659, 'aspect': 660, 'appreci': 661, 'captur': 662, 'ten': 663, 'plan': 664, 'discov': 665, 'remain': 666, 'near': 667, 'period': 668, 'air': 669, 'realist': 670, 'mark': 671, 'red': 672, 'dull': 673, 'adapt': 674, 'within': 675, 'spend': 676, 'lose': 677, 'color': 678, 'materi': 679, 'chase': 680, 'mari': 681, 'storylin': 682, 'forget': 683, 'bunch': 684, 'clear': 685, 'lee': 686, 'victim': 687, 'nearli': 688, 'box': 689, 'york': 690, 'inspir': 691, 'match': 692, 'finish': 693, 'mess': 694, 'standard': 695, 'easi': 696, 'truth': 697, 'suffer': 698, 'busi': 699, 'dramat': 700, 'bill': 701, 'space': 702, 'western': 703, 'e': 704, 'list': 705, 'battl': 706, 'notic': 707, 'de': 708, 'french': 709, 'ad': 710, '9': 711, 'tom': 712, 'larg': 713, 'among': 714, 'eventu': 715, 'train': 716, 'accept': 717, 'agre': 718, 'spirit': 719, 'soundtrack': 720, 'third': 721, 'teenag': 722, 'adventur': 723, 'soldier': 724, 'suggest': 725, 'drug': 726, 'famou': 727, 'sorri': 728, 'babi': 729, 'normal': 730, 'cri': 731, 'troubl': 732, 'ultim': 733, 'contain': 734, 'certain': 735, 'cultur': 736, 'romanc': 737, 'rare': 738, 'lame': 739, 'somehow': 740, 'disney': 741, 'mix': 742, 'gone': 743, 'cartoon': 744, 'student': 745, 'reveal': 746, 'fear': 747, 'kept': 748, 'suck': 749, 'attract': 750, 'appeal': 751, 'premis': 752, 'secret': 753, 'design': 754, 'greatest': 755, 'shame': 756, 'throw': 757, 'copi': 758, 'scare': 759, 'wit': 760, 'admit': 761, 'america': 762, 'particular': 763, 'relat': 764, 'brought': 765, 'screenplay': 766, 'whatev': 767, 'pure': 768, '70': 769, 'averag': 770, 'harri': 771, 'master': 772, 'describ': 773, 'treat': 774, 'male': 775, '20': 776, 'fantasi': 777, 'issu': 778, 'warn': 779, 'inde': 780, 'background': 781, 'forward': 782, 'project': 783, 'free': 784, 'memor': 785, 'japanes': 786, 'poorli': 787, 'award': 788, 'locat': 789, 'amus': 790, 'potenti': 791, 'struggl': 792, 'weird': 793, 'magic': 794, 'societi': 795, 'okay': 796, 'imdb': 797, 'accent': 798, 'doctor': 799, 'hot': 800, 'water': 801, '30': 802, 'dr': 803, 'express': 804, 'alien': 805, 'odd': 806, 'crazi': 807, 'choic': 808, 'studio': 809, 'fiction': 810, 'control': 811, 'becam': 812, 'masterpiec': 813, 'fli': 814, 'difficult': 815, 'joe': 816, 'scream': 817, 'costum': 818, 'lover': 819, 'uniqu': 820, 'refer': 821, 'remak': 822, 'girlfriend': 823, 'vampir': 824, 'prison': 825, 'execut': 826, 'wear': 827, 'jump': 828, 'unless': 829, 'wood': 830, 'creepi': 831, 'cheesi': 832, 'superb': 833, 'otherwis': 834, 'parti': 835, 'roll': 836, 'ghost': 837, 'public': 838, 'mad': 839, 'depict': 840, 'earlier': 841, 'week': 842, 'jane': 843, 'badli': 844, 'moral': 845, 'dumb': 846, 'fi': 847, 'grow': 848, 'flaw': 849, 'sci': 850, 'deep': 851, 'maker': 852, 'cat': 853, 'footag': 854, 'older': 855, 'connect': 856, 'plenti': 857, 'bother': 858, 'outsid': 859, 'stick': 860, 'gay': 861, 'catch': 862, 'co': 863, 'plu': 864, 'popular': 865, 'equal': 866, 'social': 867, 'disturb': 868, 'quickli': 869, 'perfectli': 870, 'dress': 871, '90': 872, 'era': 873, 'mistak': 874, 'lie': 875, 'ride': 876, 'previou': 877, 'combin': 878, 'band': 879, 'concept': 880, 'rich': 881, 'answer': 882, 'surviv': 883, 'front': 884, 'sweet': 885, 'christma': 886, 'insid': 887, 'bare': 888, 'eat': 889, 'concern': 890, 'listen': 891, 'beat': 892, 'ben': 893, 'c': 894, 'serv': 895, 'term': 896, 'meant': 897, 'german': 898, 'la': 899, 'hardli': 900, 'stereotyp': 901, 'innoc': 902, 'law': 903, 'desper': 904, 'memori': 905, 'promis': 906, 'cute': 907, 'intent': 908, 'variou': 909, 'steal': 910, 'inform': 911, 'brain': 912, 'post': 913, 'tone': 914, 'island': 915, 'amount': 916, 'track': 917, 'nuditi': 918, 'compani': 919, 'store': 920, 'claim': 921, 'hair': 922, 'flat': 923, '50': 924, 'land': 925, 'univers': 926, 'danger': 927, 'scott': 928, 'kick': 929, 'fairli': 930, 'player': 931, 'plain': 932, 'step': 933, 'crew': 934, 'toni': 935, 'share': 936, 'centuri': 937, 'tast': 938, 'engag': 939, 'achiev': 940, 'cold': 941, 'travel': 942, 'suit': 943, 'record': 944, 'rip': 945, 'sadli': 946, 'manner': 947, 'spot': 948, 'tension': 949, 'wrote': 950, 'intens': 951, 'fascin': 952, 'familiar': 953, 'burn': 954, 'depth': 955, 'remark': 956, 'histor': 957, 'destroy': 958, 'sleep': 959, 'purpos': 960, 'languag': 961, 'ruin': 962, 'ignor': 963, 'delight': 964, 'italian': 965, 'unbeliev': 966, 'collect': 967, 'abil': 968, 'soul': 969, 'detect': 970, 'clever': 971, 'violent': 972, 'rape': 973, 'reach': 974, 'door': 975, 'trash': 976, 'scienc': 977, 'liter': 978, 'commun': 979, 'caught': 980, 'reveng': 981, 'creatur': 982, 'approach': 983, 'trip': 984, 'fashion': 985, 'intrigu': 986, 'introduc': 987, 'paint': 988, 'skill': 989, 'complex': 990, 'channel': 991, 'camp': 992, 'christian': 993, 'extra': 994, 'hole': 995, 'immedi': 996, 'limit': 997, 'mental': 998, 'ann': 999, 'mere': 1000, 'million': 1001, 'slightli': 1002, 'comput': 1003, '6': 1004, 'conclus': 1005, 'slasher': 1006, 'imposs': 1007, 'suddenli': 1008, 'neither': 1009, 'crimin': 1010, 'teen': 1011, 'spent': 1012, 'physic': 1013, 'nation': 1014, 'respons': 1015, 'planet': 1016, 'receiv': 1017, 'fake': 1018, 'sick': 1019, 'blue': 1020, 'bizarr': 1021, 'embarrass': 1022, 'indian': 1023, 'ring': 1024, '15': 1025, 'drop': 1026, 'pop': 1027, 'drag': 1028, 'haunt': 1029, 'pointless': 1030, 'suspect': 1031, 'search': 1032, 'edg': 1033, 'handl': 1034, 'common': 1035, 'biggest': 1036, 'faith': 1037, 'hurt': 1038, 'arriv': 1039, 'technic': 1040, 'angel': 1041, 'genuin': 1042, 'dad': 1043, 'awesom': 1044, 'f': 1045, 'solid': 1046, 'focu': 1047, 'former': 1048, 'colleg': 1049, 'van': 1050, 'count': 1051, 'heavi': 1052, 'tear': 1053, 'rais': 1054, 'wall': 1055, 'visit': 1056, 'laughabl': 1057, 'younger': 1058, 'excus': 1059, 'sign': 1060, 'fair': 1061, 'cult': 1062, 'tough': 1063, 'key': 1064, 'motion': 1065, 'super': 1066, 'desir': 1067, 'addit': 1068, 'stun': 1069, 'cloth': 1070, 'exploit': 1071, 'tortur': 1072, 'smith': 1073, 'race': 1074, 'davi': 1075, 'author': 1076, 'cross': 1077, 'jim': 1078, 'compel': 1079, 'focus': 1080, 'consist': 1081, 'minor': 1082, 'pathet': 1083, 'chemistri': 1084, 'commit': 1085, 'park': 1086, 'frank': 1087, 'obsess': 1088, 'tradit': 1089, 'grade': 1090, 'asid': 1091, '60': 1092, 'brutal': 1093, 'somewher': 1094, 'steve': 1095, 'explor': 1096, 'grant': 1097, 'depress': 1098, 'opportun': 1099, 'rule': 1100, 'u': 1101, 'honest': 1102, 'besid': 1103, 'dub': 1104, 'anti': 1105, 'intend': 1106, 'trailer': 1107, 'bar': 1108, 'longer': 1109, 'west': 1110, 'scientist': 1111, 'regard': 1112, 'decad': 1113, 'judg': 1114, 'silent': 1115, 'creativ': 1116, 'armi': 1117, 'wild': 1118, 'g': 1119, 'stewart': 1120, 'south': 1121, 'draw': 1122, 'road': 1123, 'govern': 1124, 'ex': 1125, 'boss': 1126, 'practic': 1127, 'club': 1128, 'motiv': 1129, 'festiv': 1130, 'surprisingli': 1131, 'gang': 1132, 'redeem': 1133, 'london': 1134, 'green': 1135, 'page': 1136, 'militari': 1137, 'machin': 1138, 'aliv': 1139, 'display': 1140, 'idiot': 1141, 'repeat': 1142, 'thrill': 1143, 'yeah': 1144, 'folk': 1145, '100': 1146, 'nobodi': 1147, '40': 1148, 'garbag': 1149, 'journey': 1150, 'smile': 1151, 'tire': 1152, 'ground': 1153, 'mood': 1154, 'bought': 1155, 'stone': 1156, 'cost': 1157, 'sam': 1158, 'mouth': 1159, 'noir': 1160, 'terrif': 1161, 'agent': 1162, 'requir': 1163, 'utterli': 1164, 'area': 1165, 'sexi': 1166, 'honestli': 1167, 'geniu': 1168, 'report': 1169, 'humour': 1170, 'glad': 1171, 'enter': 1172, 'investig': 1173, 'serial': 1174, 'narr': 1175, 'occasion': 1176, 'passion': 1177, 'marriag': 1178, 'climax': 1179, 'studi': 1180, 'industri': 1181, 'nowher': 1182, 'center': 1183, 'ship': 1184, 'demon': 1185, 'charli': 1186, 'hors': 1187, 'loos': 1188, 'bear': 1189, 'wow': 1190, 'hang': 1191, 'graphic': 1192, 'giant': 1193, 'admir': 1194, 'send': 1195, 'damn': 1196, 'loud': 1197, 'subtl': 1198, 'profession': 1199, 'rel': 1200, 'nake': 1201, 'blow': 1202, 'bottom': 1203, 'insult': 1204, 'batman': 1205, 'boyfriend': 1206, 'r': 1207, 'doubl': 1208, 'kelli': 1209, 'initi': 1210, 'frame': 1211, 'gem': 1212, 'opera': 1213, 'challeng': 1214, 'affect': 1215, 'church': 1216, 'drawn': 1217, 'cinemat': 1218, 'fulli': 1219, 'nightmar': 1220, 'j': 1221, 'l': 1222, 'evid': 1223, 'seek': 1224, 'conflict': 1225, 'arm': 1226, 'essenti': 1227, 'christoph': 1228, 'grace': 1229, 'wind': 1230, 'henri': 1231, 'assum': 1232, 'narrat': 1233, 'witch': 1234, 'push': 1235, 'hunt': 1236, 'wise': 1237, 'chri': 1238, 'repres': 1239, 'month': 1240, 'nomin': 1241, 'affair': 1242, 'sceneri': 1243, 'hide': 1244, 'avail': 1245, 'thu': 1246, 'smart': 1247, 'bond': 1248, 'justic': 1249, 'interview': 1250, 'flashback': 1251, 'outstand': 1252, 'constantli': 1253, 'satisfi': 1254, 'presenc': 1255, 'central': 1256, 'bed': 1257, 'content': 1258, 'iron': 1259, 'sell': 1260, 'everybodi': 1261, 'gag': 1262, 'hotel': 1263, 'slowli': 1264, 'hire': 1265, 'system': 1266, 'thrown': 1267, 'adam': 1268, 'hey': 1269, 'individu': 1270, 'charl': 1271, 'jone': 1272, 'mediocr': 1273, 'allen': 1274, 'lesson': 1275, 'ray': 1276, 'billi': 1277, 'photographi': 1278, 'cameo': 1279, 'pari': 1280, 'fellow': 1281, 'strike': 1282, 'independ': 1283, 'brief': 1284, 'rise': 1285, 'absurd': 1286, 'neg': 1287, 'phone': 1288, 'impact': 1289, 'model': 1290, 'ill': 1291, 'born': 1292, 'fresh': 1293, 'angl': 1294, 'spoil': 1295, 'likabl': 1296, 'abus': 1297, 'discuss': 1298, 'hill': 1299, 'ahead': 1300, 'sight': 1301, 'sent': 1302, 'photograph': 1303, 'blame': 1304, 'occur': 1305, 'shine': 1306, 'logic': 1307, 'mainli': 1308, 'bruce': 1309, 'forev': 1310, 'skip': 1311, 'commerci': 1312, 'surround': 1313, 'held': 1314, 'segment': 1315, 'teacher': 1316, 'blond': 1317, 'zero': 1318, 'trap': 1319, 'resembl': 1320, 'satir': 1321, 'summer': 1322, 'queen': 1323, 'fool': 1324, 'six': 1325, 'ball': 1326, 'tragedi': 1327, 'twice': 1328, 'sub': 1329, 'pack': 1330, 'reaction': 1331, 'bomb': 1332, 'hospit': 1333, 'will': 1334, 'protagonist': 1335, 'mile': 1336, 'sport': 1337, 'drink': 1338, 'jerri': 1339, 'vote': 1340, 'mom': 1341, 'trust': 1342, 'encount': 1343, 'plane': 1344, 'station': 1345, 'current': 1346, 'program': 1347, 'al': 1348, 'celebr': 1349, 'choos': 1350, 'martin': 1351, 'join': 1352, 'field': 1353, 'round': 1354, 'lord': 1355, 'favourit': 1356, 'tragic': 1357, 'robot': 1358, 'vision': 1359, 'jean': 1360, 'tie': 1361, 'arthur': 1362, 'fortun': 1363, 'roger': 1364, 'random': 1365, 'intern': 1366, 'psycholog': 1367, 'dread': 1368, 'epic': 1369, 'prefer': 1370, 'improv': 1371, 'nonsens': 1372, 'formula': 1373, 'legend': 1374, 'highlight': 1375, 'pleasur': 1376, 'dollar': 1377, 'tape': 1378, '11': 1379, 'object': 1380, 'gorgeou': 1381, 'wide': 1382, 'fox': 1383, 'thin': 1384, 'porn': 1385, 'ugli': 1386, 'influenc': 1387, 'buddi': 1388, 'prepar': 1389, 'nasti': 1390, 'ii': 1391, 'warm': 1392, 'reflect': 1393, 'progress': 1394, 'supposedli': 1395, 'worthi': 1396, 'youth': 1397, 'length': 1398, 'latter': 1399, 'unusu': 1400, 'crash': 1401, 'shop': 1402, 'childhood': 1403, 'seven': 1404, 'superior': 1405, 'remot': 1406, 'theatr': 1407, 'funniest': 1408, 'paid': 1409, 'disgust': 1410, 'pilot': 1411, 'convers': 1412, 'trick': 1413, 'fell': 1414, 'castl': 1415, 'gangster': 1416, 'disast': 1417, 'establish': 1418, 'rob': 1419, 'ident': 1420, 'disappear': 1421, 'suicid': 1422, 'mine': 1423, 'heaven': 1424, 'heroin': 1425, 'forgotten': 1426, 'mask': 1427, 'decis': 1428, 'singer': 1429, 'tend': 1430, 'brian': 1431, 'partner': 1432, 'alan': 1433, 'recogn': 1434, 'desert': 1435, 'stuck': 1436, 'p': 1437, 'sky': 1438, 'thoroughli': 1439, 'ms': 1440, 'accur': 1441, 'replac': 1442, 'market': 1443, 'uncl': 1444, 'commentari': 1445, 'danni': 1446, 'andi': 1447, 'eddi': 1448, 'clue': 1449, 'seemingli': 1450, 'jackson': 1451, 'devil': 1452, 'that': 1453, 'pair': 1454, 'refus': 1455, 'therefor': 1456, 'fate': 1457, 'unit': 1458, 'fault': 1459, 'ed': 1460, 'accid': 1461, 'river': 1462, 'afraid': 1463, 'tune': 1464, 'clean': 1465, 'stephen': 1466, 'hidden': 1467, 'russian': 1468, 'instanc': 1469, 'irrit': 1470, 'quick': 1471, 'readi': 1472, 'captain': 1473, 'test': 1474, 'convey': 1475, 'european': 1476, 'frustrat': 1477, 'daniel': 1478, 'insan': 1479, 'wed': 1480, 'food': 1481, 'rescu': 1482, 'chines': 1483, '1950': 1484, 'lock': 1485, 'dirti': 1486, 'angri': 1487, 'joy': 1488, 'price': 1489, 'steven': 1490, 'bland': 1491, 'cage': 1492, 'anymor': 1493, 'rang': 1494, 'wooden': 1495, 'n': 1496, 'rush': 1497, 'jason': 1498, 'news': 1499, 'board': 1500, 'twenti': 1501, 'martial': 1502, '12': 1503, 'worri': 1504, 'led': 1505, 'symbol': 1506, 'transform': 1507, 'hunter': 1508, 'cgi': 1509, 'onto': 1510, 'x': 1511, 'sentiment': 1512, 'johnni': 1513, 'invent': 1514, 'piti': 1515, 'process': 1516, 'explan': 1517, 'attitud': 1518, 'owner': 1519, 'awar': 1520, 'aim': 1521, 'necessari': 1522, 'floor': 1523, 'target': 1524, 'favor': 1525, 'energi': 1526, 'opposit': 1527, 'religi': 1528, 'window': 1529, 'insight': 1530, 'blind': 1531, 'chick': 1532, 'movement': 1533, 'possess': 1534, 'deepli': 1535, 'comparison': 1536, 'research': 1537, 'mountain': 1538, 'comed': 1539, 'rain': 1540, 'grand': 1541, 'whatsoev': 1542, 'mid': 1543, 'began': 1544, 'shadow': 1545, 'bank': 1546, 'parodi': 1547, 'princ': 1548, 'credibl': 1549, 'taylor': 1550, 'weapon': 1551, 'friendship': 1552, 'pre': 1553, 'flesh': 1554, 'teach': 1555, 'dougla': 1556, 'protect': 1557, 'bloodi': 1558, 'terror': 1559, 'hint': 1560, 'marvel': 1561, 'accord': 1562, 'watchabl': 1563, 'drunk': 1564, 'leader': 1565, 'anybodi': 1566, 'load': 1567, 'superman': 1568, 'brown': 1569, 'freddi': 1570, 'seat': 1571, 'tim': 1572, 'jeff': 1573, 'hitler': 1574, 'appropri': 1575, 'unknown': 1576, 'knock': 1577, 'villag': 1578, 'keaton': 1579, 'charg': 1580, 'enemi': 1581, 'empti': 1582, 'media': 1583, 'england': 1584, 'unnecessari': 1585, 'strength': 1586, 'utter': 1587, 'perspect': 1588, 'buck': 1589, 'dare': 1590, 'craft': 1591, 'wave': 1592, 'contrast': 1593, 'nativ': 1594, 'kiss': 1595, 'ford': 1596, 'correct': 1597, 'soap': 1598, 'magnific': 1599, 'anywher': 1600, 'chill': 1601, 'knowledg': 1602, 'distract': 1603, 'nazi': 1604, 'speed': 1605, 'breath': 1606, 'ice': 1607, 'mission': 1608, '1980': 1609, 'fred': 1610, 'crowd': 1611, 'jr': 1612, 'joan': 1613, 'moon': 1614, 'frighten': 1615, 'soft': 1616, 'kate': 1617, '000': 1618, 'hundr': 1619, 'dick': 1620, 'dan': 1621, 'nick': 1622, 'radio': 1623, 'somebodi': 1624, 'dozen': 1625, 'simon': 1626, 'shakespear': 1627, 'thousand': 1628, 'loss': 1629, 'andrew': 1630, 'academi': 1631, 'sum': 1632, 'root': 1633, 'quot': 1634, 'vehicl': 1635, 'account': 1636, 'leg': 1637, 'behavior': 1638, '1970': 1639, 'convent': 1640, 'regular': 1641, 'gold': 1642, 'demand': 1643, 'worker': 1644, 'compet': 1645, 'pretenti': 1646, 'privat': 1647, 'lynch': 1648, 'candi': 1649, 'notabl': 1650, 'explos': 1651, 'stretch': 1652, 'japan': 1653, 'interpret': 1654, 'constant': 1655, 'debut': 1656, 'tarzan': 1657, 'prais': 1658, 'spi': 1659, 'translat': 1660, 'revolv': 1661, 'sea': 1662, 'franc': 1663, 'threaten': 1664, 'failur': 1665, 'quiet': 1666, 'ass': 1667, 'technolog': 1668, 'sat': 1669, 'jesu': 1670, 'kevin': 1671, 'met': 1672, 'punch': 1673, 'toy': 1674, 'higher': 1675, 'aid': 1676, 'vh': 1677, 'interact': 1678, 'mike': 1679, 'abandon': 1680, 'separ': 1681, 'command': 1682, 'confront': 1683, 'bet': 1684, 'gotten': 1685, 'servic': 1686, 'stunt': 1687, 'belong': 1688, 'recal': 1689, 'site': 1690, 'techniqu': 1691, 'cabl': 1692, 'bug': 1693, 'foot': 1694, 'freak': 1695, 'bright': 1696, 'african': 1697, 'jimmi': 1698, 'capabl': 1699, 'fu': 1700, 'stock': 1701, 'fat': 1702, 'clark': 1703, 'presid': 1704, 'succeed': 1705, 'boat': 1706, 'structur': 1707, 'gene': 1708, 'spanish': 1709, 'paper': 1710, 'kidnap': 1711, 'whilst': 1712, 'factor': 1713, 'belief': 1714, 'realism': 1715, 'realis': 1716, 'complic': 1717, 'bob': 1718, 'tree': 1719, 'educ': 1720, 'attend': 1721, 'witti': 1722, 'finest': 1723, 'assist': 1724, 'broken': 1725, 'santa': 1726, 'smoke': 1727, 'depart': 1728, 'determin': 1729, 'observ': 1730, 'up': 1731, 'v': 1732, 'domin': 1733, 'rubbish': 1734, 'routin': 1735, 'fame': 1736, 'oper': 1737, 'lewi': 1738, 'hat': 1739, 'morgan': 1740, 'lone': 1741, 'kinda': 1742, 'safe': 1743, 'advanc': 1744, 'foreign': 1745, 'hook': 1746, 'numer': 1747, 'rank': 1748, 'rose': 1749, 'civil': 1750, 'shallow': 1751, 'vs': 1752, 'shape': 1753, 'washington': 1754, 'werewolf': 1755, 'gari': 1756, 'morn': 1757, 'kong': 1758, 'ordinari': 1759, 'winner': 1760, 'accomplish': 1761, 'virtual': 1762, 'whenev': 1763, 'grab': 1764, 'peac': 1765, 'h': 1766, 'luck': 1767, 'offens': 1768, 'bigger': 1769, 'contriv': 1770, 'welcom': 1771, 'unfunni': 1772, 'activ': 1773, 'patient': 1774, 'complain': 1775, 'pretend': 1776, 'con': 1777, 'trek': 1778, 'dimension': 1779, 'wake': 1780, 'code': 1781, 'dri': 1782, 'eric': 1783, 'flash': 1784, 'cain': 1785, 'lesbian': 1786, 'manipul': 1787, 'corrupt': 1788, 'guard': 1789, 'statu': 1790, 'albert': 1791, 'dancer': 1792, 'context': 1793, 'gain': 1794, 'awkward': 1795, 'sourc': 1796, 'speech': 1797, 'signific': 1798, 'sean': 1799, 'corni': 1800, '13': 1801, 'anthoni': 1802, 'clip': 1803, 'psycho': 1804, 'religion': 1805, 'theatric': 1806, 'reli': 1807, 'curiou': 1808, 'w': 1809, 'priest': 1810, 'advic': 1811, 'addict': 1812, 'flow': 1813, 'jennif': 1814, 'skin': 1815, 'howard': 1816, 'specif': 1817, 'secur': 1818, 'asian': 1819, 'core': 1820, 'promot': 1821, 'organ': 1822, 'luke': 1823, 'golden': 1824, 'comfort': 1825, 'cheat': 1826, 'cash': 1827, 'lucki': 1828, 'associ': 1829, 'lower': 1830, 'dislik': 1831, 'balanc': 1832, 'contribut': 1833, 'frequent': 1834, 'frankli': 1835, 'devic': 1836, 'regret': 1837, 'degre': 1838, 'wing': 1839, 'spell': 1840, 'print': 1841, 'lake': 1842, 'sake': 1843, 'forgiv': 1844, 'mass': 1845, 'thoma': 1846, 'betti': 1847, 'unexpect': 1848, 'crack': 1849, 'gordon': 1850, 'unfold': 1851, 'categori': 1852, 'grown': 1853, 'invit': 1854, 'amateur': 1855, 'depend': 1856, 'construct': 1857, 'anna': 1858, 'walter': 1859, 'condit': 1860, 'grew': 1861, 'matur': 1862, 'honor': 1863, 'intellectu': 1864, 'sole': 1865, 'sudden': 1866, 'mirror': 1867, 'veteran': 1868, 'spectacular': 1869, 'gift': 1870, 'meanwhil': 1871, 'overli': 1872, 'demonstr': 1873, 'experienc': 1874, 'freedom': 1875, 'robin': 1876, 'grip': 1877, 'card': 1878, 'liner': 1879, 'unabl': 1880, 'drew': 1881, 'brilliantli': 1882, 'section': 1883, 'oliv': 1884, 'crappi': 1885, 'theori': 1886, 'circumst': 1887, 'sheriff': 1888, 'subtitl': 1889, 'colour': 1890, 'altern': 1891, 'pile': 1892, 'path': 1893, 'matt': 1894, 'laughter': 1895, 'parker': 1896, 'cook': 1897, 'sheer': 1898, 'hall': 1899, 'treatment': 1900, 'wander': 1901, 'lawyer': 1902, 'sinatra': 1903, 'accident': 1904, 'defin': 1905, 'relief': 1906, 'captiv': 1907, 'hank': 1908, 'dragon': 1909, 'moor': 1910, 'halloween': 1911, 'gratuit': 1912, 'cowboy': 1913, 'barbara': 1914, 'k': 1915, 'unintent': 1916, 'wound': 1917, 'jacki': 1918, 'wayn': 1919, 'broadway': 1920, 'kung': 1921, 'spoof': 1922, 'canadian': 1923, 'surreal': 1924, 'statement': 1925, 'winter': 1926, 'gonna': 1927, 'cheer': 1928, 'fish': 1929, 'fare': 1930, 'treasur': 1931, 'compos': 1932, 'emerg': 1933, 'victor': 1934, 'woodi': 1935, 'sensit': 1936, 'unrealist': 1937, 'sympathet': 1938, 'ran': 1939, 'neighbor': 1940, 'driven': 1941, 'overlook': 1942, 'topic': 1943, 'menac': 1944, 'authent': 1945, 'expos': 1946, 'glass': 1947, 'gross': 1948, 'michel': 1949, 'handsom': 1950, 'ancient': 1951, 'chief': 1952, 'contemporari': 1953, 'built': 1954, 'comedian': 1955, 'feet': 1956, 'stranger': 1957, 'nevertheless': 1958, 'pleasant': 1959, 'russel': 1960, 'network': 1961, 'cinderella': 1962, 'miser': 1963, 'endless': 1964, 'blockbust': 1965, 'letter': 1966, 'earn': 1967, 'underr': 1968, 'gori': 1969, 'consider': 1970, 'solv': 1971, 'brook': 1972, 'switch': 1973, 'edward': 1974, 'convict': 1975, 'joseph': 1976, 'bullet': 1977, 'virgin': 1978, 'victoria': 1979, '0': 1980, 'chosen': 1981, 'scenario': 1982, 'scale': 1983, 'alex': 1984, 'cynic': 1985, 'sword': 1986, 'com': 1987, 'gut': 1988, 'outrag': 1989, 'curs': 1990, 'proper': 1991, 'wrap': 1992, 'driver': 1993, 'uk': 1994, 'juli': 1995, 'substanc': 1996, 'screenwrit': 1997, 'monkey': 1998, 'bird': 1999, 'indic': 2000, 'remov': 2001, 'par': 2002, 'court': 2003, 'nanci': 2004, 'rental': 2005, 'grave': 2006, 'naiv': 2007, 'loser': 2008, 'advertis': 2009, 'consequ': 2010, 'inevit': 2011, 'roy': 2012, 'invis': 2013, 'germani': 2014, 'fatal': 2015, 'slap': 2016, 'brave': 2017, 'le': 2018, 'bridg': 2019, 'footbal': 2020, 'provok': 2021, 'ador': 2022, 'anger': 2023, 'loui': 2024, 'anderson': 2025, 'chan': 2026, 'alcohol': 2027, 'stumbl': 2028, 'ryan': 2029, 'professor': 2030, 'willi': 2031, 'patrick': 2032, 'bat': 2033, '1930': 2034, 'sharp': 2035, 'australian': 2036, 'assassin': 2037, 'trilog': 2038, 'cell': 2039, 'deni': 2040, 'saturday': 2041, 'lousi': 2042, 'strongli': 2043, 'liber': 2044, 'heck': 2045, 'eight': 2046, 'refresh': 2047, 'ape': 2048, 'amateurish': 2049, 'sin': 2050, 'resid': 2051, 'san': 2052, 'justifi': 2053, 'vagu': 2054, 'sympathi': 2055, 'indi': 2056, 'creator': 2057, 'mini': 2058, 'terrifi': 2059, 'reput': 2060, 'defeat': 2061, 'expert': 2062, 'endur': 2063, 'task': 2064, 'tabl': 2065, 'prevent': 2066, 'tediou': 2067, 'employ': 2068, 'rival': 2069, 'imit': 2070, 'offend': 2071, 'trial': 2072, 'che': 2073, 'basebal': 2074, 'dig': 2075, 'fairi': 2076, 'europ': 2077, 'beach': 2078, 'complaint': 2079, 'max': 2080, 'pitch': 2081, 'weekend': 2082, 'format': 2083, 'murphi': 2084, 'purchas': 2085, 'risk': 2086, 'bite': 2087, 'glimps': 2088, 'tini': 2089, 'nois': 2090, 'hype': 2091, 'reminisc': 2092, 'powel': 2093, 'harsh': 2094, 'titan': 2095, 'strip': 2096, 'fals': 2097, 'till': 2098, 'prime': 2099, 'north': 2100, '14': 2101, 'asleep': 2102, 'descript': 2103, 'texa': 2104, 'revel': 2105, 'destruct': 2106, 'africa': 2107, 'surfac': 2108, 'uninterest': 2109, 'arrest': 2110, 'spin': 2111, 'semi': 2112, 'inner': 2113, 'sitcom': 2114, 'excess': 2115, 'maintain': 2116, 'massiv': 2117, 'argu': 2118, 'dinosaur': 2119, 'controversi': 2120, 'twin': 2121, 'hitchcock': 2122, 'makeup': 2123, 'stare': 2124, 'insist': 2125, 'expens': 2126, 'kim': 2127, 'ludicr': 2128, 'reject': 2129, 'melodrama': 2130, 'ideal': 2131, 'erot': 2132, 'host': 2133, 'ala': 2134, 'supernatur': 2135, 'subplot': 2136, 'ga': 2137, 'nail': 2138, 'press': 2139, 'forest': 2140, 'atroci': 2141, 'columbo': 2142, 'presum': 2143, 'notch': 2144, 'cant': 2145, 'dude': 2146, 'identifi': 2147, 'closer': 2148, 'method': 2149, 'character': 2150, 'plagu': 2151, 'guest': 2152, 'forgett': 2153, 'crude': 2154, 'ear': 2155, 'princess': 2156, 'border': 2157, 'landscap': 2158, 'lion': 2159, 'beast': 2160, 'foster': 2161, 'urban': 2162, 'damag': 2163, 'storytel': 2164, 'previous': 2165, 'jungl': 2166, 'birth': 2167, 'accus': 2168, 'aunt': 2169, 'bound': 2170, 'pacino': 2171, 'doll': 2172, 'propaganda': 2173, 'chose': 2174, 'emma': 2175, 'thirti': 2176, 'guid': 2177, 'nude': 2178, 'jess': 2179, 'mate': 2180, 'pet': 2181, 'mainstream': 2182, 'whoever': 2183, '25': 2184, 'warrior': 2185, 'merit': 2186, 'size': 2187, 'upset': 2188, 'poster': 2189, 'exact': 2190, 'friday': 2191, 'latest': 2192, 'cooper': 2193, 'gritti': 2194, 'deadli': 2195, 'settl': 2196, 'ton': 2197, 'wilson': 2198, 'blend': 2199, 'warner': 2200, 'sun': 2201, 'contest': 2202, 'popul': 2203, 'buff': 2204, 'citizen': 2205, 'contact': 2206, 'rough': 2207, '1990': 2208, 'corps': 2209, 'mgm': 2210, 'overcom': 2211, 'bu': 2212, 'select': 2213, 'pitt': 2214, 'metal': 2215, 'alic': 2216, 'environ': 2217, 'rat': 2218, 'widow': 2219, 'lift': 2220, 'particip': 2221, 'guilti': 2222, 'link': 2223, 'revolut': 2224, 'ted': 2225, 'corner': 2226, 'afternoon': 2227, 'moron': 2228, 'exagger': 2229, 'corpor': 2230, 'accompani': 2231, 'prostitut': 2232, '1960': 2233, 'matrix': 2234, 'johnson': 2235, 'friendli': 2236, 'multipl': 2237, 'holm': 2238, 'leagu': 2239, 'doom': 2240, 'instal': 2241, 'hood': 2242, 'sincer': 2243, 'clair': 2244, 'blah': 2245, 'lugosi': 2246, 'examin': 2247, 'hip': 2248, 'grim': 2249, 'junk': 2250, 'string': 2251, 'sunday': 2252, 'campi': 2253, 'defend': 2254, 'advis': 2255, 'irish': 2256, 'aka': 2257, 'confid': 2258, 'shake': 2259, 'shut': 2260, 'icon': 2261, 'rachel': 2262, 'varieti': 2263, 'tight': 2264, 'pro': 2265, 'denni': 2266, 'medic': 2267, 'directli': 2268, 'goal': 2269, 'jaw': 2270, 'sullivan': 2271, 'attach': 2272, 'mexican': 2273, 'truck': 2274, 'sentenc': 2275, 'terrorist': 2276, 'prior': 2277, 'bourn': 2278, 'breast': 2279, 'legendari': 2280, 'courag': 2281, 'duke': 2282, 'sarah': 2283, 'vietnam': 2284, 'dean': 2285, 'split': 2286, 'un': 2287, 'donald': 2288, 'nose': 2289, 'proceed': 2290, 'yell': 2291, 'behav': 2292, 'entri': 2293, 'hong': 2294, 'forth': 2295, 'unconvinc': 2296, 'crush': 2297, 'lifetim': 2298, 'jerk': 2299, 'concentr': 2300, 'confess': 2301, 'stolen': 2302, 'borrow': 2303, 'swim': 2304, 'buri': 2305, 'everywher': 2306, 'gather': 2307, 'turkey': 2308, 'spite': 2309, 'california': 2310, 'deliveri': 2311, 'pan': 2312, 'julia': 2313, 'lip': 2314, 'flight': 2315, 'reward': 2316, 'offici': 2317, 'freeman': 2318, 'quest': 2319, 'proud': 2320, 'downright': 2321, 'hoffman': 2322, 'china': 2323, 'sink': 2324, 'jail': 2325, 'betray': 2326, 'encourag': 2327, 'notori': 2328, 'fade': 2329, 'sir': 2330, 'fabul': 2331, 'lazi': 2332, 'worthwhil': 2333, 'inept': 2334, 'jon': 2335, 'teeth': 2336, 'imageri': 2337, 'bag': 2338, 'bell': 2339, 'survivor': 2340, 'retard': 2341, 'relev': 2342, 'cousin': 2343, 'shower': 2344, 'susan': 2345, 'storm': 2346, 'lisa': 2347, 'branagh': 2348, 'summari': 2349, 'finger': 2350, 'facial': 2351, 'quirki': 2352, 'mexico': 2353, 'toler': 2354, 'alright': 2355, 'hugh': 2356, 'tremend': 2357, 'trade': 2358, 'bride': 2359, 'shark': 2360, 'stab': 2361, 'ha': 2362, 'pose': 2363, 'blown': 2364, 'von': 2365, 'bitter': 2366, 'hyster': 2367, 'scheme': 2368, 'larri': 2369, 'bone': 2370, 'christ': 2371, 'ron': 2372, 'cruel': 2373, 'afterward': 2374, 'ned': 2375, 'address': 2376, 'snake': 2377, 'thumb': 2378, 'tour': 2379, 'beg': 2380, 'distinct': 2381, 'swear': 2382, 'pursu': 2383, 'screw': 2384, 'feed': 2385, 'traci': 2386, 'chair': 2387, 'obscur': 2388, 'stomach': 2389, 'mechan': 2390, 'raw': 2391, 'occas': 2392, 'photo': 2393, 'cabin': 2394, 'sidney': 2395, 'argument': 2396, 'holiday': 2397, 'hardi': 2398, 'gruesom': 2399, 'chain': 2400, 'resist': 2401, 'necessarili': 2402, 'heavili': 2403, 'render': 2404, 'southern': 2405, 'indulg': 2406, 'racist': 2407, 'understood': 2408, 'india': 2409, 'philip': 2410, 'satan': 2411, 'midnight': 2412, 'integr': 2413, 'lay': 2414, 'outfit': 2415, 'fourth': 2416, 'obnoxi': 2417, 'stalk': 2418, 'pregnant': 2419, 'belov': 2420, 'tongu': 2421, 'forgot': 2422, 'restor': 2423, 'inhabit': 2424, 'slapstick': 2425, 'deeper': 2426, 'magazin': 2427, '17': 2428, 'carol': 2429, 'ticket': 2430, 'garden': 2431, 'shoe': 2432, 'devot': 2433, 'brad': 2434, 'incid': 2435, 'lincoln': 2436, 'anticip': 2437, 'divorc': 2438, 'guarante': 2439, 'benefit': 2440, 'disbelief': 2441, 'maria': 2442, 'underground': 2443, 'elizabeth': 2444, 'lili': 2445, 'sandler': 2446, 'creation': 2447, 'greater': 2448, 'slave': 2449, 'mildli': 2450, 'princip': 2451, 'cring': 2452, 'capit': 2453, 'explod': 2454, 'bbc': 2455, 'amazingli': 2456, 'lesli': 2457, 'funnier': 2458, 'introduct': 2459, 'extraordinari': 2460, 'halfway': 2461, 'extent': 2462, 'wreck': 2463, 'advantag': 2464, 'overwhelm': 2465, 'text': 2466, 'punish': 2467, 'tap': 2468, 'enhanc': 2469, 'transfer': 2470, 'east': 2471, 'dynam': 2472, 'jessica': 2473, 'error': 2474, 'lo': 2475, 'preview': 2476, 'deliber': 2477, 'lane': 2478, 'plant': 2479, 'horrif': 2480, '2000': 2481, 'basi': 2482, 'homosexu': 2483, 'vincent': 2484, 'appli': 2485, 'vacat': 2486, 'sophist': 2487, 'miscast': 2488, 'miller': 2489, 'ensu': 2490, 'uncomfort': 2491, 'reed': 2492, 'elev': 2493, 'bollywood': 2494, 'via': 2495, 'mansion': 2496, 'extend': 2497, 'sleazi': 2498, 'measur': 2499, 'spoken': 2500, 'steel': 2501, 'daili': 2502, 'goofi': 2503, 'cathol': 2504, 'conceiv': 2505, 'assign': 2506, 'alter': 2507, 'breathtak': 2508, 'stanley': 2509, 'hippi': 2510, 'overact': 2511, 'melt': 2512, 'beer': 2513, 'blair': 2514, 'savag': 2515, 'dentist': 2516, 'fix': 2517, 'mous': 2518, 'sacrific': 2519, 'nowaday': 2520, 'everyday': 2521, 'succe': 2522, 'inspector': 2523, 'carpent': 2524, 'properli': 2525, 'oppos': 2526, 'subsequ': 2527, 'burt': 2528, 'circl': 2529, 'massacr': 2530, 'neck': 2531, 'laura': 2532, 'block': 2533, 'mob': 2534, 'portrait': 2535, 'christi': 2536, 'fay': 2537, 'access': 2538, 'concert': 2539, 'pool': 2540, 'fallen': 2541, 'lesser': 2542, 'grey': 2543, 'seagal': 2544, 'isol': 2545, 'relax': 2546, 'competit': 2547, 'jewish': 2548, 'chees': 2549, 'usa': 2550, 'sinist': 2551, 'react': 2552, 'jake': 2553, 'creep': 2554, 'immens': 2555, 'ironi': 2556, 'spiritu': 2557, '2006': 2558, 'appal': 2559, 'stink': 2560, 'lyric': 2561, 'nonetheless': 2562, 'chop': 2563, 'suitabl': 2564, 'nine': 2565, 'user': 2566, 'rage': 2567, 'adopt': 2568, 'sold': 2569, 'spring': 2570, 'franchis': 2571, 'nut': 2572, 'retir': 2573, 'navi': 2574, 'shirt': 2575, 'needless': 2576, 'showcas': 2577, 'reduc': 2578, 'luci': 2579, 'bath': 2580, 'digit': 2581, 'zone': 2582, 'stanwyck': 2583, 'per': 2584, 'bulli': 2585, 'nurs': 2586, 'uninspir': 2587, 'jay': 2588, 'asham': 2589, '1940': 2590, 'sutherland': 2591, 'upper': 2592, 'illustr': 2593, 'broadcast': 2594, '2001': 2595, 'laid': 2596, 'amongst': 2597, 'oddli': 2598, 'aspir': 2599, 'throat': 2600, 'fulfil': 2601, 'baker': 2602, 'disguis': 2603, 'brando': 2604, 'stylish': 2605, 'neighborhood': 2606, '18': 2607, 'wanna': 2608, 'pride': 2609, 'impli': 2610, 'wwii': 2611, 'em': 2612, 'thief': 2613, 'endear': 2614, 'pound': 2615, 'nobl': 2616, 'prop': 2617, 'diseas': 2618, '16': 2619, 'coher': 2620, 'dinner': 2621, 'shoulder': 2622, 'cinematograph': 2623, 'distribut': 2624, 'rochest': 2625, 'bett': 2626, 'shift': 2627, 'dawn': 2628, 'albeit': 2629, 'bo': 2630, 'tens': 2631, 'forti': 2632, 'surf': 2633, 'shout': 2634, 'contract': 2635, 'silenc': 2636, 'snow': 2637, 'poignant': 2638, 'function': 2639, 'matthau': 2640, 'rebel': 2641, 'wash': 2642, 'knife': 2643, 'horrend': 2644, 'henc': 2645, 'mindless': 2646, 'internet': 2647, 'height': 2648, 'cannib': 2649, 'chuck': 2650, 'duti': 2651, 'heat': 2652, 'elvira': 2653, 'derek': 2654, 'eeri': 2655, 'reunion': 2656, 'proof': 2657, 'silver': 2658, 'widmark': 2659, 'instinct': 2660, 'cancel': 2661, 'absorb': 2662, 'pie': 2663, 'mill': 2664, 'greatli': 2665, 'etern': 2666, 'premier': 2667, 'innov': 2668, 'incoher': 2669, 'repetit': 2670, 'glori': 2671, 'alik': 2672, 'neat': 2673, 'torn': 2674, 'musician': 2675, 'spielberg': 2676, 'elvi': 2677, 'trite': 2678, 'infam': 2679, 'lovabl': 2680, 'crisi': 2681, 'wealthi': 2682, 'burton': 2683, 'announc': 2684, 'britain': 2685, 'horrifi': 2686, 'blank': 2687, 'diamond': 2688, 'fbi': 2689, 'precis': 2690, 'racism': 2691, 'bang': 2692, 'nelson': 2693, 'redempt': 2694, 'homag': 2695, 'itali': 2696, 'resolut': 2697, 'parallel': 2698, 'dedic': 2699, 'flop': 2700, 'happili': 2701, 'pat': 2702, 'streisand': 2703, 'wilder': 2704, 'chaplin': 2705, 'ensembl': 2706, 'hammer': 2707, 'helen': 2708, 'disagre': 2709, 'factori': 2710, 'cube': 2711, 'carter': 2712, 'broke': 2713, 'triumph': 2714, 'plastic': 2715, 'conclud': 2716, 'oil': 2717, 'mar': 2718, 'st': 2719, 'vega': 2720, 'chuckl': 2721, 'weight': 2722, 'fighter': 2723, 'row': 2724, 'own': 2725, 'bush': 2726, 'march': 2727, 'rocket': 2728, 'climb': 2729, 'luca': 2730, 'enorm': 2731, 'boot': 2732, 'spare': 2733, 'mst3k': 2734, 'dump': 2735, 'lust': 2736, 'meaning': 2737, 'thug': 2738, 'unforgett': 2739, 'wherea': 2740, 'sensibl': 2741, 'kurt': 2742, 'dane': 2743, 'stress': 2744, 'caricatur': 2745, 'engin': 2746, 'threat': 2747, 'rap': 2748, 'brand': 2749, 'dear': 2750, 'bobbi': 2751, 'adequ': 2752, 'difficulti': 2753, 'butt': 2754, 'arnold': 2755, 'fifti': 2756, 'karloff': 2757, 'polish': 2758, 'swing': 2759, 'ralph': 2760, 'elabor': 2761, 'arrog': 2762, 'homeless': 2763, 'secretari': 2764, 'flynn': 2765, 'journalist': 2766, 'barri': 2767, 'fest': 2768, 'hamlet': 2769, 'ego': 2770, 'resort': 2771, 'tool': 2772, 'simpson': 2773, 'induc': 2774, 'float': 2775, 'puppet': 2776, 'spike': 2777, 'arrang': 2778, 'unbear': 2779, 'fanci': 2780, 'grate': 2781, 'conspiraci': 2782, 'basement': 2783, 'boll': 2784, 'exercis': 2785, 'pig': 2786, 'tribut': 2787, 'guilt': 2788, 'cruis': 2789, 'muppet': 2790, 'phillip': 2791, 'choreograph': 2792, 'fianc': 2793, 'slip': 2794, 'tower': 2795, 'medium': 2796, 'document': 2797, 'layer': 2798, '24': 2799, 'editor': 2800, 'puzzl': 2801, 'toilet': 2802, 'korean': 2803, 'file': 2804, 'ham': 2805, 'ward': 2806, 'babe': 2807, 'item': 2808, 'stan': 2809, 'scarecrow': 2810, 'glover': 2811, 'portion': 2812, 'persona': 2813, 'minim': 2814, 'larger': 2815, 'philosoph': 2816, 'orient': 2817, 'transit': 2818, 'doc': 2819, 'territori': 2820, 'denzel': 2821, 'assur': 2822, 'inexplic': 2823, 'slaughter': 2824, 'librari': 2825, 'superfici': 2826, 'spark': 2827, 'catherin': 2828, 'dorothi': 2829, 'jeremi': 2830, 'financi': 2831, 'shi': 2832, 'wolf': 2833, 'curti': 2834, 'sneak': 2835, 'pg': 2836, 'owe': 2837, 'ban': 2838, 'boredom': 2839, 'jet': 2840, 'walken': 2841, 'backdrop': 2842, 'ambigu': 2843, 'eleph': 2844, 'profound': 2845, 'multi': 2846, 'metaphor': 2847, 'cusack': 2848, 'hudson': 2849, 'whale': 2850, 'gadget': 2851, 'implaus': 2852, 'hack': 2853, 'stiff': 2854, 'union': 2855, '2005': 2856, 'birthday': 2857, 'ultra': 2858, 'elsewher': 2859, 'rave': 2860, 'notion': 2861, 'viru': 2862, 'pad': 2863, 'superhero': 2864, 'slight': 2865, 'eastwood': 2866, '1st': 2867, 'eva': 2868, 'deriv': 2869, 'disc': 2870, 'urg': 2871, 'newspap': 2872, 'poison': 2873, 'canada': 2874, 'afford': 2875, 'squar': 2876, 'lloyd': 2877, 'hawk': 2878, 'distanc': 2879, 'bibl': 2880, 'reader': 2881, 'sadist': 2882, 'heston': 2883, 'health': 2884, 'spread': 2885, 'essenc': 2886, 'skit': 2887, 'montag': 2888, 'charisma': 2889, 'huh': 2890, 'drown': 2891, 'button': 2892, 'restaur': 2893, 'cure': 2894, 'godfath': 2895, 'fetch': 2896, 'companion': 2897, 'muslim': 2898, 'gradual': 2899, 'invest': 2900, 'maniac': 2901, 'peak': 2902, 'scoobi': 2903, 'dealt': 2904, 'lab': 2905, 'estat': 2906, 'alli': 2907, 'subtleti': 2908, 'servant': 2909, 'tea': 2910, 'gothic': 2911, 'miik': 2912, 'cup': 2913, 'countless': 2914, 'kane': 2915, 'ritter': 2916, 'salli': 2917, 'heroic': 2918, 'briefli': 2919, 'electr': 2920, 'elect': 2921, 'charismat': 2922, 'iii': 2923, 'grandmoth': 2924, 'wannab': 2925, 'nuanc': 2926, 'resourc': 2927, 'ingredi': 2928, 'toss': 2929, 'tender': 2930, 'reel': 2931, 'cole': 2932, 'bud': 2933, 'admittedli': 2934, 'neil': 2935, 'mafia': 2936, 'pauli': 2937, 'mild': 2938, 'shall': 2939, 'label': 2940, 'stronger': 2941, 'gate': 2942, 'punk': 2943, 'kubrick': 2944, 'pit': 2945, 'poverti': 2946, 'reev': 2947, 'dawson': 2948, 'stood': 2949, 'carrey': 2950, 'useless': 2951, 'fond': 2952, 'burst': 2953, 'assault': 2954, 'outcom': 2955, 'smash': 2956, 'cardboard': 2957, 'easier': 2958, 'tag': 2959, 'terri': 2960, 'smooth': 2961, 'ian': 2962, 'updat': 2963, 'cox': 2964, 'bakshi': 2965, 'astair': 2966, 'increasingli': 2967, 'divers': 2968, 'resolv': 2969, 'sketch': 2970, 'coincid': 2971, 'rex': 2972, 'samurai': 2973, 'melodramat': 2974, 'exchang': 2975, 'vari': 2976, 'vulner': 2977, 'fist': 2978, '2002': 2979, 'qualifi': 2980, 'scratch': 2981, 'conveni': 2982, 'suspend': 2983, 'templ': 2984, 'luckili': 2985, 'blast': 2986, 'insert': 2987, 'be': 2988, 'reynold': 2989, 'tame': 2990, 'brillianc': 2991, 'pin': 2992, 'soprano': 2993, 'coach': 2994, 'walker': 2995, 'strictli': 2996, 'ambiti': 2997, 'jami': 2998, 'meat': 2999, 'seventi': 3000, 'gotta': 3001, 'farm': 3002, 'nuclear': 3003, 'hamilton': 3004, 'matthew': 3005, 'fisher': 3006, 'struck': 3007, 'ninja': 3008, 'recreat': 3009, 'clock': 3010, 'empir': 3011, 'timeless': 3012, 'revers': 3013, 'kudo': 3014, 'convolut': 3015, 'spooki': 3016, 'brosnan': 3017, 'discoveri': 3018, 'butcher': 3019, 'grasp': 3020, 'instantli': 3021, 'monk': 3022, 'closet': 3023, 'joey': 3024, 'worthless': 3025, 'cave': 3026, 'eccentr': 3027, 'bleak': 3028, 'pal': 3029, 'communist': 3030, 'norman': 3031, 'gray': 3032, 'clown': 3033, 'fifteen': 3034, 'cliff': 3035, 'eighti': 3036, 'wipe': 3037, 'sloppi': 3038, 'importantli': 3039, 'selfish': 3040, 'declar': 3041, 'sidekick': 3042, 'seller': 3043, 'mitchel': 3044, 'miracl': 3045, 'evok': 3046, 'partli': 3047, 'inconsist': 3048, 'psychiatrist': 3049, 'stoog': 3050, 'ho': 3051, 'debat': 3052, 'destin': 3053, '45': 3054, 'chew': 3055, 'websit': 3056, 'farc': 3057, 'piano': 3058, 'cheek': 3059, 'flawless': 3060, 'lifestyl': 3061, 'australia': 3062, 'superbl': 3063, 'aforement': 3064, 'enthusiast': 3065, 'seed': 3066, 'bash': 3067, 'pressur': 3068, 'kitchen': 3069, 'wick': 3070, 'splatter': 3071, 'akshay': 3072, 'dire': 3073, 'regardless': 3074, 'slice': 3075, 'soviet': 3076, 'abc': 3077, 'directori': 3078, 'emili': 3079, 'dash': 3080, 'drivel': 3081, 'anni': 3082, 'incompet': 3083, 'wrestl': 3084, 'dave': 3085, 'recov': 3086, 'increas': 3087, 'cagney': 3088, 'glow': 3089, 'beaten': 3090, 'distant': 3091, 'curios': 3092, 'cameron': 3093, 'jar': 3094, 'flower': 3095, 'ken': 3096, 'chapter': 3097, 'artifici': 3098, 'judi': 3099, 'cia': 3100, 'mann': 3101, 'doo': 3102, 'prize': 3103, 'pleasantli': 3104, 'blob': 3105, 'boil': 3106, 'suppli': 3107, 'duo': 3108, 'lou': 3109, 'helicopt': 3110, 'seduc': 3111, 'panic': 3112, 'glenn': 3113, 'drunken': 3114, 'francisco': 3115, 'laurel': 3116, 'favour': 3117, 'psychot': 3118, 'craig': 3119, 'splendid': 3120, 'web': 3121, 'craven': 3122, 'hop': 3123, 'ranger': 3124, 'ellen': 3125, 'perri': 3126, 'turner': 3127, 'combat': 3128, 'eleg': 3129, 'goldberg': 3130, 'plausibl': 3131, '20th': 3132, 'rid': 3133, 'slightest': 3134, 'greek': 3135, 'gentl': 3136, 'alexand': 3137, 'fx': 3138, 'graduat': 3139, 'modesti': 3140, 'ruth': 3141, 'flip': 3142, 'shortli': 3143, 'wizard': 3144, 'min': 3145, 'falk': 3146, 'hatr': 3147, 'philosophi': 3148, 'gandhi': 3149, 'felix': 3150, 'futurist': 3151, 'dracula': 3152, 'unpleas': 3153, 'preciou': 3154, 'knight': 3155, 'lend': 3156, 'legal': 3157, 'tall': 3158, 'we': 3159, 'harm': 3160, 'ocean': 3161, 'jealou': 3162, 'holi': 3163, 'fund': 3164, 'manhattan': 3165, 'bless': 3166, 'thread': 3167, 'ami': 3168, 'reviv': 3169, 'scientif': 3170, 'nod': 3171, 'digniti': 3172, 'mock': 3173, 'forbidden': 3174, 'tank': 3175, 'childish': 3176, 'explicit': 3177, 'overdon': 3178, 'giallo': 3179, 'margaret': 3180, 'fever': 3181, 'thick': 3182, 'verhoeven': 3183, '99': 3184, 'pirat': 3185, 'repeatedli': 3186, 'awaken': 3187, 'eve': 3188, 'nerv': 3189, 'awe': 3190, '2004': 3191, 'unwatch': 3192, 'torment': 3193, 'mel': 3194, 'yesterday': 3195, 'elderli': 3196, 'broad': 3197, 'uniform': 3198, 'rivet': 3199, 'bin': 3200, 'absenc': 3201, 'ambit': 3202, 'publish': 3203, 'lean': 3204, 'timothi': 3205, 'custom': 3206, 'launch': 3207, 'automat': 3208, 'roman': 3209, 'acclaim': 3210, 'romero': 3211, 'royal': 3212, 'eas': 3213, 'stiller': 3214, 'kay': 3215, 'griffith': 3216, 'ah': 3217, 'politician': 3218, 'phrase': 3219, 'darker': 3220, 'pulp': 3221, 'tomato': 3222, 'wallac': 3223, 'sunshin': 3224, 'stinker': 3225, 'pierc': 3226, 'bathroom': 3227, 'transport': 3228, 'foul': 3229, 'gabriel': 3230, 'homicid': 3231, 'antic': 3232, 'crook': 3233, 'termin': 3234, 'purpl': 3235, 'warren': 3236, 'hollow': 3237, 'karen': 3238, 'packag': 3239, 'album': 3240, 'horrid': 3241, 'evolv': 3242, 'ought': 3243, 'contrari': 3244, 'coloni': 3245, 'sixti': 3246, 'eyr': 3247, 'brazil': 3248, 'viciou': 3249, 'donna': 3250, 'saint': 3251, 'marin': 3252, 'kenneth': 3253, 'prom': 3254, 'revolutionari': 3255, 'pray': 3256, 'li': 3257, 'juvenil': 3258, '2003': 3259, 'awak': 3260, 'choreographi': 3261, 'rambo': 3262, 'q': 3263, 'twelv': 3264, 'blade': 3265, 'conserv': 3266, 'dose': 3267, 'nerd': 3268, 'kapoor': 3269, 'ireland': 3270, 'boast': 3271, 'option': 3272, 'mildr': 3273, 'overr': 3274, 'stole': 3275, 'ramon': 3276, 'defi': 3277, 'candid': 3278, 'mummi': 3279, 'beatti': 3280, 'confirm': 3281, 'jazz': 3282, 'trio': 3283, 'fulci': 3284, 'natali': 3285, 'protest': 3286, 'collabor': 3287, 'kirk': 3288, 'astonish': 3289, 'altman': 3290, 'detract': 3291, 'global': 3292, 'funer': 3293, 'flame': 3294, 'blake': 3295, 'shade': 3296, 'audio': 3297, 'spit': 3298, 'bull': 3299, 'leap': 3300, 'mystic': 3301, 'enterpris': 3302, 'nicholson': 3303, 'racial': 3304, 'tommi': 3305, 'whip': 3306, 'yellow': 3307, 'destini': 3308, 'bottl': 3309, 'delici': 3310, 'harder': 3311, 'swedish': 3312, 'bedroom': 3313, 'merci': 3314, 'visibl': 3315, 'fonda': 3316, 'inherit': 3317, 'staff': 3318, 'vivid': 3319, 'popcorn': 3320, 'todd': 3321, 'enchant': 3322, 'neo': 3323, 'altogeth': 3324, 'reunit': 3325, 'meaningless': 3326, 'adolesc': 3327, 'pseudo': 3328, 'threw': 3329, 'synopsi': 3330, 'edi': 3331, 'ruthless': 3332, 'moodi': 3333, 'reserv': 3334, 'await': 3335, 'bust': 3336, 'crocodil': 3337, 'madonna': 3338, 'leonard': 3339, 'exhibit': 3340, 'decor': 3341, 'befriend': 3342, 'tip': 3343, 'uneven': 3344, 'respond': 3345, 'roommat': 3346, 'suspici': 3347, 'kennedi': 3348, 'wire': 3349, 'lawrenc': 3350, 'jew': 3351, 'voight': 3352, 'fanat': 3353, 'atlanti': 3354, 'lemmon': 3355, 'unsettl': 3356, 'clint': 3357, 'abysm': 3358, 'carl': 3359, '2007': 3360, 'garner': 3361, 'holli': 3362, 'bargain': 3363, 'clumsi': 3364, 'dimens': 3365, 'incident': 3366, 'chao': 3367, 'bold': 3368, 'centr': 3369, 'voyag': 3370, 'rural': 3371, 'bradi': 3372, 'audit': 3373, 'ventur': 3374, 'palma': 3375, 'echo': 3376, 'poetic': 3377, 'daddi': 3378, 'characterist': 3379, 'lit': 3380, 'acknowledg': 3381, 'versu': 3382, 'tiger': 3383, 'cuba': 3384, 'cari': 3385, '2nd': 3386, 'mall': 3387, 'elimin': 3388, 'nearbi': 3389, 'troop': 3390, 'imperson': 3391, 'wealth': 3392, 'immigr': 3393, 'hart': 3394, 'neglect': 3395, 'humili': 3396, 'ant': 3397, 'cd': 3398, 'trail': 3399, 'timon': 3400, 'domest': 3401, 'collaps': 3402, 'repuls': 3403, 'infect': 3404, 'celluloid': 3405, 'pun': 3406, 'prejudic': 3407, 'marshal': 3408, 'mistaken': 3409, 'solo': 3410, 'paus': 3411, 'saga': 3412, 'homer': 3413, 'mickey': 3414, 'jeffrey': 3415, '1996': 3416, 'coat': 3417, 'pant': 3418, 'olivi': 3419, 'hbo': 3420, 'gear': 3421, 'tribe': 3422, 'assembl': 3423, 'promin': 3424, 'chest': 3425, 'inan': 3426, 'cake': 3427, 'milk': 3428, 'interrupt': 3429, 'inappropri': 3430, 'sore': 3431, 'undoubtedli': 3432, 'equip': 3433, 'apolog': 3434, 'leon': 3435, 'coffe': 3436, 'ginger': 3437, 'harvey': 3438, 'vulgar': 3439, 'airplan': 3440, 'pot': 3441, 'colleagu': 3442, 'brooklyn': 3443, 'florida': 3444, 'pen': 3445, 'highest': 3446, 'furthermor': 3447, 'institut': 3448, 'humbl': 3449, 'solut': 3450, 'primari': 3451, 'maggi': 3452, 'colonel': 3453, 'devast': 3454, 'consum': 3455, 'aveng': 3456, 'instant': 3457, 'exot': 3458, 'embrac': 3459, 'trace': 3460, 'retain': 3461, 'polanski': 3462, 'jenni': 3463, 'illog': 3464, 'wive': 3465, 'outer': 3466, 'descend': 3467, 'sale': 3468, 'gender': 3469, 'linda': 3470, 'strain': 3471, '1999': 3472, 'poke': 3473, 'smaller': 3474, '3rd': 3475, 'seduct': 3476, 'godzilla': 3477, 'rick': 3478, 'bowl': 3479, 'ya': 3480, 'principl': 3481, 'cope': 3482, 'disabl': 3483, 'dian': 3484, 'dutch': 3485, 'glamor': 3486, 'yard': 3487, 'mixtur': 3488, 'rabbit': 3489, 'scope': 3490, 'gloriou': 3491, 'beneath': 3492, 'devoid': 3493, 'lol': 3494, 'dive': 3495, 'cue': 3496, 'dud': 3497, 'predecessor': 3498, 'secondli': 3499, 'hal': 3500, 'primarili': 3501, 'inferior': 3502, 'vast': 3503, 'bubbl': 3504, 'blatant': 3505, 'gundam': 3506, 'invas': 3507, 'museum': 3508, 'shelf': 3509, 'disjoint': 3510, 'arab': 3511, 'senseless': 3512, 'myer': 3513, 'z': 3514, 'countrysid': 3515, 'april': 3516, 'shirley': 3517, 'streep': 3518, 'casual': 3519, 'hideou': 3520, 'breed': 3521, 'pearl': 3522, 'alert': 3523, 'grinch': 3524, 'talki': 3525, 'alfr': 3526, 'et': 3527, 'simplist': 3528, 'trademark': 3529, 'aggress': 3530, 'garbo': 3531, 'domino': 3532, 'illeg': 3533, 'sh': 3534, 'mail': 3535, 'hopeless': 3536, 'robinson': 3537, 'maci': 3538, 'uwe': 3539, 'unhappi': 3540, 'rendit': 3541, 'slide': 3542, 'experiment': 3543, 'oz': 3544, 'applaud': 3545, 'boom': 3546, 'hardcor': 3547, 'khan': 3548, 'stir': 3549, 'obtain': 3550, 'acid': 3551, 'defens': 3552, 'stack': 3553, 'loyal': 3554, 'disgrac': 3555, 'stellar': 3556, 'robberi': 3557, 'mayor': 3558, 'vanish': 3559, 'topless': 3560, 'counter': 3561, 'tenant': 3562, 'emphasi': 3563, 'tempt': 3564, 'span': 3565, 'dicken': 3566, 'scroog': 3567, 'incomprehens': 3568, 'craze': 3569, 'declin': 3570, 'spider': 3571, 'hartley': 3572, 'fri': 3573, 'blew': 3574, 'grandfath': 3575, 'dismiss': 3576, 'diana': 3577, 'wont': 3578, 'recruit': 3579, 'psychic': 3580, 'soccer': 3581, 'amanda': 3582, 'rifl': 3583, 'berlin': 3584, 'porno': 3585, 'justin': 3586, 'revolt': 3587, 'intim': 3588, 'ethnic': 3589, 'sympath': 3590, 'faster': 3591, 'sibl': 3592, 'shed': 3593, 'niro': 3594, 'woo': 3595, 'riot': 3596, 'resurrect': 3597, 'bitch': 3598, 'trashi': 3599, 'ration': 3600, 'wet': 3601, 'parad': 3602, 'goer': 3603, 'shaw': 3604, 'lumet': 3605, 'jonathan': 3606, 'nephew': 3607, 'eager': 3608, '00': 3609, 'steam': 3610, 'ensur': 3611, 'dealer': 3612, 'feminist': 3613, 'farmer': 3614, 'mario': 3615, 'honesti': 3616, 'hopper': 3617, 'slick': 3618, 'worm': 3619, 'weakest': 3620, 'ballet': 3621, 'immort': 3622, 'gap': 3623, 'biographi': 3624, 'enlighten': 3625, 'lena': 3626, 'hesit': 3627, 'commend': 3628, 'unreal': 3629, 'choru': 3630, 'region': 3631, 'partial': 3632, 'patriot': 3633, 'andr': 3634, 'wendi': 3635, 'wheel': 3636, 'rider': 3637, 'charlott': 3638, 'properti': 3639, 'psychopath': 3640, 'util': 3641, 'confin': 3642, 'skull': 3643, 'prequel': 3644, 'similarli': 3645, 'safeti': 3646, 'morri': 3647, 'owen': 3648, 'hung': 3649, 'victori': 3650, 'wore': 3651, 'snap': 3652, 'repress': 3653, 'franco': 3654, 'sappi': 3655, 'composit': 3656, 'kingdom': 3657, 'nostalg': 3658, 'vice': 3659, 'leo': 3660, 'mutant': 3661, 'blunt': 3662, 'sandra': 3663, 'macarthur': 3664, 'strand': 3665, 'drain': 3666, 'drum': 3667, 'rope': 3668, 'tad': 3669, 'acquir': 3670, 'nervou': 3671, 'compens': 3672, 'rambl': 3673, 'speci': 3674, 'thru': 3675, 'miseri': 3676, 'latin': 3677, 'bow': 3678, 'pattern': 3679, 'dust': 3680, 'emperor': 3681, 'dalton': 3682, 'snl': 3683, 'recycl': 3684, 'campbel': 3685, 'exit': 3686, 'heartbreak': 3687, 'compass': 3688, 'deed': 3689, 'del': 3690, 'repli': 3691, 'farrel': 3692, 'whoopi': 3693, 'despair': 3694, 'montana': 3695, 'bergman': 3696, 'rocki': 3697, 'valuabl': 3698, 'tail': 3699, 'bumbl': 3700, '1972': 3701, 'hyde': 3702, 'cg': 3703, 'bonu': 3704, 'kyle': 3705, 'chess': 3706, 'percept': 3707, 'mistress': 3708, 'contempl': 3709, 'bleed': 3710, 'roth': 3711, 'da': 3712, 'gal': 3713, 'downhil': 3714, '35': 3715, 'olli': 3716, 'radic': 3717, 'wacki': 3718, 'carradin': 3719, 'airport': 3720, 'rapist': 3721, 'martian': 3722, 'tonight': 3723, 'pour': 3724, 'romp': 3725, 'oppress': 3726, 'slug': 3727, 'gimmick': 3728, 'orson': 3729, 'rotten': 3730, 'programm': 3731, 'paltrow': 3732, 'preach': 3733, 'attorney': 3734, 'arguabl': 3735, 'pervers': 3736, 'pursuit': 3737, 'edgar': 3738, 'unpredict': 3739, 'melodi': 3740, 'shelley': 3741, 'pervert': 3742, 'banal': 3743, 'dazzl': 3744, 'arc': 3745, 'stilt': 3746, 'champion': 3747, 'heal': 3748, 'slash': 3749, 'mislead': 3750, 'taught': 3751, 'tooth': 3752, 'tackl': 3753, '1983': 3754, 'belt': 3755, 'vocal': 3756, 'cleverli': 3757, 'marti': 3758, 'conneri': 3759, 'employe': 3760, 'franki': 3761, 'raymond': 3762, 'duval': 3763, 'vengeanc': 3764, 'bela': 3765, 'plight': 3766, 'uplift': 3767, 'gambl': 3768, 'dixon': 3769, 'closest': 3770, 'sensat': 3771, 'virginia': 3772, 'passeng': 3773, 'orang': 3774, 'mesmer': 3775, 'tiresom': 3776, 'graham': 3777, 'maid': 3778, 'chicken': 3779, 'rubi': 3780, 'poem': 3781, 'engross': 3782, 'monologu': 3783, 'giggl': 3784, 'iran': 3785, 'volum': 3786, 'calm': 3787, 'convincingli': 3788, 'tube': 3789, 'suffic': 3790, 'abraham': 3791, 'profan': 3792, 'scottish': 3793, 'numb': 3794, 'mute': 3795, 'inject': 3796, '1968': 3797, 'pokemon': 3798, 'crystal': 3799, 'extens': 3800, 'habit': 3801, 'outing': 3802, 'amitabh': 3803, 'clone': 3804, 'whine': 3805, 'secretli': 3806, 'quarter': 3807, 'bay': 3808, 'yawn': 3809, 'paranoia': 3810, 'swallow': 3811, 'lundgren': 3812, 'gerard': 3813, 'climact': 3814, 'sirk': 3815, 'chicago': 3816, 'junior': 3817, 'surpass': 3818, 'septemb': 3819, 'grotesqu': 3820, 'austen': 3821, 'poetri': 3822, 'spock': 3823, 'meander': 3824, 'underst': 3825, 'nichola': 3826, 'taxi': 3827, 'ethan': 3828, 'bend': 3829, 'linger': 3830, 'trend': 3831, 'fed': 3832, 'franci': 3833, 'profess': 3834, 'abort': 3835, 'earl': 3836, 'backward': 3837, 'expand': 3838, 'plod': 3839, 'frankenstein': 3840, 'im': 3841, 'lowest': 3842, 'richardson': 3843, 'dispos': 3844, 'descent': 3845, 'hum': 3846, 'sue': 3847, 'rubber': 3848, 'instrument': 3849, 'econom': 3850, 'greedi': 3851, 'compliment': 3852, 'literatur': 3853, 'rant': 3854, 'cannon': 3855, 'simplic': 3856, 'nostalgia': 3857, 'eugen': 3858, 'waitress': 3859, 'lure': 3860, 'household': 3861, 'catchi': 3862, 'spoke': 3863, 'myth': 3864, 'tourist': 3865, 'dysfunct': 3866, 'muddl': 3867, 'der': 3868, 'mundan': 3869, 'stallon': 3870, 'firstli': 3871, 'alongsid': 3872, 'randi': 3873, 'recognis': 3874, 'deaf': 3875, 'equival': 3876, 'cent': 3877, 'dictat': 3878, 'dement': 3879, 'carel': 3880, 'crucial': 3881, 'june': 3882, 'recognit': 3883, 'lang': 3884, 'map': 3885, 'occupi': 3886, 'stale': 3887, 'coast': 3888, 'mortal': 3889, 'damon': 3890, 'flee': 3891, 'eaten': 3892, 'omen': 3893, 'irrelev': 3894, 'hello': 3895, 'furi': 3896, 'mankind': 3897, 'molli': 3898, 'louis': 3899, 'phoni': 3900, 'sissi': 3901, 'duck': 3902, 'phantom': 3903, 'insur': 3904, 'bacal': 3905, 'twilight': 3906, '1973': 3907, 'rude': 3908, 'daisi': 3909, 'bike': 3910, 'bump': 3911, 'distinguish': 3912, 'blackmail': 3913, 'dreari': 3914, 'newli': 3915, 'labor': 3916, 'buffalo': 3917, 'wisdom': 3918, 'lengthi': 3919, 'loyalti': 3920, 'drake': 3921, 'onlin': 3922, 'heel': 3923, 'freez': 3924, 'reign': 3925, 'rooney': 3926, 'ashley': 3927, 'likewis': 3928, 'grayson': 3929, 'antwon': 3930, 'cyborg': 3931, 'damm': 3932, 'biko': 3933, 'vein': 3934, 'inher': 3935, 'basketbal': 3936, 'emphas': 3937, 'keith': 3938, 'unorigin': 3939, 'boxer': 3940, 'worn': 3941, 'prey': 3942, 'chronicl': 3943, 'approv': 3944, 'provoc': 3945, 'incorpor': 3946, 'ridden': 3947, 'interior': 3948, 'proce': 3949, 'nineti': 3950, 'startl': 3951, 'tunnel': 3952, 'barrymor': 3953, 'attribut': 3954, 'exposur': 3955, 'pink': 3956, 'analysi': 3957, 'baddi': 3958, 'sailor': 3959, 'butler': 3960, 'unrel': 3961, 'drift': 3962, 'mighti': 3963, 'hypnot': 3964, 'degrad': 3965, 'walsh': 3966, 'meg': 3967, 'bunni': 3968, 'julian': 3969, 'simmon': 3970, 'fleet': 3971, 'substitut': 3972, 'indiffer': 3973, 'predat': 3974, 'millionair': 3975, 'barrel': 3976, 'condemn': 3977, 'nicol': 3978, 'belushi': 3979, 'undeni': 3980, 'robbin': 3981, 'underli': 3982, 'improvis': 3983, 'elm': 3984, 'meyer': 3985, 'er': 3986, 'stalker': 3987, 'carla': 3988, 'mormon': 3989, 'othello': 3990, 'palac': 3991, 'shove': 3992, 'hay': 3993, 'unawar': 3994, 'watson': 3995, 'nyc': 3996, 'vital': 3997, 'roof': 3998, 'exquisit': 3999, 'errol': 4000, 'alarm': 4001, 'lampoon': 4002, 'disord': 4003, 'alison': 4004, 'reid': 4005, 'mtv': 4006, 'warmth': 4007, 'agenda': 4008, 'novak': 4009, 'dolph': 4010, 'priceless': 4011, '3d': 4012, 'edgi': 4013, 'marion': 4014, 'enthusiasm': 4015, 'firm': 4016, 'greed': 4017, 'rukh': 4018, 'ponder': 4019, 'campaign': 4020, 'crown': 4021, 'what': 4022, 'sergeant': 4023, 'testament': 4024, 'preserv': 4025, 'profit': 4026, '13th': 4027, 'glanc': 4028, 'showdown': 4029, 'drip': 4030, 'unleash': 4031, 'session': 4032, 'eastern': 4033, 'simultan': 4034, 'iraq': 4035, 'cassidi': 4036, 'coup': 4037, 'championship': 4038, 'thompson': 4039, '1933': 4040, 'peril': 4041, 'spain': 4042, 'valentin': 4043, 'orlean': 4044, 'israel': 4045, 'gestur': 4046, 'distort': 4047, 'peck': 4048, 'beatl': 4049, 'petti': 4050, 'minimum': 4051, 'randomli': 4052, 'angela': 4053, 'pamela': 4054, 'nun': 4055, 'zizek': 4056, 'stake': 4057, 'scotland': 4058, 'crawl': 4059, 'gentleman': 4060, 'restrain': 4061, 'regist': 4062, 'exposit': 4063, 'realm': 4064, 'crow': 4065, 'quinn': 4066, 'bro': 4067, 'wig': 4068, 'cream': 4069, 'han': 4070, 'calib': 4071, 'empathi': 4072, 'contradict': 4073, 'brenda': 4074, 'climat': 4075, 'unimagin': 4076, 'mon': 4077, '1984': 4078, 'valley': 4079, 'jan': 4080, 'perpetu': 4081, 'miyazaki': 4082, 'buster': 4083, 'travesti': 4084, 'shootout': 4085, 'sabrina': 4086, 'cooki': 4087, 'reson': 4088, 'stroke': 4089, 'rout': 4090, 'kurosawa': 4091, 'din': 4092, 'represent': 4093, 'fido': 4094, 'pole': 4095, 'traumat': 4096, 'passabl': 4097, 'unseen': 4098, 'compromis': 4099, 'demis': 4100, 'unsatisfi': 4101, 'femm': 4102, 'businessman': 4103, 'josh': 4104, 'perceiv': 4105, 'stargat': 4106, 'abomin': 4107, 'sammi': 4108, 'delic': 4109, 'distress': 4110, 'ross': 4111, 'tacki': 4112, 'monoton': 4113, 'ustinov': 4114, 'soderbergh': 4115, 'wax': 4116, 'painter': 4117, 'crawford': 4118, 'dana': 4119, 'warrant': 4120, 'cloud': 4121, '1987': 4122, 'derang': 4123, 'darren': 4124, 'baldwin': 4125, 'mclaglen': 4126, 'spacey': 4127, 'greg': 4128, '1997': 4129, 'geek': 4130, 'fuller': 4131, 'sucker': 4132, 'censor': 4133, 'shaki': 4134, 'shoddi': 4135, 'pretens': 4136, 'meryl': 4137, 'absent': 4138, 'uncov': 4139, 'correctli': 4140, 'unravel': 4141, 'wholli': 4142, 'kumar': 4143, 'deniro': 4144, 'deceas': 4145, 'furiou': 4146, 'sid': 4147, 'clash': 4148, 'click': 4149, 'seal': 4150, 'norm': 4151, 'jewel': 4152, 'primit': 4153, 'austin': 4154, 'expedit': 4155, 'fog': 4156, 'accuraci': 4157, 'exclus': 4158, 'antonioni': 4159, 'dee': 4160, 'tarantino': 4161, 'reluct': 4162, 'valid': 4163, 'verbal': 4164, 'tech': 4165, 'judgment': 4166, '1993': 4167, 'nathan': 4168, 'anchor': 4169, 'fenc': 4170, 'polici': 4171, 'debt': 4172, 'dreck': 4173, 'hallucin': 4174, 'fart': 4175, 'enforc': 4176, 'sustain': 4177, 'behold': 4178, 'wretch': 4179, 'logan': 4180, 'nicola': 4181, 'darn': 4182, 'patienc': 4183, 'sheet': 4184, '3000': 4185, 'slam': 4186, 'unfair': 4187, 'sand': 4188, 'seldom': 4189, 'fought': 4190, '2008': 4191, 'trait': 4192, 'roller': 4193, 'pocket': 4194, 'ritual': 4195, 'alec': 4196, 'fabric': 4197, 'sunni': 4198, 'temper': 4199, 'bake': 4200, 'murray': 4201, 'crippl': 4202, 'mode': 4203, 'joel': 4204, 'clerk': 4205, 'conduct': 4206, 'wang': 4207, 'tax': 4208, '1995': 4209, 'malon': 4210, '1971': 4211, 'shanghai': 4212, 'vanc': 4213, 'penni': 4214, 'schedul': 4215, 'tactic': 4216, 'preston': 4217, 'robber': 4218, 'technicolor': 4219, 'grief': 4220, 'bias': 4221, 'exhaust': 4222, 'squad': 4223, 'phil': 4224, 'divid': 4225, 'stark': 4226, 'pete': 4227, 'scriptwrit': 4228, 'shell': 4229, 'runner': 4230, 'clau': 4231, 'conscious': 4232, 'despis': 4233, 'critiqu': 4234, 'outlin': 4235, 'legaci': 4236, 'canyon': 4237, 'preposter': 4238, 'helpless': 4239, 'fundament': 4240, 'rita': 4241, 'guitar': 4242, 'sweep': 4243, 'soup': 4244, 'bridget': 4245, 'stuart': 4246, 'isabel': 4247, 'culmin': 4248, 'marc': 4249, 'rear': 4250, 'boyl': 4251, 'connor': 4252, 'propos': 4253, 'sugar': 4254, 'jodi': 4255, 'vomit': 4256, 'rehash': 4257, 'bloom': 4258, 'liberti': 4259, 'restrict': 4260, 'kansa': 4261, 'cigarett': 4262, 'consciou': 4263, 'russia': 4264, 'agenc': 4265, 'newman': 4266, 'sniper': 4267, 'delv': 4268, 'unexpectedli': 4269, 'passag': 4270, 'gregori': 4271, 'implic': 4272, 'flair': 4273, 'jacket': 4274, 'sentinel': 4275, 'lacklust': 4276, 'drove': 4277, 'inabl': 4278, 'invad': 4279, 'palanc': 4280, 'downey': 4281, 'alley': 4282, 'alicia': 4283, 'rod': 4284, 'chainsaw': 4285, 'delet': 4286, 'bacon': 4287, 'pale': 4288, 'arrow': 4289, 'tendenc': 4290, 'awhil': 4291, 'mccoy': 4292, 'wrench': 4293, 'sharon': 4294, 'lush': 4295, 'improb': 4296, 'foxx': 4297, 'feat': 4298, 'aesthet': 4299, 'karl': 4300, 'cap': 4301, '1936': 4302, 'yeti': 4303, 'kolchak': 4304, 'behaviour': 4305, 'ladder': 4306, '22': 4307, 'rehears': 4308, 'tripe': 4309, 'vet': 4310, 'asylum': 4311, 'horn': 4312, 'rampag': 4313, 'rumor': 4314, 'suspicion': 4315, 'paradis': 4316, 'scoop': 4317, 'tasteless': 4318, 'shortcom': 4319, 'sung': 4320, 'filler': 4321, 'spice': 4322, 'stream': 4323, 'paramount': 4324, 'wildli': 4325, 'visitor': 4326, '1988': 4327, 'hulk': 4328, 'aristocrat': 4329, 'tomorrow': 4330, 'amazon': 4331, 'conscienc': 4332, 'globe': 4333, 'loneli': 4334, 'prank': 4335, 'basing': 4336, 'suffici': 4337, 'coaster': 4338, '19th': 4339, '1920': 4340, 'rhythm': 4341, 'fright': 4342, 'hackney': 4343, 'hungri': 4344, '1978': 4345, 'weav': 4346, 'financ': 4347, 'elit': 4348, 'el': 4349, 'thunderbird': 4350, 'minu': 4351, 'underneath': 4352, 'newcom': 4353, 'wagner': 4354, 'lurk': 4355, 'standout': 4356, 'leigh': 4357, 'teas': 4358, 'springer': 4359, 'secondari': 4360, '1939': 4361, 'rub': 4362, 'counterpart': 4363, 'quietli': 4364, 'dirt': 4365, 'heist': 4366, 'recogniz': 4367, 'entranc': 4368, 'ingeni': 4369, 'chavez': 4370, 'en': 4371, 'atroc': 4372, 'grudg': 4373, 'hopkin': 4374, 'choppi': 4375, 'immers': 4376, '75': 4377, 'beverli': 4378, 'posey': 4379, '1989': 4380, 'literari': 4381, 'brit': 4382, 'smell': 4383, 'bread': 4384, 'lectur': 4385, 'couch': 4386, 'wwe': 4387, 'tierney': 4388, 'ram': 4389, 'cancer': 4390, 'impos': 4391, 'abrupt': 4392, 'penn': 4393, 'curli': 4394, 'minist': 4395, 'naughti': 4396, 'straightforward': 4397, 'iv': 4398, 'chamberlain': 4399, 'worship': 4400, 'inmat': 4401, 'paxton': 4402, 'heartfelt': 4403, 'bernard': 4404, 'injuri': 4405, 'laurenc': 4406, 'esther': 4407, 'misguid': 4408, 'convert': 4409, 'ace': 4410, 'morbid': 4411, 'geni': 4412, 'sassi': 4413, 'skeptic': 4414, 'moreov': 4415, 'watcher': 4416, 'duel': 4417, 'transcend': 4418, 'clan': 4419, 'net': 4420, 'nolan': 4421, 'sublim': 4422, 'variat': 4423, 'policeman': 4424, 'missil': 4425, '1986': 4426, 'entitl': 4427, 'lindsay': 4428, 'yearn': 4429, 'cattl': 4430, 'enthral': 4431, 'quaid': 4432, 'nemesi': 4433, 'attenborough': 4434, 'ratso': 4435, 'puppi': 4436, 'egg': 4437, 'setup': 4438, 'hopelessli': 4439, '1979': 4440, 'reliabl': 4441, 'dont': 4442, 'vader': 4443, 'bean': 4444, 'uncut': 4445, 'facil': 4446, 'characteris': 4447, 'hk': 4448, 'kitti': 4449, 'kidman': 4450, 'buzz': 4451, 'rosemari': 4452, 'enabl': 4453, 'out': 4454, 'youngest': 4455, 'tyler': 4456, 'steadi': 4457, 'unexplain': 4458, 'bye': 4459, 'obstacl': 4460, 'cruelti': 4461, 'brood': 4462, 'artsi': 4463, 'graini': 4464, 'moder': 4465, 'mytholog': 4466, 'grin': 4467, 'spiral': 4468, 'diari': 4469, 'poe': 4470, 'carlito': 4471, 'weather': 4472, 'acquaint': 4473, 'athlet': 4474, 'narrow': 4475, 'sweat': 4476, 'bounc': 4477, 'exterior': 4478, 'niec': 4479, '1969': 4480, 'hammi': 4481, 'disastr': 4482, 'kline': 4483, 'despic': 4484, 'baffl': 4485, 'clueless': 4486, 'underworld': 4487, 'effici': 4488, 'brendan': 4489, 'preming': 4490, 'martha': 4491, 'gina': 4492, 'patricia': 4493, 'spontan': 4494, 'oblig': 4495, 'bewar': 4496, 'christin': 4497, 'heap': 4498, 'fuel': 4499, 'bronson': 4500, 'gillian': 4501, 'decept': 4502, 'hain': 4503, 'headach': 4504, 'dandi': 4505, 'rome': 4506, 'insipid': 4507, '19': 4508, 'candl': 4509, 'tick': 4510, 'circu': 4511, 'shatter': 4512, 'angst': 4513, 'mayhem': 4514, 'astound': 4515, '73': 4516, 'scar': 4517, 'mermaid': 4518, 'renaiss': 4519, 'loath': 4520, 'housewif': 4521, 'outlaw': 4522, 'preachi': 4523, 'dilemma': 4524, 'hepburn': 4525, 'virtu': 4526, 'trigger': 4527, 'taboo': 4528, 'fontain': 4529, 'loi': 4530, 'sleepwalk': 4531, 'goof': 4532, 'harmless': 4533, 'suprem': 4534, 'injur': 4535, 'biker': 4536, 'sooner': 4537, 'analyz': 4538, 'viewpoint': 4539, 'uh': 4540, 'enlist': 4541, 'lester': 4542, 'dish': 4543, 'idol': 4544, 'intric': 4545, 'macho': 4546, 'steer': 4547, 'redund': 4548, 'claustrophob': 4549, 'guin': 4550, 'immatur': 4551, 'phenomenon': 4552, 'glorifi': 4553, 'surgeri': 4554, 'zoom': 4555, 'stair': 4556, 'camcord': 4557, 'dismal': 4558, 'whore': 4559, 'hokey': 4560, 'tripl': 4561, 'ebert': 4562, 'cassavet': 4563, 'bent': 4564, 'foolish': 4565, 'salt': 4566, 'contempt': 4567, 'amor': 4568, 'stimul': 4569, 'overlong': 4570, 'fluff': 4571, 'slimi': 4572, 'filth': 4573, 'hostag': 4574, 'boston': 4575, 'sox': 4576, 'scorses': 4577, 'oldest': 4578, 'gere': 4579, 'spade': 4580, 'hooker': 4581, 'ariel': 4582, 'corbett': 4583, 'fascist': 4584, 'assert': 4585, 'flirt': 4586, 'proport': 4587, 'gabl': 4588, 'muscl': 4589, 'rhyme': 4590, 'dwarf': 4591, 'keen': 4592, 'preced': 4593, 'margin': 4594, 'obligatori': 4595, 'transplant': 4596, 'flag': 4597, 'shred': 4598, 'mutual': 4599, '1976': 4600, 'mount': 4601, 'flashi': 4602, 'widescreen': 4603, 'trivia': 4604, 'messi': 4605, 'shield': 4606, 'beard': 4607, 'astronaut': 4608, 'gasp': 4609, '1981': 4610, 'schlock': 4611, 'frantic': 4612, 'perman': 4613, 'strongest': 4614, 'remad': 4615, 'naschi': 4616, 'joker': 4617, 'zane': 4618, 'corman': 4619, 'spinal': 4620, 'antagonist': 4621, 'cow': 4622, 'cohen': 4623, 'harold': 4624, 'down': 4625, 'radiat': 4626, 'alvin': 4627, 'nolt': 4628, 'conquer': 4629, 'spree': 4630, 'cush': 4631, 'faint': 4632, '28': 4633, 'instruct': 4634, 'repris': 4635, 'info': 4636, 'fishburn': 4637, 'bitten': 4638, 'divin': 4639, 'resum': 4640, '1945': 4641, 'brush': 4642, '95': 4643, 'triangl': 4644, 'discern': 4645, 'inflict': 4646, 'www': 4647, 'claud': 4648, 'archiv': 4649, 'wield': 4650, 'neurot': 4651, 'persuad': 4652, 'departur': 4653, 'someday': 4654, 'danish': 4655, 'off': 4656, 'deer': 4657, 'strive': 4658, 'vaniti': 4659, 'flock': 4660, 'bachelor': 4661, 'mobil': 4662, 'mol': 4663, 'hara': 4664, 'scandal': 4665, 'interestingli': 4666, 'boob': 4667, 'sensual': 4668, 'barn': 4669, 'raj': 4670, 'carey': 4671, 'ritchi': 4672, 'aborigin': 4673, 'mobster': 4674, 'casino': 4675, 'traffic': 4676, 'anton': 4677, 'prophet': 4678, 'cher': 4679, 'cb': 4680, 'miracul': 4681, 'senior': 4682, 'clad': 4683, 'harrison': 4684, 'frontier': 4685, 'artwork': 4686, 'axe': 4687, 'fragil': 4688, 'luka': 4689, 'dame': 4690, 'parson': 4691, 'proclaim': 4692, 'neill': 4693, 'hilar': 4694, 'vibrant': 4695, 'kathryn': 4696, 'ish': 4697, 'rot': 4698, 'helm': 4699, 'hapless': 4700, 'cycl': 4701, 'earnest': 4702, 'colin': 4703, 'bate': 4704, 'melissa': 4705, 'dylan': 4706, 'timberlak': 4707, 'jade': 4708, 'undermin': 4709, 'heartwarm': 4710, 'biblic': 4711, 'submit': 4712, 'cliffhang': 4713, 'hug': 4714, 'recit': 4715, 'pixar': 4716, 'banter': 4717, 'pacif': 4718, 'dim': 4719, 'europa': 4720, 'carlo': 4721, 'loretta': 4722, 'wendigo': 4723, 'pickford': 4724, 'eli': 4725, 'choke': 4726, 'vile': 4727, 'redneck': 4728, 'aris': 4729, 'articl': 4730, 'seedi': 4731, 'electron': 4732, 'illus': 4733, 'nope': 4734, 'bikini': 4735, 'misfortun': 4736, 'jordan': 4737, 'flavor': 4738, 'mason': 4739, 'rooki': 4740, 'jo': 4741, 'legitim': 4742, 'feast': 4743, 'static': 4744, 'lucil': 4745, 'alexandr': 4746, 'sicken': 4747, 'uma': 4748, 'token': 4749, 'breakfast': 4750, 'http': 4751, 'foil': 4752, 'holocaust': 4753, 'cerebr': 4754, 'razor': 4755, 'marlon': 4756, 'estrang': 4757, 'bondag': 4758, 'pc': 4759, 'toronto': 4760, 'northern': 4761, 'antholog': 4762, 'lui': 4763, 'blatantli': 4764, 'orphan': 4765, 'vanessa': 4766, 'isra': 4767, 'wardrob': 4768, 'venom': 4769, 'mathieu': 4770, 'milo': 4771, 'shepherd': 4772, 'akin': 4773, 'winchest': 4774, 'trier': 4775, 'oppon': 4776, 'tack': 4777, 'highway': 4778, 'feminin': 4779, 'psych': 4780, 'smack': 4781, 'peer': 4782, 'styliz': 4783, 'linear': 4784, 'wrestler': 4785, 'knightley': 4786, 'disregard': 4787, 'shorter': 4788, 'deem': 4789, 'howl': 4790, 'magician': 4791, 'abund': 4792, 'outdat': 4793, 'dudley': 4794, 'fifth': 4795, 'huston': 4796, 'retriev': 4797, 'audrey': 4798, 'swept': 4799, 'charlton': 4800, 'frog': 4801, 'cartoonish': 4802, 'gilbert': 4803, 'ideolog': 4804, 'ceremoni': 4805, 'nightclub': 4806, 'turd': 4807, 'affleck': 4808, 'clinic': 4809, 'leather': 4810, 'boyer': 4811, 'comprehend': 4812, 'gunga': 4813, 'glare': 4814, 'moe': 4815, 'newer': 4816, 'plate': 4817, 'sleaz': 4818, 'evolut': 4819, 'whack': 4820, 'tara': 4821, 'potter': 4822, 'boo': 4823, 'corn': 4824, 'conrad': 4825, 'lighter': 4826, 'goldsworthi': 4827, 'lavish': 4828, 'deliver': 4829, 'btw': 4830, 'toe': 4831, 'spawn': 4832, 'collector': 4833, 'chip': 4834, 'greet': 4835, 'uniformli': 4836, 'bogu': 4837, 'einstein': 4838, '1991': 4839, 'lifeless': 4840, 'energet': 4841, 'durat': 4842, 'cuban': 4843, '4th': 4844, 'monument': 4845, 'cemeteri': 4846, 'braveheart': 4847, 'bastard': 4848, 'summar': 4849, 'client': 4850, 'senat': 4851, '1994': 4852, 'breakdown': 4853, 'spine': 4854, 'phenomen': 4855, 'snatch': 4856, 'compris': 4857, 'mitch': 4858, 'salman': 4859, 'luxuri': 4860, 'sorrow': 4861, 'ol': 4862, 'constitut': 4863, '1974': 4864, 'neatli': 4865, 'signal': 4866, 'bulk': 4867, 'cecil': 4868, 'healthi': 4869, 'spectacl': 4870, 'alleg': 4871, 'embark': 4872, 'firmli': 4873, 'occup': 4874, 'nina': 4875, 'replay': 4876, 'appl': 4877, 'fluid': 4878, 'clara': 4879, 'outright': 4880, 'undertak': 4881, 'jam': 4882, 'lex': 4883, 'historian': 4884, 'eleven': 4885, 'gilliam': 4886, 'pronounc': 4887, 'kent': 4888, 'belli': 4889, 'armstrong': 4890, 'ie': 4891, 'jedi': 4892, 'capot': 4893, 'creek': 4894, 'trauma': 4895, 'inaccuraci': 4896, 'bori': 4897, 'randolph': 4898, 'judd': 4899, 'jare': 4900, '1977': 4901, 'evelyn': 4902, 'undead': 4903, 'kazan': 4904, 'wtf': 4905, 'liu': 4906, 'jule': 4907, 'mcqueen': 4908, 'comprehens': 4909, 'fruit': 4910, 'knee': 4911, '1985': 4912, 'unattract': 4913, 'roar': 4914, 'spray': 4915, 'abound': 4916, 'vain': 4917, 'conan': 4918, 'walt': 4919, 'subtli': 4920, 'mum': 4921, 'forgiven': 4922, 'carmen': 4923, 'congratul': 4924, 'tokyo': 4925, 'kiddi': 4926, 'aussi': 4927, 'relentless': 4928, 'sacrif': 4929, 'inaccur': 4930, 'blur': 4931, 'poker': 4932, 'palm': 4933, 'vignett': 4934, 'curtain': 4935, 'sidewalk': 4936, 'decapit': 4937, 'pioneer': 4938, 'miniseri': 4939, 'inclus': 4940, 'meal': 4941, 'galaxi': 4942, 'genet': 4943, 'rosario': 4944, 'propheci': 4945, 'comb': 4946, 'truman': 4947, 'antonio': 4948, 'miami': 4949, 'goldblum': 4950, 'pepper': 4951, 'cape': 4952, 'paula': 4953, 'bsg': 4954, 'porter': 4955, 'lauren': 4956, 'ash': 4957, 'lanc': 4958, 'bait': 4959, 'unsuspect': 4960, 'basket': 4961, 'groan': 4962, 'id': 4963, 'epitom': 4964, 'bach': 4965, 'evan': 4966, 'ghetto': 4967, 'rapidli': 4968, 'growth': 4969, 'monti': 4970, 'asset': 4971, 'cypher': 4972, 'sophi': 4973, 'detach': 4974, 'jill': 4975, 'substanti': 4976, 'sparkl': 4977, 'victorian': 4978, 'orchestr': 4979, 'assort': 4980, 'profil': 4981, 'verg': 4982, 'motorcycl': 4983, 'modest': 4984, 'scariest': 4985, 'drone': 4986, 'macabr': 4987, 'vastli': 4988, 'handicap': 4989, 'incorrect': 4990, 'scarfac': 4991, 'casper': 4992, 'optimist': 4993, 'reincarn': 4994, 'dubiou': 4995, 'bravo': 4996, '21st': 4997, 'spill': 4998, 'hostil': 4999}\n"
     ]
    }
   ],
   "source": [
    "print(word_dict)"
   ]
  },
  {
   "cell_type": "markdown",
   "metadata": {},
   "source": [
    "**Question:** What are the five most frequently appearing (tokenized) words in the training set? Does it makes sense that these words appear frequently in the training set?"
   ]
  },
  {
   "cell_type": "markdown",
   "metadata": {},
   "source": [
    "**Answer:**"
   ]
  },
  {
   "cell_type": "code",
   "execution_count": 15,
   "metadata": {},
   "outputs": [
    {
     "name": "stdout",
     "output_type": "stream",
     "text": [
      "The five most frequently appearing words in the training set are:\n",
      "  {'movi': 51695, 'film': 48190, 'one': 27741, 'like': 22799, 'time': 16191}\n"
     ]
    }
   ],
   "source": [
    "# TODO: Use this space to determine the five most frequently appearing words in the training set.\n",
    "word_count = word_counter(train_X)\n",
    "most_words = dict(word_count.most_common(5))           \n",
    "print(\"The five most frequently appearing words in the training set are:\\n \", most_words)"
   ]
  },
  {
   "cell_type": "markdown",
   "metadata": {},
   "source": [
    "### Save `word_dict`\n",
    "\n",
    "Later on when we construct an endpoint which processes a submitted review we will need to make use of the `word_dict` which we have created. As such, we will save it to a file now for future use."
   ]
  },
  {
   "cell_type": "code",
   "execution_count": 16,
   "metadata": {},
   "outputs": [],
   "source": [
    "data_dir = '../data/pytorch' # The folder we will use for storing data\n",
    "if not os.path.exists(data_dir): # Make sure that the folder exists\n",
    "    os.makedirs(data_dir)"
   ]
  },
  {
   "cell_type": "code",
   "execution_count": 17,
   "metadata": {},
   "outputs": [],
   "source": [
    "with open(os.path.join(data_dir, 'word_dict.pkl'), \"wb\") as f:\n",
    "    pickle.dump(word_dict, f)"
   ]
  },
  {
   "cell_type": "markdown",
   "metadata": {},
   "source": [
    "### Transform the reviews\n",
    "\n",
    "Now that we have our word dictionary which allows us to transform the words appearing in the reviews into integers, it is time to make use of it and convert our reviews to their integer sequence representation, making sure to pad or truncate to a fixed length, which in our case is `500`."
   ]
  },
  {
   "cell_type": "code",
   "execution_count": 18,
   "metadata": {},
   "outputs": [],
   "source": [
    "def convert_and_pad(word_dict, sentence, pad=500):\n",
    "    NOWORD = 0 # We will use 0 to represent the 'no word' category\n",
    "    INFREQ = 1 # and we use 1 to represent the infrequent words, i.e., words not appearing in word_dict\n",
    "    \n",
    "    working_sentence = [NOWORD] * pad\n",
    "    \n",
    "    for word_index, word in enumerate(sentence[:pad]):\n",
    "        if word in word_dict:\n",
    "            working_sentence[word_index] = word_dict[word]\n",
    "        else:\n",
    "            working_sentence[word_index] = INFREQ\n",
    "            \n",
    "    return working_sentence, min(len(sentence), pad)\n",
    "\n",
    "def convert_and_pad_data(word_dict, data, pad=500):\n",
    "    result = []\n",
    "    lengths = []\n",
    "    \n",
    "    for sentence in data:\n",
    "        converted, leng = convert_and_pad(word_dict, sentence, pad)\n",
    "        result.append(converted)\n",
    "        lengths.append(leng)\n",
    "        \n",
    "    return np.array(result), np.array(lengths)"
   ]
  },
  {
   "cell_type": "code",
   "execution_count": 19,
   "metadata": {},
   "outputs": [],
   "source": [
    "train_X, train_X_len = convert_and_pad_data(word_dict, train_X)\n",
    "test_X, test_X_len = convert_and_pad_data(word_dict, test_X)"
   ]
  },
  {
   "cell_type": "markdown",
   "metadata": {},
   "source": [
    "As a quick check to make sure that things are working as intended, check to see what one of the reviews in the training set looks like after having been processeed. Does this look reasonable? What is the length of a review in the training set?"
   ]
  },
  {
   "cell_type": "code",
   "execution_count": 20,
   "metadata": {},
   "outputs": [
    {
     "data": {
      "text/plain": [
       "array([[ 173,  259,  236, ...,    0,    0,    0],\n",
       "       [   4, 1723,  267, ...,    0,    0,    0],\n",
       "       [ 443,   44,  536, ...,    0,    0,    0],\n",
       "       ...,\n",
       "       [ 249,  618,   18, ...,    0,    0,    0],\n",
       "       [3416,    1,    1, ...,    0,    0,    0],\n",
       "       [ 385,  581,   52, ...,    0,    0,    0]])"
      ]
     },
     "execution_count": 20,
     "metadata": {},
     "output_type": "execute_result"
    }
   ],
   "source": [
    "# Use this cell to examine one of the processed reviews to make sure everything is working as intended.\n",
    "train_X[:20]"
   ]
  },
  {
   "cell_type": "markdown",
   "metadata": {},
   "source": [
    "**Question:** In the cells above we use the `preprocess_data` and `convert_and_pad_data` methods to process both the training and testing set. Why or why not might this be a problem?"
   ]
  },
  {
   "cell_type": "markdown",
   "metadata": {},
   "source": [
    "**Answer:**\n",
    "\n",
    "The preprocess_data method applies the review_to_words method to each of the reviews in the training and testing datasets. The  convert_and_pad_data process by fixing the length, which in our case is 500. The first will taking time, but the second one can miss some information."
   ]
  },
  {
   "cell_type": "markdown",
   "metadata": {},
   "source": [
    "## Step 3: Upload the data to S3\n",
    "\n",
    "As in the XGBoost notebook, we will need to upload the training dataset to S3 in order for our training code to access it. For now we will save it locally and we will upload to S3 later on.\n",
    "\n",
    "### Save the processed training dataset locally\n",
    "\n",
    "It is important to note the format of the data that we are saving as we will need to know it when we write the training code. In our case, each row of the dataset has the form `label`, `length`, `review[500]` where `review[500]` is a sequence of `500` integers representing the words in the review."
   ]
  },
  {
   "cell_type": "code",
   "execution_count": 21,
   "metadata": {},
   "outputs": [],
   "source": [
    "import pandas as pd\n",
    "    \n",
    "pd.concat([pd.DataFrame(train_y), pd.DataFrame(train_X_len), pd.DataFrame(train_X)], axis=1) \\\n",
    "        .to_csv(os.path.join(data_dir, 'train.csv'), header=False, index=False)"
   ]
  },
  {
   "cell_type": "markdown",
   "metadata": {},
   "source": [
    "### Uploading the training data\n",
    "\n",
    "\n",
    "Next, we need to upload the training data to the SageMaker default S3 bucket so that we can provide access to it while training our model."
   ]
  },
  {
   "cell_type": "code",
   "execution_count": 22,
   "metadata": {},
   "outputs": [],
   "source": [
    "import sagemaker\n",
    "\n",
    "sagemaker_session = sagemaker.Session()\n",
    "\n",
    "bucket = sagemaker_session.default_bucket()\n",
    "prefix = 'sagemaker/sentiment_rnn'\n",
    "\n",
    "role = sagemaker.get_execution_role()"
   ]
  },
  {
   "cell_type": "code",
   "execution_count": 23,
   "metadata": {},
   "outputs": [],
   "source": [
    "input_data = sagemaker_session.upload_data(path=data_dir, bucket=bucket, key_prefix=prefix)"
   ]
  },
  {
   "cell_type": "markdown",
   "metadata": {},
   "source": [
    "**NOTE:** The cell above uploads the entire contents of our data directory. This includes the `word_dict.pkl` file. This is fortunate as we will need this later on when we create an endpoint that accepts an arbitrary review. For now, we will just take note of the fact that it resides in the data directory (and so also in the S3 training bucket) and that we will need to make sure it gets saved in the model directory."
   ]
  },
  {
   "cell_type": "markdown",
   "metadata": {},
   "source": [
    "## Step 4: Build and Train the PyTorch Model\n",
    "\n",
    "In the XGBoost notebook we discussed what a model is in the SageMaker framework. In particular, a model comprises three objects\n",
    "\n",
    " - Model Artifacts,\n",
    " - Training Code, and\n",
    " - Inference Code,\n",
    " \n",
    "each of which interact with one another. In the XGBoost example we used training and inference code that was provided by Amazon. Here we will still be using containers provided by Amazon with the added benefit of being able to include our own custom code.\n",
    "\n",
    "We will start by implementing our own neural network in PyTorch along with a training script. For the purposes of this project we have provided the necessary model object in the `model.py` file, inside of the `train` folder. You can see the provided implementation by running the cell below."
   ]
  },
  {
   "cell_type": "code",
   "execution_count": 24,
   "metadata": {},
   "outputs": [
    {
     "name": "stdout",
     "output_type": "stream",
     "text": [
      "\u001b[34mimport\u001b[39;49;00m \u001b[04m\u001b[36mtorch\u001b[39;49;00m\u001b[04m\u001b[36m.\u001b[39;49;00m\u001b[04m\u001b[36mnn\u001b[39;49;00m \u001b[34mas\u001b[39;49;00m \u001b[04m\u001b[36mnn\u001b[39;49;00m\n",
      "\n",
      "\u001b[34mclass\u001b[39;49;00m \u001b[04m\u001b[32mLSTMClassifier\u001b[39;49;00m(nn.Module):\n",
      "    \u001b[33m\"\"\"\u001b[39;49;00m\n",
      "\u001b[33m    This is the simple RNN model we will be using to perform Sentiment Analysis.\u001b[39;49;00m\n",
      "\u001b[33m    \"\"\"\u001b[39;49;00m\n",
      "\n",
      "    \u001b[34mdef\u001b[39;49;00m \u001b[32m__init__\u001b[39;49;00m(\u001b[36mself\u001b[39;49;00m, embedding_dim, hidden_dim, vocab_size):\n",
      "        \u001b[33m\"\"\"\u001b[39;49;00m\n",
      "\u001b[33m        Initialize the model by settingg up the various layers.\u001b[39;49;00m\n",
      "\u001b[33m        \"\"\"\u001b[39;49;00m\n",
      "        \u001b[36msuper\u001b[39;49;00m(LSTMClassifier, \u001b[36mself\u001b[39;49;00m).\u001b[32m__init__\u001b[39;49;00m()\n",
      "\n",
      "        \u001b[36mself\u001b[39;49;00m.embedding = nn.Embedding(vocab_size, embedding_dim, padding_idx=\u001b[34m0\u001b[39;49;00m)\n",
      "        \u001b[36mself\u001b[39;49;00m.lstm = nn.LSTM(embedding_dim, hidden_dim)\n",
      "        \u001b[36mself\u001b[39;49;00m.dense = nn.Linear(in_features=hidden_dim, out_features=\u001b[34m1\u001b[39;49;00m)\n",
      "        \u001b[36mself\u001b[39;49;00m.sig = nn.Sigmoid()\n",
      "        \n",
      "        \u001b[36mself\u001b[39;49;00m.word_dict = \u001b[34mNone\u001b[39;49;00m\n",
      "\n",
      "    \u001b[34mdef\u001b[39;49;00m \u001b[32mforward\u001b[39;49;00m(\u001b[36mself\u001b[39;49;00m, x):\n",
      "        \u001b[33m\"\"\"\u001b[39;49;00m\n",
      "\u001b[33m        Perform a forward pass of our model on some input.\u001b[39;49;00m\n",
      "\u001b[33m        \"\"\"\u001b[39;49;00m\n",
      "        x = x.t()\n",
      "        lengths = x[\u001b[34m0\u001b[39;49;00m,:]\n",
      "        reviews = x[\u001b[34m1\u001b[39;49;00m:,:]\n",
      "        embeds = \u001b[36mself\u001b[39;49;00m.embedding(reviews)\n",
      "        lstm_out, _ = \u001b[36mself\u001b[39;49;00m.lstm(embeds)\n",
      "        out = \u001b[36mself\u001b[39;49;00m.dense(lstm_out)\n",
      "        out = out[lengths - \u001b[34m1\u001b[39;49;00m, \u001b[36mrange\u001b[39;49;00m(\u001b[36mlen\u001b[39;49;00m(lengths))]\n",
      "        \u001b[34mreturn\u001b[39;49;00m \u001b[36mself\u001b[39;49;00m.sig(out.squeeze())\n"
     ]
    }
   ],
   "source": [
    "!pygmentize train/model.py"
   ]
  },
  {
   "cell_type": "markdown",
   "metadata": {},
   "source": [
    "The important takeaway from the implementation provided is that there are three parameters that we may wish to tweak to improve the performance of our model. These are the embedding dimension, the hidden dimension and the size of the vocabulary. We will likely want to make these parameters configurable in the training script so that if we wish to modify them we do not need to modify the script itself. We will see how to do this later on. To start we will write some of the training code in the notebook so that we can more easily diagnose any issues that arise.\n",
    "\n",
    "First we will load a small portion of the training data set to use as a sample. It would be very time consuming to try and train the model completely in the notebook as we do not have access to a gpu and the compute instance that we are using is not particularly powerful. However, we can work on a small bit of the data to get a feel for how our training script is behaving."
   ]
  },
  {
   "cell_type": "code",
   "execution_count": 25,
   "metadata": {},
   "outputs": [],
   "source": [
    "import torch\n",
    "import torch.utils.data\n",
    "\n",
    "# Read in only the first 250 rows\n",
    "train_sample = pd.read_csv(os.path.join(data_dir, 'train.csv'), header=None, names=None, nrows=250)\n",
    "\n",
    "# Turn the input pandas dataframe into tensors\n",
    "train_sample_y = torch.from_numpy(train_sample[[0]].values).float().squeeze()\n",
    "train_sample_X = torch.from_numpy(train_sample.drop([0], axis=1).values).long()\n",
    "\n",
    "# Build the dataset\n",
    "train_sample_ds = torch.utils.data.TensorDataset(train_sample_X, train_sample_y)\n",
    "# Build the dataloader\n",
    "train_sample_dl = torch.utils.data.DataLoader(train_sample_ds, batch_size=50)"
   ]
  },
  {
   "cell_type": "markdown",
   "metadata": {},
   "source": [
    "### (TODO) Writing the training method\n",
    "\n",
    "Next we need to write the training code itself. This should be very similar to training methods that you have written before to train PyTorch models. We will leave any difficult aspects such as model saving / loading and parameter loading until a little later."
   ]
  },
  {
   "cell_type": "code",
   "execution_count": 26,
   "metadata": {},
   "outputs": [],
   "source": [
    "def train(model, train_loader, epochs, optimizer, loss_fn, device):\n",
    "    for epoch in range(1, epochs + 1):\n",
    "        model.train()\n",
    "        total_loss = 0\n",
    "        for batch in train_loader:         \n",
    "            batch_X, batch_y = batch\n",
    "            \n",
    "            batch_X = batch_X.to(device)\n",
    "            batch_y = batch_y.to(device)\n",
    "            \n",
    "            # TODO: Complete this train method to train the model provided.\n",
    "            optimizer.zero_grad()\n",
    "            output = model.forward(batch_X)\n",
    "            loss = loss_fn(output, batch_y)\n",
    "            loss.backward()\n",
    "            optimizer.step()\n",
    "            total_loss += loss.data.item()\n",
    "        print(\"Epoch: {}, BCELoss: {}\".format(epoch, total_loss / len(train_loader)))"
   ]
  },
  {
   "cell_type": "markdown",
   "metadata": {},
   "source": [
    "Supposing we have the training method above, we will test that it is working by writing a bit of code in the notebook that executes our training method on the small sample training set that we loaded earlier. The reason for doing this in the notebook is so that we have an opportunity to fix any errors that arise early when they are easier to diagnose."
   ]
  },
  {
   "cell_type": "code",
   "execution_count": 27,
   "metadata": {},
   "outputs": [
    {
     "name": "stdout",
     "output_type": "stream",
     "text": [
      "Epoch: 1, BCELoss: 0.6971158146858215\n",
      "Epoch: 2, BCELoss: 0.6852663993835449\n",
      "Epoch: 3, BCELoss: 0.6755394220352173\n",
      "Epoch: 4, BCELoss: 0.665908932685852\n",
      "Epoch: 5, BCELoss: 0.6556065559387207\n"
     ]
    }
   ],
   "source": [
    "import torch.optim as optim\n",
    "from train.model import LSTMClassifier\n",
    "\n",
    "device = torch.device(\"cuda\" if torch.cuda.is_available() else \"cpu\")\n",
    "model = LSTMClassifier(32, 100, 5000).to(device)\n",
    "optimizer = optim.Adam(model.parameters())\n",
    "loss_fn = torch.nn.BCELoss()\n",
    "\n",
    "train(model, train_sample_dl, 5, optimizer, loss_fn, device)"
   ]
  },
  {
   "cell_type": "markdown",
   "metadata": {},
   "source": [
    "In order to construct a PyTorch model using SageMaker we must provide SageMaker with a training script. We may optionally include a directory which will be copied to the container and from which our training code will be run. When the training container is executed it will check the uploaded directory (if there is one) for a `requirements.txt` file and install any required Python libraries, after which the training script will be run."
   ]
  },
  {
   "cell_type": "markdown",
   "metadata": {},
   "source": [
    "### (TODO) Training the model\n",
    "\n",
    "When a PyTorch model is constructed in SageMaker, an entry point must be specified. This is the Python file which will be executed when the model is trained. Inside of the `train` directory is a file called `train.py` which has been provided and which contains most of the necessary code to train our model. The only thing that is missing is the implementation of the `train()` method which you wrote earlier in this notebook.\n",
    "\n",
    "**TODO**: Copy the `train()` method written above and paste it into the `train/train.py` file where required.\n",
    "\n",
    "The way that SageMaker passes hyperparameters to the training script is by way of arguments. These arguments can then be parsed and used in the training script. To see how this is done take a look at the provided `train/train.py` file."
   ]
  },
  {
   "cell_type": "code",
   "execution_count": 28,
   "metadata": {},
   "outputs": [],
   "source": [
    "from sagemaker.pytorch import PyTorch\n",
    "\n",
    "estimator = PyTorch(entry_point=\"train.py\",\n",
    "                    source_dir=\"train\",\n",
    "                    role=role,\n",
    "                    framework_version='0.4.0',\n",
    "                    train_instance_count=1,\n",
    "                    train_instance_type='ml.p2.xlarge',\n",
    "                    hyperparameters={\n",
    "                        'epochs': 10,\n",
    "                        'hidden_dim': 200,\n",
    "                    })"
   ]
  },
  {
   "cell_type": "code",
   "execution_count": 29,
   "metadata": {},
   "outputs": [
    {
     "name": "stderr",
     "output_type": "stream",
     "text": [
      "'create_image_uri' will be deprecated in favor of 'ImageURIProvider' class in SageMaker Python SDK v2.\n",
      "'s3_input' class will be renamed to 'TrainingInput' in SageMaker Python SDK v2.\n",
      "'create_image_uri' will be deprecated in favor of 'ImageURIProvider' class in SageMaker Python SDK v2.\n"
     ]
    },
    {
     "name": "stdout",
     "output_type": "stream",
     "text": [
      "2020-07-07 10:14:59 Starting - Starting the training job...\n",
      "2020-07-07 10:15:00 Starting - Launching requested ML instances......\n",
      "2020-07-07 10:16:06 Starting - Preparing the instances for training......\n",
      "2020-07-07 10:17:27 Downloading - Downloading input data......\n",
      "2020-07-07 10:18:04 Training - Downloading the training image..\u001b[34mbash: cannot set terminal process group (-1): Inappropriate ioctl for device\u001b[0m\n",
      "\u001b[34mbash: no job control in this shell\u001b[0m\n",
      "\u001b[34m2020-07-07 10:18:35,484 sagemaker-containers INFO     Imported framework sagemaker_pytorch_container.training\u001b[0m\n",
      "\u001b[34m2020-07-07 10:18:35,508 sagemaker_pytorch_container.training INFO     Block until all host DNS lookups succeed.\u001b[0m\n",
      "\u001b[34m2020-07-07 10:18:36,927 sagemaker_pytorch_container.training INFO     Invoking user training script.\u001b[0m\n",
      "\u001b[34m2020-07-07 10:18:37,157 sagemaker-containers INFO     Module train does not provide a setup.py. \u001b[0m\n",
      "\u001b[34mGenerating setup.py\u001b[0m\n",
      "\u001b[34m2020-07-07 10:18:37,157 sagemaker-containers INFO     Generating setup.cfg\u001b[0m\n",
      "\u001b[34m2020-07-07 10:18:37,158 sagemaker-containers INFO     Generating MANIFEST.in\u001b[0m\n",
      "\u001b[34m2020-07-07 10:18:37,158 sagemaker-containers INFO     Installing module with the following command:\u001b[0m\n",
      "\u001b[34m/usr/bin/python -m pip install -U . -r requirements.txt\u001b[0m\n",
      "\u001b[34mProcessing /opt/ml/code\u001b[0m\n",
      "\u001b[34mCollecting pandas (from -r requirements.txt (line 1))\u001b[0m\n",
      "\u001b[34m  Downloading https://files.pythonhosted.org/packages/74/24/0cdbf8907e1e3bc5a8da03345c23cbed7044330bb8f73bb12e711a640a00/pandas-0.24.2-cp35-cp35m-manylinux1_x86_64.whl (10.0MB)\u001b[0m\n",
      "\u001b[34mCollecting numpy (from -r requirements.txt (line 2))\n",
      "  Downloading https://files.pythonhosted.org/packages/b5/36/88723426b4ff576809fec7d73594fe17a35c27f8d01f93637637a29ae25b/numpy-1.18.5-cp35-cp35m-manylinux1_x86_64.whl (19.9MB)\u001b[0m\n",
      "\u001b[34mCollecting nltk (from -r requirements.txt (line 3))\n",
      "  Downloading https://files.pythonhosted.org/packages/92/75/ce35194d8e3022203cca0d2f896dbb88689f9b3fce8e9f9cff942913519d/nltk-3.5.zip (1.4MB)\u001b[0m\n",
      "\u001b[34mCollecting beautifulsoup4 (from -r requirements.txt (line 4))\n",
      "  Downloading https://files.pythonhosted.org/packages/66/25/ff030e2437265616a1e9b25ccc864e0371a0bc3adb7c5a404fd661c6f4f6/beautifulsoup4-4.9.1-py3-none-any.whl (115kB)\u001b[0m\n",
      "\u001b[34mCollecting html5lib (from -r requirements.txt (line 5))\n",
      "  Downloading https://files.pythonhosted.org/packages/6c/dd/a834df6482147d48e225a49515aabc28974ad5a4ca3215c18a882565b028/html5lib-1.1-py2.py3-none-any.whl (112kB)\u001b[0m\n",
      "\u001b[34mCollecting pytz>=2011k (from pandas->-r requirements.txt (line 1))\n",
      "  Downloading https://files.pythonhosted.org/packages/4f/a4/879454d49688e2fad93e59d7d4efda580b783c745fd2ec2a3adf87b0808d/pytz-2020.1-py2.py3-none-any.whl (510kB)\u001b[0m\n",
      "\u001b[34mRequirement already satisfied, skipping upgrade: python-dateutil>=2.5.0 in /usr/local/lib/python3.5/dist-packages (from pandas->-r requirements.txt (line 1)) (2.7.5)\u001b[0m\n",
      "\u001b[34mRequirement already satisfied, skipping upgrade: click in /usr/local/lib/python3.5/dist-packages (from nltk->-r requirements.txt (line 3)) (7.0)\u001b[0m\n",
      "\u001b[34mCollecting joblib (from nltk->-r requirements.txt (line 3))\n",
      "  Downloading https://files.pythonhosted.org/packages/28/5c/cf6a2b65a321c4a209efcdf64c2689efae2cb62661f8f6f4bb28547cf1bf/joblib-0.14.1-py2.py3-none-any.whl (294kB)\u001b[0m\n",
      "\u001b[34mCollecting regex (from nltk->-r requirements.txt (line 3))\u001b[0m\n",
      "\u001b[34m  Downloading https://files.pythonhosted.org/packages/b8/7b/01510a6229c2176425bda54d15fba05a4b3df169b87265b008480261d2f9/regex-2020.6.8.tar.gz (690kB)\u001b[0m\n",
      "\u001b[34mCollecting tqdm (from nltk->-r requirements.txt (line 3))\n",
      "  Downloading https://files.pythonhosted.org/packages/46/62/7663894f67ac5a41a0d8812d78d9d2a9404124051885af9d77dc526fb399/tqdm-4.47.0-py2.py3-none-any.whl (66kB)\u001b[0m\n",
      "\u001b[34mCollecting soupsieve>1.2 (from beautifulsoup4->-r requirements.txt (line 4))\n",
      "  Downloading https://files.pythonhosted.org/packages/6f/8f/457f4a5390eeae1cc3aeab89deb7724c965be841ffca6cfca9197482e470/soupsieve-2.0.1-py3-none-any.whl\u001b[0m\n",
      "\u001b[34mCollecting webencodings (from html5lib->-r requirements.txt (line 5))\n",
      "  Downloading https://files.pythonhosted.org/packages/f4/24/2a3e3df732393fed8b3ebf2ec078f05546de641fe1b667ee316ec1dcf3b7/webencodings-0.5.1-py2.py3-none-any.whl\u001b[0m\n",
      "\u001b[34mRequirement already satisfied, skipping upgrade: six>=1.9 in /usr/local/lib/python3.5/dist-packages (from html5lib->-r requirements.txt (line 5)) (1.11.0)\u001b[0m\n",
      "\u001b[34mBuilding wheels for collected packages: nltk, train, regex\n",
      "  Running setup.py bdist_wheel for nltk: started\u001b[0m\n",
      "\u001b[34m  Running setup.py bdist_wheel for nltk: finished with status 'done'\n",
      "  Stored in directory: /root/.cache/pip/wheels/ae/8c/3f/b1fe0ba04555b08b57ab52ab7f86023639a526d8bc8d384306\n",
      "  Running setup.py bdist_wheel for train: started\n",
      "  Running setup.py bdist_wheel for train: finished with status 'done'\n",
      "  Stored in directory: /tmp/pip-ephem-wheel-cache-e969t08r/wheels/35/24/16/37574d11bf9bde50616c67372a334f94fa8356bc7164af8ca3\n",
      "  Running setup.py bdist_wheel for regex: started\u001b[0m\n",
      "\n",
      "2020-07-07 10:18:34 Training - Training image download completed. Training in progress.\u001b[34m  Running setup.py bdist_wheel for regex: finished with status 'done'\n",
      "  Stored in directory: /root/.cache/pip/wheels/9c/e2/cf/246ad8c87bcdf3cba1ec95fa89bc205c9037aa8f4d2e26fdad\u001b[0m\n",
      "\u001b[34mSuccessfully built nltk train regex\u001b[0m\n",
      "\u001b[34mInstalling collected packages: numpy, pytz, pandas, joblib, regex, tqdm, nltk, soupsieve, beautifulsoup4, webencodings, html5lib, train\n",
      "  Found existing installation: numpy 1.15.4\n",
      "    Uninstalling numpy-1.15.4:\u001b[0m\n",
      "\u001b[34m      Successfully uninstalled numpy-1.15.4\u001b[0m\n",
      "\u001b[34mSuccessfully installed beautifulsoup4-4.9.1 html5lib-1.1 joblib-0.14.1 nltk-3.5 numpy-1.18.5 pandas-0.24.2 pytz-2020.1 regex-2020.6.8 soupsieve-2.0.1 tqdm-4.47.0 train-1.0.0 webencodings-0.5.1\u001b[0m\n",
      "\u001b[34mYou are using pip version 18.1, however version 20.2b1 is available.\u001b[0m\n",
      "\u001b[34mYou should consider upgrading via the 'pip install --upgrade pip' command.\u001b[0m\n",
      "\u001b[34m2020-07-07 10:18:58,814 sagemaker-containers INFO     Invoking user script\n",
      "\u001b[0m\n",
      "\u001b[34mTraining Env:\n",
      "\u001b[0m\n",
      "\u001b[34m{\n",
      "    \"input_data_config\": {\n",
      "        \"training\": {\n",
      "            \"S3DistributionType\": \"FullyReplicated\",\n",
      "            \"RecordWrapperType\": \"None\",\n",
      "            \"TrainingInputMode\": \"File\"\n",
      "        }\n",
      "    },\n",
      "    \"output_data_dir\": \"/opt/ml/output/data\",\n",
      "    \"current_host\": \"algo-1\",\n",
      "    \"user_entry_point\": \"train.py\",\n",
      "    \"input_dir\": \"/opt/ml/input\",\n",
      "    \"output_intermediate_dir\": \"/opt/ml/output/intermediate\",\n",
      "    \"resource_config\": {\n",
      "        \"network_interface_name\": \"eth0\",\n",
      "        \"current_host\": \"algo-1\",\n",
      "        \"hosts\": [\n",
      "            \"algo-1\"\n",
      "        ]\n",
      "    },\n",
      "    \"module_dir\": \"s3://sagemaker-us-east-2-298679783816/sagemaker-pytorch-2020-07-07-10-14-58-513/source/sourcedir.tar.gz\",\n",
      "    \"channel_input_dirs\": {\n",
      "        \"training\": \"/opt/ml/input/data/training\"\n",
      "    },\n",
      "    \"log_level\": 20,\n",
      "    \"module_name\": \"train\",\n",
      "    \"num_gpus\": 1,\n",
      "    \"hyperparameters\": {\n",
      "        \"epochs\": 10,\n",
      "        \"hidden_dim\": 200\n",
      "    },\n",
      "    \"hosts\": [\n",
      "        \"algo-1\"\n",
      "    ],\n",
      "    \"input_config_dir\": \"/opt/ml/input/config\",\n",
      "    \"model_dir\": \"/opt/ml/model\",\n",
      "    \"job_name\": \"sagemaker-pytorch-2020-07-07-10-14-58-513\",\n",
      "    \"additional_framework_parameters\": {},\n",
      "    \"framework_module\": \"sagemaker_pytorch_container.training:main\",\n",
      "    \"network_interface_name\": \"eth0\",\n",
      "    \"num_cpus\": 4,\n",
      "    \"output_dir\": \"/opt/ml/output\"\u001b[0m\n",
      "\u001b[34m}\n",
      "\u001b[0m\n",
      "\u001b[34mEnvironment variables:\n",
      "\u001b[0m\n",
      "\u001b[34mSM_HP_HIDDEN_DIM=200\u001b[0m\n",
      "\u001b[34mSM_CURRENT_HOST=algo-1\u001b[0m\n",
      "\u001b[34mSM_OUTPUT_INTERMEDIATE_DIR=/opt/ml/output/intermediate\u001b[0m\n",
      "\u001b[34mSM_NUM_GPUS=1\u001b[0m\n",
      "\u001b[34mSM_NETWORK_INTERFACE_NAME=eth0\u001b[0m\n",
      "\u001b[34mSM_HP_EPOCHS=10\u001b[0m\n",
      "\u001b[34mSM_USER_ARGS=[\"--epochs\",\"10\",\"--hidden_dim\",\"200\"]\u001b[0m\n",
      "\u001b[34mSM_CHANNELS=[\"training\"]\u001b[0m\n",
      "\u001b[34mSM_OUTPUT_DATA_DIR=/opt/ml/output/data\u001b[0m\n",
      "\u001b[34mSM_INPUT_CONFIG_DIR=/opt/ml/input/config\u001b[0m\n",
      "\u001b[34mSM_MODULE_NAME=train\u001b[0m\n",
      "\u001b[34mSM_RESOURCE_CONFIG={\"current_host\":\"algo-1\",\"hosts\":[\"algo-1\"],\"network_interface_name\":\"eth0\"}\u001b[0m\n",
      "\u001b[34mSM_HOSTS=[\"algo-1\"]\u001b[0m\n",
      "\u001b[34mSM_HPS={\"epochs\":10,\"hidden_dim\":200}\u001b[0m\n",
      "\u001b[34mSM_NUM_CPUS=4\u001b[0m\n",
      "\u001b[34mSM_MODULE_DIR=s3://sagemaker-us-east-2-298679783816/sagemaker-pytorch-2020-07-07-10-14-58-513/source/sourcedir.tar.gz\u001b[0m\n",
      "\u001b[34mSM_INPUT_DIR=/opt/ml/input\u001b[0m\n",
      "\u001b[34mSM_MODEL_DIR=/opt/ml/model\u001b[0m\n",
      "\u001b[34mSM_FRAMEWORK_PARAMS={}\u001b[0m\n",
      "\u001b[34mSM_CHANNEL_TRAINING=/opt/ml/input/data/training\u001b[0m\n",
      "\u001b[34mSM_TRAINING_ENV={\"additional_framework_parameters\":{},\"channel_input_dirs\":{\"training\":\"/opt/ml/input/data/training\"},\"current_host\":\"algo-1\",\"framework_module\":\"sagemaker_pytorch_container.training:main\",\"hosts\":[\"algo-1\"],\"hyperparameters\":{\"epochs\":10,\"hidden_dim\":200},\"input_config_dir\":\"/opt/ml/input/config\",\"input_data_config\":{\"training\":{\"RecordWrapperType\":\"None\",\"S3DistributionType\":\"FullyReplicated\",\"TrainingInputMode\":\"File\"}},\"input_dir\":\"/opt/ml/input\",\"job_name\":\"sagemaker-pytorch-2020-07-07-10-14-58-513\",\"log_level\":20,\"model_dir\":\"/opt/ml/model\",\"module_dir\":\"s3://sagemaker-us-east-2-298679783816/sagemaker-pytorch-2020-07-07-10-14-58-513/source/sourcedir.tar.gz\",\"module_name\":\"train\",\"network_interface_name\":\"eth0\",\"num_cpus\":4,\"num_gpus\":1,\"output_data_dir\":\"/opt/ml/output/data\",\"output_dir\":\"/opt/ml/output\",\"output_intermediate_dir\":\"/opt/ml/output/intermediate\",\"resource_config\":{\"current_host\":\"algo-1\",\"hosts\":[\"algo-1\"],\"network_interface_name\":\"eth0\"},\"user_entry_point\":\"train.py\"}\u001b[0m\n",
      "\u001b[34mSM_FRAMEWORK_MODULE=sagemaker_pytorch_container.training:main\u001b[0m\n",
      "\u001b[34mSM_USER_ENTRY_POINT=train.py\u001b[0m\n",
      "\u001b[34mSM_OUTPUT_DIR=/opt/ml/output\u001b[0m\n",
      "\u001b[34mSM_LOG_LEVEL=20\u001b[0m\n",
      "\u001b[34mSM_INPUT_DATA_CONFIG={\"training\":{\"RecordWrapperType\":\"None\",\"S3DistributionType\":\"FullyReplicated\",\"TrainingInputMode\":\"File\"}}\u001b[0m\n",
      "\u001b[34mPYTHONPATH=/usr/local/bin:/usr/lib/python35.zip:/usr/lib/python3.5:/usr/lib/python3.5/plat-x86_64-linux-gnu:/usr/lib/python3.5/lib-dynload:/usr/local/lib/python3.5/dist-packages:/usr/lib/python3/dist-packages\n",
      "\u001b[0m\n",
      "\u001b[34mInvoking script with the following command:\n",
      "\u001b[0m\n",
      "\u001b[34m/usr/bin/python -m train --epochs 10 --hidden_dim 200\n",
      "\n",
      "\u001b[0m\n",
      "\u001b[34mUsing device cuda.\u001b[0m\n",
      "\u001b[34mGet train data loader.\u001b[0m\n",
      "\u001b[34mModel loaded with embedding_dim 32, hidden_dim 200, vocab_size 5000.\u001b[0m\n",
      "\u001b[34mEpoch: 1, BCELoss: 0.6712005856085796\u001b[0m\n",
      "\u001b[34mEpoch: 2, BCELoss: 0.5953703887608587\u001b[0m\n",
      "\u001b[34mEpoch: 3, BCELoss: 0.5104189691494923\u001b[0m\n",
      "\u001b[34mEpoch: 4, BCELoss: 0.4380725275497047\u001b[0m\n",
      "\u001b[34mEpoch: 5, BCELoss: 0.39914565913531247\u001b[0m\n",
      "\u001b[34mEpoch: 6, BCELoss: 0.3496779708229766\u001b[0m\n",
      "\u001b[34mEpoch: 7, BCELoss: 0.3259902219383084\u001b[0m\n",
      "\u001b[34mEpoch: 8, BCELoss: 0.30550962078328037\u001b[0m\n",
      "\u001b[34mEpoch: 9, BCELoss: 0.28697240535093815\u001b[0m\n",
      "\n",
      "2020-07-07 10:21:57 Uploading - Uploading generated training model\u001b[34mEpoch: 10, BCELoss: 0.26640932839743947\u001b[0m\n",
      "\u001b[34m2020-07-07 10:21:56,217 sagemaker-containers INFO     Reporting training SUCCESS\u001b[0m\n",
      "\n",
      "2020-07-07 10:22:04 Completed - Training job completed\n",
      "Training seconds: 277\n",
      "Billable seconds: 277\n"
     ]
    }
   ],
   "source": [
    "estimator.fit({'training': input_data})"
   ]
  },
  {
   "cell_type": "markdown",
   "metadata": {},
   "source": [
    "## Step 5: Testing the model\n",
    "\n",
    "As mentioned at the top of this notebook, we will be testing this model by first deploying it and then sending the testing data to the deployed endpoint. We will do this so that we can make sure that the deployed model is working correctly.\n",
    "\n",
    "## Step 6: Deploy the model for testing\n",
    "\n",
    "Now that we have trained our model, we would like to test it to see how it performs. Currently our model takes input of the form `review_length, review[500]` where `review[500]` is a sequence of `500` integers which describe the words present in the review, encoded using `word_dict`. Fortunately for us, SageMaker provides built-in inference code for models with simple inputs such as this.\n",
    "\n",
    "There is one thing that we need to provide, however, and that is a function which loads the saved model. This function must be called `model_fn()` and takes as its only parameter a path to the directory where the model artifacts are stored. This function must also be present in the python file which we specified as the entry point. In our case the model loading function has been provided and so no changes need to be made.\n",
    "\n",
    "**NOTE**: When the built-in inference code is run it must import the `model_fn()` method from the `train.py` file. This is why the training code is wrapped in a main guard ( ie, `if __name__ == '__main__':` )\n",
    "\n",
    "Since we don't need to change anything in the code that was uploaded during training, we can simply deploy the current model as-is.\n",
    "\n",
    "**NOTE:** When deploying a model you are asking SageMaker to launch an compute instance that will wait for data to be sent to it. As a result, this compute instance will continue to run until *you* shut it down. This is important to know since the cost of a deployed endpoint depends on how long it has been running for.\n",
    "\n",
    "In other words **If you are no longer using a deployed endpoint, shut it down!**\n",
    "\n",
    "**TODO:** Deploy the trained model."
   ]
  },
  {
   "cell_type": "code",
   "execution_count": null,
   "metadata": {},
   "outputs": [
    {
     "name": "stderr",
     "output_type": "stream",
     "text": [
      "Parameter image will be renamed to image_uri in SageMaker Python SDK v2.\n",
      "'create_image_uri' will be deprecated in favor of 'ImageURIProvider' class in SageMaker Python SDK v2.\n"
     ]
    },
    {
     "name": "stdout",
     "output_type": "stream",
     "text": [
      "-------------------"
     ]
    }
   ],
   "source": [
    "# TODO: Deploy the trained model\n",
    "predictor = estimator.deploy(initial_instance_count = 1, instance_type = 'ml.p2.xlarge')"
   ]
  },
  {
   "cell_type": "markdown",
   "metadata": {},
   "source": [
    "## Step 7 - Use the model for testing\n",
    "\n",
    "Once deployed, we can read in the test data and send it off to our deployed model to get some results. Once we collect all of the results we can determine how accurate our model is."
   ]
  },
  {
   "cell_type": "code",
   "execution_count": 31,
   "metadata": {},
   "outputs": [],
   "source": [
    "test_X = pd.concat([pd.DataFrame(test_X_len), pd.DataFrame(test_X)], axis=1)"
   ]
  },
  {
   "cell_type": "code",
   "execution_count": 32,
   "metadata": {},
   "outputs": [],
   "source": [
    "# We split the data into chunks and send each chunk seperately, accumulating the results.\n",
    "\n",
    "def predict(data, rows=512):\n",
    "    split_array = np.array_split(data, int(data.shape[0] / float(rows) + 1))\n",
    "    predictions = np.array([])\n",
    "    for array in split_array:\n",
    "        predictions = np.append(predictions, predictor.predict(array))\n",
    "    \n",
    "    return predictions"
   ]
  },
  {
   "cell_type": "code",
   "execution_count": 33,
   "metadata": {},
   "outputs": [],
   "source": [
    "predictions = predict(test_X.values)\n",
    "predictions = [round(num) for num in predictions]"
   ]
  },
  {
   "cell_type": "code",
   "execution_count": 34,
   "metadata": {},
   "outputs": [
    {
     "data": {
      "text/plain": [
       "0.85812"
      ]
     },
     "execution_count": 34,
     "metadata": {},
     "output_type": "execute_result"
    }
   ],
   "source": [
    "from sklearn.metrics import accuracy_score\n",
    "accuracy_score(test_y, predictions)"
   ]
  },
  {
   "cell_type": "markdown",
   "metadata": {},
   "source": [
    "**Question:** How does this model compare to the XGBoost model you created earlier? Why might these two models perform differently on this dataset? Which do *you* think is better for sentiment analysis?"
   ]
  },
  {
   "cell_type": "markdown",
   "metadata": {},
   "source": [
    "**Answer:** The way of deployment is the same but this model perform well than the XGBoost. The reasons could be the way of cleaning the data. And the network used is deeper."
   ]
  },
  {
   "cell_type": "markdown",
   "metadata": {},
   "source": [
    "### (TODO) More testing\n",
    "\n",
    "We now have a trained model which has been deployed and which we can send processed reviews to and which returns the predicted sentiment. However, ultimately we would like to be able to send our model an unprocessed review. That is, we would like to send the review itself as a string. For example, suppose we wish to send the following review to our model."
   ]
  },
  {
   "cell_type": "code",
   "execution_count": 35,
   "metadata": {},
   "outputs": [],
   "source": [
    "test_review = 'The simplest pleasures in life are the best, and this film is one of them. Combining a rather basic storyline of love and adventure this movie transcends the usual weekend fair with wit and unmitigated charm.'"
   ]
  },
  {
   "cell_type": "markdown",
   "metadata": {},
   "source": [
    "The question we now need to answer is, how do we send this review to our model?\n",
    "\n",
    "Recall in the first section of this notebook we did a bunch of data processing to the IMDb dataset. In particular, we did two specific things to the provided reviews.\n",
    " - Removed any html tags and stemmed the input\n",
    " - Encoded the review as a sequence of integers using `word_dict`\n",
    " \n",
    "In order process the review we will need to repeat these two steps.\n",
    "\n",
    "**TODO**: Using the `review_to_words` and `convert_and_pad` methods from section one, convert `test_review` into a numpy array `test_data` suitable to send to our model. Remember that our model expects input of the form `review_length, review[500]`."
   ]
  },
  {
   "cell_type": "code",
   "execution_count": 36,
   "metadata": {},
   "outputs": [],
   "source": [
    "# TODO: Convert test_review into a form usable by the model and save the results in test_data\n",
    "test_data =  review_to_words(test_review)\n",
    "test_data = [np.array(convert_and_pad(word_dict, test_data)[0])]"
   ]
  },
  {
   "cell_type": "markdown",
   "metadata": {},
   "source": [
    "Now that we have processed the review, we can send the resulting array to our model to predict the sentiment of the review."
   ]
  },
  {
   "cell_type": "code",
   "execution_count": 37,
   "metadata": {},
   "outputs": [
    {
     "data": {
      "text/plain": [
       "array(0.5540217, dtype=float32)"
      ]
     },
     "execution_count": 37,
     "metadata": {},
     "output_type": "execute_result"
    }
   ],
   "source": [
    "predictor.predict(test_data)"
   ]
  },
  {
   "cell_type": "markdown",
   "metadata": {},
   "source": [
    "Since the return value of our model is close to `1`, we can be certain that the review we submitted is positive."
   ]
  },
  {
   "cell_type": "markdown",
   "metadata": {},
   "source": [
    "### Delete the endpoint\n",
    "\n",
    "Of course, just like in the XGBoost notebook, once we've deployed an endpoint it continues to run until we tell it to shut down. Since we are done using our endpoint for now, we can delete it."
   ]
  },
  {
   "cell_type": "code",
   "execution_count": 38,
   "metadata": {},
   "outputs": [],
   "source": [
    "estimator.delete_endpoint()"
   ]
  },
  {
   "cell_type": "markdown",
   "metadata": {},
   "source": [
    "## Step 6 (again) - Deploy the model for the web app\n",
    "\n",
    "Now that we know that our model is working, it's time to create some custom inference code so that we can send the model a review which has not been processed and have it determine the sentiment of the review.\n",
    "\n",
    "As we saw above, by default the estimator which we created, when deployed, will use the entry script and directory which we provided when creating the model. However, since we now wish to accept a string as input and our model expects a processed review, we need to write some custom inference code.\n",
    "\n",
    "We will store the code that we write in the `serve` directory. Provided in this directory is the `model.py` file that we used to construct our model, a `utils.py` file which contains the `review_to_words` and `convert_and_pad` pre-processing functions which we used during the initial data processing, and `predict.py`, the file which will contain our custom inference code. Note also that `requirements.txt` is present which will tell SageMaker what Python libraries are required by our custom inference code.\n",
    "\n",
    "When deploying a PyTorch model in SageMaker, you are expected to provide four functions which the SageMaker inference container will use.\n",
    " - `model_fn`: This function is the same function that we used in the training script and it tells SageMaker how to load our model.\n",
    " - `input_fn`: This function receives the raw serialized input that has been sent to the model's endpoint and its job is to de-serialize and make the input available for the inference code.\n",
    " - `output_fn`: This function takes the output of the inference code and its job is to serialize this output and return it to the caller of the model's endpoint.\n",
    " - `predict_fn`: The heart of the inference script, this is where the actual prediction is done and is the function which you will need to complete.\n",
    "\n",
    "For the simple website that we are constructing during this project, the `input_fn` and `output_fn` methods are relatively straightforward. We only require being able to accept a string as input and we expect to return a single value as output. You might imagine though that in a more complex application the input or output may be image data or some other binary data which would require some effort to serialize.\n",
    "\n",
    "### (TODO) Writing inference code\n",
    "\n",
    "Before writing our custom inference code, we will begin by taking a look at the code which has been provided."
   ]
  },
  {
   "cell_type": "code",
   "execution_count": 39,
   "metadata": {},
   "outputs": [
    {
     "name": "stdout",
     "output_type": "stream",
     "text": [
      "\u001b[34mimport\u001b[39;49;00m \u001b[04m\u001b[36margparse\u001b[39;49;00m\n",
      "\u001b[34mimport\u001b[39;49;00m \u001b[04m\u001b[36mjson\u001b[39;49;00m\n",
      "\u001b[34mimport\u001b[39;49;00m \u001b[04m\u001b[36mos\u001b[39;49;00m\n",
      "\u001b[34mimport\u001b[39;49;00m \u001b[04m\u001b[36mpickle\u001b[39;49;00m\n",
      "\u001b[34mimport\u001b[39;49;00m \u001b[04m\u001b[36msys\u001b[39;49;00m\n",
      "\u001b[34mimport\u001b[39;49;00m \u001b[04m\u001b[36msagemaker_containers\u001b[39;49;00m\n",
      "\u001b[34mimport\u001b[39;49;00m \u001b[04m\u001b[36mpandas\u001b[39;49;00m \u001b[34mas\u001b[39;49;00m \u001b[04m\u001b[36mpd\u001b[39;49;00m\n",
      "\u001b[34mimport\u001b[39;49;00m \u001b[04m\u001b[36mnumpy\u001b[39;49;00m \u001b[34mas\u001b[39;49;00m \u001b[04m\u001b[36mnp\u001b[39;49;00m\n",
      "\u001b[34mimport\u001b[39;49;00m \u001b[04m\u001b[36mtorch\u001b[39;49;00m\n",
      "\u001b[34mimport\u001b[39;49;00m \u001b[04m\u001b[36mtorch\u001b[39;49;00m\u001b[04m\u001b[36m.\u001b[39;49;00m\u001b[04m\u001b[36mnn\u001b[39;49;00m \u001b[34mas\u001b[39;49;00m \u001b[04m\u001b[36mnn\u001b[39;49;00m\n",
      "\u001b[34mimport\u001b[39;49;00m \u001b[04m\u001b[36mtorch\u001b[39;49;00m\u001b[04m\u001b[36m.\u001b[39;49;00m\u001b[04m\u001b[36moptim\u001b[39;49;00m \u001b[34mas\u001b[39;49;00m \u001b[04m\u001b[36moptim\u001b[39;49;00m\n",
      "\u001b[34mimport\u001b[39;49;00m \u001b[04m\u001b[36mtorch\u001b[39;49;00m\u001b[04m\u001b[36m.\u001b[39;49;00m\u001b[04m\u001b[36mutils\u001b[39;49;00m\u001b[04m\u001b[36m.\u001b[39;49;00m\u001b[04m\u001b[36mdata\u001b[39;49;00m\n",
      "\n",
      "\u001b[34mfrom\u001b[39;49;00m \u001b[04m\u001b[36mmodel\u001b[39;49;00m \u001b[34mimport\u001b[39;49;00m LSTMClassifier\n",
      "\n",
      "\u001b[34mfrom\u001b[39;49;00m \u001b[04m\u001b[36mutils\u001b[39;49;00m \u001b[34mimport\u001b[39;49;00m review_to_words, convert_and_pad\n",
      "\n",
      "\u001b[34mdef\u001b[39;49;00m \u001b[32mmodel_fn\u001b[39;49;00m(model_dir):\n",
      "    \u001b[33m\"\"\"Load the PyTorch model from the `model_dir` directory.\"\"\"\u001b[39;49;00m\n",
      "    \u001b[36mprint\u001b[39;49;00m(\u001b[33m\"\u001b[39;49;00m\u001b[33mLoading model.\u001b[39;49;00m\u001b[33m\"\u001b[39;49;00m)\n",
      "\n",
      "    \u001b[37m# First, load the parameters used to create the model.\u001b[39;49;00m\n",
      "    model_info = {}\n",
      "    model_info_path = os.path.join(model_dir, \u001b[33m'\u001b[39;49;00m\u001b[33mmodel_info.pth\u001b[39;49;00m\u001b[33m'\u001b[39;49;00m)\n",
      "    \u001b[34mwith\u001b[39;49;00m \u001b[36mopen\u001b[39;49;00m(model_info_path, \u001b[33m'\u001b[39;49;00m\u001b[33mrb\u001b[39;49;00m\u001b[33m'\u001b[39;49;00m) \u001b[34mas\u001b[39;49;00m f:\n",
      "        model_info = torch.load(f)\n",
      "\n",
      "    \u001b[36mprint\u001b[39;49;00m(\u001b[33m\"\u001b[39;49;00m\u001b[33mmodel_info: \u001b[39;49;00m\u001b[33m{}\u001b[39;49;00m\u001b[33m\"\u001b[39;49;00m.format(model_info))\n",
      "\n",
      "    \u001b[37m# Determine the device and construct the model.\u001b[39;49;00m\n",
      "    device = torch.device(\u001b[33m\"\u001b[39;49;00m\u001b[33mcuda\u001b[39;49;00m\u001b[33m\"\u001b[39;49;00m \u001b[34mif\u001b[39;49;00m torch.cuda.is_available() \u001b[34melse\u001b[39;49;00m \u001b[33m\"\u001b[39;49;00m\u001b[33mcpu\u001b[39;49;00m\u001b[33m\"\u001b[39;49;00m)\n",
      "    model = LSTMClassifier(model_info[\u001b[33m'\u001b[39;49;00m\u001b[33membedding_dim\u001b[39;49;00m\u001b[33m'\u001b[39;49;00m], model_info[\u001b[33m'\u001b[39;49;00m\u001b[33mhidden_dim\u001b[39;49;00m\u001b[33m'\u001b[39;49;00m], model_info[\u001b[33m'\u001b[39;49;00m\u001b[33mvocab_size\u001b[39;49;00m\u001b[33m'\u001b[39;49;00m])\n",
      "\n",
      "    \u001b[37m# Load the store model parameters.\u001b[39;49;00m\n",
      "    model_path = os.path.join(model_dir, \u001b[33m'\u001b[39;49;00m\u001b[33mmodel.pth\u001b[39;49;00m\u001b[33m'\u001b[39;49;00m)\n",
      "    \u001b[34mwith\u001b[39;49;00m \u001b[36mopen\u001b[39;49;00m(model_path, \u001b[33m'\u001b[39;49;00m\u001b[33mrb\u001b[39;49;00m\u001b[33m'\u001b[39;49;00m) \u001b[34mas\u001b[39;49;00m f:\n",
      "        model.load_state_dict(torch.load(f))\n",
      "\n",
      "    \u001b[37m# Load the saved word_dict.\u001b[39;49;00m\n",
      "    word_dict_path = os.path.join(model_dir, \u001b[33m'\u001b[39;49;00m\u001b[33mword_dict.pkl\u001b[39;49;00m\u001b[33m'\u001b[39;49;00m)\n",
      "    \u001b[34mwith\u001b[39;49;00m \u001b[36mopen\u001b[39;49;00m(word_dict_path, \u001b[33m'\u001b[39;49;00m\u001b[33mrb\u001b[39;49;00m\u001b[33m'\u001b[39;49;00m) \u001b[34mas\u001b[39;49;00m f:\n",
      "        model.word_dict = pickle.load(f)\n",
      "\n",
      "    model.to(device).eval()\n",
      "\n",
      "    \u001b[36mprint\u001b[39;49;00m(\u001b[33m\"\u001b[39;49;00m\u001b[33mDone loading model.\u001b[39;49;00m\u001b[33m\"\u001b[39;49;00m)\n",
      "    \u001b[34mreturn\u001b[39;49;00m model\n",
      "\n",
      "\u001b[34mdef\u001b[39;49;00m \u001b[32minput_fn\u001b[39;49;00m(serialized_input_data, content_type):\n",
      "    \u001b[36mprint\u001b[39;49;00m(\u001b[33m'\u001b[39;49;00m\u001b[33mDeserializing the input data.\u001b[39;49;00m\u001b[33m'\u001b[39;49;00m)\n",
      "    \u001b[34mif\u001b[39;49;00m content_type == \u001b[33m'\u001b[39;49;00m\u001b[33mtext/plain\u001b[39;49;00m\u001b[33m'\u001b[39;49;00m:\n",
      "        data = serialized_input_data.decode(\u001b[33m'\u001b[39;49;00m\u001b[33mutf-8\u001b[39;49;00m\u001b[33m'\u001b[39;49;00m)\n",
      "        \u001b[34mreturn\u001b[39;49;00m data\n",
      "    \u001b[34mraise\u001b[39;49;00m \u001b[36mException\u001b[39;49;00m(\u001b[33m'\u001b[39;49;00m\u001b[33mRequested unsupported ContentType in content_type: \u001b[39;49;00m\u001b[33m'\u001b[39;49;00m + content_type)\n",
      "\n",
      "\u001b[34mdef\u001b[39;49;00m \u001b[32moutput_fn\u001b[39;49;00m(prediction_output, accept):\n",
      "    \u001b[36mprint\u001b[39;49;00m(\u001b[33m'\u001b[39;49;00m\u001b[33mSerializing the generated output.\u001b[39;49;00m\u001b[33m'\u001b[39;49;00m)\n",
      "    \u001b[34mreturn\u001b[39;49;00m \u001b[36mstr\u001b[39;49;00m(prediction_output)\n",
      "\n",
      "\u001b[34mdef\u001b[39;49;00m \u001b[32mpredict_fn\u001b[39;49;00m(input_data, model):\n",
      "    \u001b[36mprint\u001b[39;49;00m(\u001b[33m'\u001b[39;49;00m\u001b[33mInferring sentiment of input data.\u001b[39;49;00m\u001b[33m'\u001b[39;49;00m)\n",
      "\n",
      "    device = torch.device(\u001b[33m\"\u001b[39;49;00m\u001b[33mcuda\u001b[39;49;00m\u001b[33m\"\u001b[39;49;00m \u001b[34mif\u001b[39;49;00m torch.cuda.is_available() \u001b[34melse\u001b[39;49;00m \u001b[33m\"\u001b[39;49;00m\u001b[33mcpu\u001b[39;49;00m\u001b[33m\"\u001b[39;49;00m)\n",
      "    \n",
      "    \u001b[34mif\u001b[39;49;00m model.word_dict \u001b[35mis\u001b[39;49;00m \u001b[34mNone\u001b[39;49;00m:\n",
      "        \u001b[34mraise\u001b[39;49;00m \u001b[36mException\u001b[39;49;00m(\u001b[33m'\u001b[39;49;00m\u001b[33mModel has not been loaded properly, no word_dict.\u001b[39;49;00m\u001b[33m'\u001b[39;49;00m)\n",
      "    \n",
      "    \u001b[37m# TODO: Process input_data so that it is ready to be sent to our model.\u001b[39;49;00m\n",
      "    \u001b[37m#       You should produce two variables:\u001b[39;49;00m\n",
      "    \u001b[37m#         data_X   - A sequence of length 500 which represents the converted review\u001b[39;49;00m\n",
      "    \u001b[37m#         data_len - The length of the review\u001b[39;49;00m\n",
      "    input_data_cleaned = review_to_words(input_data)\n",
      "    data_X, data_len = convert_and_pad(model.word_dict, input_data_cleaned)\n",
      "\n",
      "    \u001b[37m# Using data_X and data_len we construct an appropriate input tensor. Remember\u001b[39;49;00m\n",
      "    \u001b[37m# that our model expects input data of the form 'len, review[500]'.\u001b[39;49;00m\n",
      "    data_pack = np.hstack((data_len, data_X))\n",
      "    data_pack = data_pack.reshape(\u001b[34m1\u001b[39;49;00m, -\u001b[34m1\u001b[39;49;00m)\n",
      "    \n",
      "    data = torch.from_numpy(data_pack)\n",
      "    data = data.to(device)\n",
      "\n",
      "    \u001b[37m# Make sure to put the model into evaluation mode\u001b[39;49;00m\n",
      "    model.eval()\n",
      "\n",
      "    \u001b[37m# TODO: Compute the result of applying the model to the input data. The variable `result` should\u001b[39;49;00m\n",
      "    \u001b[37m#       be a numpy array which contains a single integer which is either 1 or 0\u001b[39;49;00m\n",
      "    \u001b[37m#redictions = predict(test_X)\u001b[39;49;00m\n",
      "    \u001b[37m#predictions = [round(num) for num in predictions]\u001b[39;49;00m\n",
      "    \u001b[34mwith\u001b[39;49;00m torch.no_grad():\n",
      "        output = model(data)\n",
      "    result = np.round(output.numpy())\n",
      "\n",
      "    \u001b[34mreturn\u001b[39;49;00m result\n"
     ]
    }
   ],
   "source": [
    "!pygmentize serve/predict.py"
   ]
  },
  {
   "cell_type": "markdown",
   "metadata": {},
   "source": [
    "As mentioned earlier, the `model_fn` method is the same as the one provided in the training code and the `input_fn` and `output_fn` methods are very simple and your task will be to complete the `predict_fn` method. Make sure that you save the completed file as `predict.py` in the `serve` directory.\n",
    "\n",
    "**TODO**: Complete the `predict_fn()` method in the `serve/predict.py` file."
   ]
  },
  {
   "cell_type": "markdown",
   "metadata": {},
   "source": [
    "### Deploying the model\n",
    "\n",
    "Now that the custom inference code has been written, we will create and deploy our model. To begin with, we need to construct a new PyTorchModel object which points to the model artifacts created during training and also points to the inference code that we wish to use. Then we can call the deploy method to launch the deployment container.\n",
    "\n",
    "**NOTE**: The default behaviour for a deployed PyTorch model is to assume that any input passed to the predictor is a `numpy` array. In our case we want to send a string so we need to construct a simple wrapper around the `RealTimePredictor` class to accomodate simple strings. In a more complicated situation you may want to provide a serialization object, for example if you wanted to sent image data."
   ]
  },
  {
   "cell_type": "code",
   "execution_count": 51,
   "metadata": {},
   "outputs": [
    {
     "name": "stderr",
     "output_type": "stream",
     "text": [
      "Parameter image will be renamed to image_uri in SageMaker Python SDK v2.\n",
      "'create_image_uri' will be deprecated in favor of 'ImageURIProvider' class in SageMaker Python SDK v2.\n"
     ]
    },
    {
     "name": "stdout",
     "output_type": "stream",
     "text": [
      "---------------!"
     ]
    }
   ],
   "source": [
    "from sagemaker.predictor import RealTimePredictor\n",
    "from sagemaker.pytorch import PyTorchModel\n",
    "\n",
    "class StringPredictor(RealTimePredictor):\n",
    "    def __init__(self, endpoint_name, sagemaker_session):\n",
    "        super(StringPredictor, self).__init__(endpoint_name, sagemaker_session, content_type='text/plain')\n",
    "\n",
    "model = PyTorchModel(model_data=estimator.model_data,\n",
    "                     role = role,\n",
    "                     framework_version='0.4.0',\n",
    "                     entry_point='predict.py',\n",
    "                     source_dir='serve',\n",
    "                     predictor_cls=StringPredictor)\n",
    "predictor = model.deploy(initial_instance_count=1, instance_type='ml.m4.xlarge')"
   ]
  },
  {
   "cell_type": "markdown",
   "metadata": {},
   "source": [
    "### Testing the model\n",
    "\n",
    "Now that we have deployed our model with the custom inference code, we should test to see if everything is working. Here we test our model by loading the first `250` positive and negative reviews and send them to the endpoint, then collect the results. The reason for only sending some of the data is that the amount of time it takes for our model to process the input and then perform inference is quite long and so testing the entire data set would be prohibitive."
   ]
  },
  {
   "cell_type": "code",
   "execution_count": 52,
   "metadata": {},
   "outputs": [],
   "source": [
    "import glob\n",
    "\n",
    "def test_reviews(data_dir='../data/aclImdb', stop=250):\n",
    "    \n",
    "    results = []\n",
    "    ground = []\n",
    "    \n",
    "    # We make sure to test both positive and negative reviews    \n",
    "    for sentiment in ['pos', 'neg']:\n",
    "        \n",
    "        path = os.path.join(data_dir, 'test', sentiment, '*.txt')\n",
    "        files = glob.glob(path)\n",
    "        \n",
    "        files_read = 0\n",
    "        \n",
    "        print('Starting ', sentiment, ' files')\n",
    "        \n",
    "        # Iterate through the files and send them to the predictor\n",
    "        for f in files:\n",
    "            with open(f) as review:\n",
    "                # First, we store the ground truth (was the review positive or negative)\n",
    "                if sentiment == 'pos':\n",
    "                    ground.append(1)\n",
    "                else:\n",
    "                    ground.append(0)\n",
    "                # Read in the review and convert to 'utf-8' for transmission via HTTP\n",
    "                review_input = review.read().encode('utf-8')\n",
    "                # Send the review to the predictor and store the results\n",
    "                results.append(int(float(predictor.predict(review_input))))\n",
    "                \n",
    "            # Sending reviews to our endpoint one at a time takes a while so we\n",
    "            # only send a small number of reviews\n",
    "            files_read += 1\n",
    "            if files_read == stop:\n",
    "                break\n",
    "            \n",
    "    return ground, results"
   ]
  },
  {
   "cell_type": "code",
   "execution_count": 53,
   "metadata": {
    "scrolled": true
   },
   "outputs": [
    {
     "name": "stdout",
     "output_type": "stream",
     "text": [
      "Starting  pos  files\n",
      "Starting  neg  files\n"
     ]
    }
   ],
   "source": [
    "ground, results = test_reviews()"
   ]
  },
  {
   "cell_type": "code",
   "execution_count": 54,
   "metadata": {},
   "outputs": [
    {
     "data": {
      "text/plain": [
       "(list, list)"
      ]
     },
     "execution_count": 54,
     "metadata": {},
     "output_type": "execute_result"
    }
   ],
   "source": [
    "type(ground), type(results)"
   ]
  },
  {
   "cell_type": "code",
   "execution_count": 55,
   "metadata": {},
   "outputs": [
    {
     "data": {
      "text/plain": [
       "[1, 1, 1, 1, 1, 1, 1, 1, 1, 1]"
      ]
     },
     "execution_count": 55,
     "metadata": {},
     "output_type": "execute_result"
    }
   ],
   "source": [
    "ground[:10]"
   ]
  },
  {
   "cell_type": "code",
   "execution_count": 56,
   "metadata": {},
   "outputs": [
    {
     "data": {
      "text/plain": [
       "[1, 1, 1, 1, 1, 1, 1, 1, 1, 1]"
      ]
     },
     "execution_count": 56,
     "metadata": {},
     "output_type": "execute_result"
    }
   ],
   "source": [
    "results[:10]"
   ]
  },
  {
   "cell_type": "code",
   "execution_count": 57,
   "metadata": {},
   "outputs": [
    {
     "data": {
      "text/plain": [
       "0.862"
      ]
     },
     "execution_count": 57,
     "metadata": {},
     "output_type": "execute_result"
    }
   ],
   "source": [
    "from sklearn.metrics import accuracy_score\n",
    "accuracy_score(ground, results)"
   ]
  },
  {
   "cell_type": "markdown",
   "metadata": {},
   "source": [
    "As an additional test, we can try sending the `test_review` that we looked at earlier."
   ]
  },
  {
   "cell_type": "code",
   "execution_count": 58,
   "metadata": {},
   "outputs": [
    {
     "data": {
      "text/plain": [
       "1"
      ]
     },
     "execution_count": 58,
     "metadata": {},
     "output_type": "execute_result"
    }
   ],
   "source": [
    "int(float(predictor.predict(test_review)))"
   ]
  },
  {
   "cell_type": "markdown",
   "metadata": {},
   "source": [
    "Now that we know our endpoint is working as expected, we can set up the web page that will interact with it. If you don't have time to finish the project now, make sure to skip down to the end of this notebook and shut down your endpoint. You can deploy it again when you come back."
   ]
  },
  {
   "cell_type": "markdown",
   "metadata": {},
   "source": [
    "## Step 7 (again): Use the model for the web app\n",
    "\n",
    "> **TODO:** This entire section and the next contain tasks for you to complete, mostly using the AWS console.\n",
    "\n",
    "So far we have been accessing our model endpoint by constructing a predictor object which uses the endpoint and then just using the predictor object to perform inference. What if we wanted to create a web app which accessed our model? The way things are set up currently makes that not possible since in order to access a SageMaker endpoint the app would first have to authenticate with AWS using an IAM role which included access to SageMaker endpoints. However, there is an easier way! We just need to use some additional AWS services.\n",
    "\n",
    "<img src=\"Web App Diagram.svg\">\n",
    "\n",
    "The diagram above gives an overview of how the various services will work together. On the far right is the model which we trained above and which is deployed using SageMaker. On the far left is our web app that collects a user's movie review, sends it off and expects a positive or negative sentiment in return.\n",
    "\n",
    "In the middle is where some of the magic happens. We will construct a Lambda function, which you can think of as a straightforward Python function that can be executed whenever a specified event occurs. We will give this function permission to send and recieve data from a SageMaker endpoint.\n",
    "\n",
    "Lastly, the method we will use to execute the Lambda function is a new endpoint that we will create using API Gateway. This endpoint will be a url that listens for data to be sent to it. Once it gets some data it will pass that data on to the Lambda function and then return whatever the Lambda function returns. Essentially it will act as an interface that lets our web app communicate with the Lambda function.\n",
    "\n",
    "### Setting up a Lambda function\n",
    "\n",
    "The first thing we are going to do is set up a Lambda function. This Lambda function will be executed whenever our public API has data sent to it. When it is executed it will receive the data, perform any sort of processing that is required, send the data (the review) to the SageMaker endpoint we've created and then return the result.\n",
    "\n",
    "#### Part A: Create an IAM Role for the Lambda function\n",
    "\n",
    "Since we want the Lambda function to call a SageMaker endpoint, we need to make sure that it has permission to do so. To do this, we will construct a role that we can later give the Lambda function.\n",
    "\n",
    "Using the AWS Console, navigate to the **IAM** page and click on **Roles**. Then, click on **Create role**. Make sure that the **AWS service** is the type of trusted entity selected and choose **Lambda** as the service that will use this role, then click **Next: Permissions**.\n",
    "\n",
    "In the search box type `sagemaker` and select the check box next to the **AmazonSageMakerFullAccess** policy. Then, click on **Next: Review**.\n",
    "\n",
    "Lastly, give this role a name. Make sure you use a name that you will remember later on, for example `LambdaSageMakerRole`. Then, click on **Create role**.\n",
    "\n",
    "#### Part B: Create a Lambda function\n",
    "\n",
    "Now it is time to actually create the Lambda function.\n",
    "\n",
    "Using the AWS Console, navigate to the AWS Lambda page and click on **Create a function**. When you get to the next page, make sure that **Author from scratch** is selected. Now, name your Lambda function, using a name that you will remember later on, for example `sentiment_analysis_func`. Make sure that the **Python 3.6** runtime is selected and then choose the role that you created in the previous part. Then, click on **Create Function**.\n",
    "\n",
    "On the next page you will see some information about the Lambda function you've just created. If you scroll down you should see an editor in which you can write the code that will be executed when your Lambda function is triggered. In our example, we will use the code below. \n",
    "\n",
    "```python\n",
    "# We need to use the low-level library to interact with SageMaker since the SageMaker API\n",
    "# is not available natively through Lambda.\n",
    "import boto3\n",
    "\n",
    "def lambda_handler(event, context):\n",
    "\n",
    "    # The SageMaker runtime is what allows us to invoke the endpoint that we've created.\n",
    "    runtime = boto3.Session().client('sagemaker-runtime')\n",
    "\n",
    "    # Now we use the SageMaker runtime to invoke our endpoint, sending the review we were given\n",
    "    response = runtime.invoke_endpoint(EndpointName = '**ENDPOINT NAME HERE**',    # The name of the endpoint we created\n",
    "                                       ContentType = 'text/plain',                 # The data format that is expected\n",
    "                                       Body = event['body'])                       # The actual review\n",
    "\n",
    "    # The response is an HTTP response whose body contains the result of our inference\n",
    "    result = response['Body'].read().decode('utf-8')\n",
    "\n",
    "    return {\n",
    "        'statusCode' : 200,\n",
    "        'headers' : { 'Content-Type' : 'text/plain', 'Access-Control-Allow-Origin' : '*' },\n",
    "        'body' : result\n",
    "    }\n",
    "```\n",
    "\n",
    "Once you have copy and pasted the code above into the Lambda code editor, replace the `**ENDPOINT NAME HERE**` portion with the name of the endpoint that we deployed earlier. You can determine the name of the endpoint using the code cell below."
   ]
  },
  {
   "cell_type": "code",
   "execution_count": 59,
   "metadata": {},
   "outputs": [
    {
     "data": {
      "text/plain": [
       "'sagemaker-pytorch-2020-07-07-22-20-24-047'"
      ]
     },
     "execution_count": 59,
     "metadata": {},
     "output_type": "execute_result"
    }
   ],
   "source": [
    "predictor.endpoint"
   ]
  },
  {
   "cell_type": "markdown",
   "metadata": {},
   "source": [
    "Once you have added the endpoint name to the Lambda function, click on **Save**. Your Lambda function is now up and running. Next we need to create a way for our web app to execute the Lambda function.\n",
    "\n",
    "### Setting up API Gateway\n",
    "\n",
    "Now that our Lambda function is set up, it is time to create a new API using API Gateway that will trigger the Lambda function we have just created.\n",
    "\n",
    "Using AWS Console, navigate to **Amazon API Gateway** and then click on **Get started**.\n",
    "\n",
    "On the next page, make sure that **New API** is selected and give the new api a name, for example, `sentiment_analysis_api`. Then, click on **Create API**.\n",
    "\n",
    "Now we have created an API, however it doesn't currently do anything. What we want it to do is to trigger the Lambda function that we created earlier.\n",
    "\n",
    "Select the **Actions** dropdown menu and click **Create Method**. A new blank method will be created, select its dropdown menu and select **POST**, then click on the check mark beside it.\n",
    "\n",
    "For the integration point, make sure that **Lambda Function** is selected and click on the **Use Lambda Proxy integration**. This option makes sure that the data that is sent to the API is then sent directly to the Lambda function with no processing. It also means that the return value must be a proper response object as it will also not be processed by API Gateway.\n",
    "\n",
    "Type the name of the Lambda function you created earlier into the **Lambda Function** text entry box and then click on **Save**. Click on **OK** in the pop-up box that then appears, giving permission to API Gateway to invoke the Lambda function you created.\n",
    "\n",
    "The last step in creating the API Gateway is to select the **Actions** dropdown and click on **Deploy API**. You will need to create a new Deployment stage and name it anything you like, for example `prod`.\n",
    "\n",
    "You have now successfully set up a public API to access your SageMaker model. Make sure to copy or write down the URL provided to invoke your newly created public API as this will be needed in the next step. This URL can be found at the top of the page, highlighted in blue next to the text **Invoke URL**."
   ]
  },
  {
   "cell_type": "markdown",
   "metadata": {},
   "source": [
    "## Step 4: Deploying our web app\n",
    "\n",
    "Now that we have a publicly available API, we can start using it in a web app. For our purposes, we have provided a simple static html file which can make use of the public api you created earlier.\n",
    "\n",
    "In the `website` folder there should be a file called `index.html`. Download the file to your computer and open that file up in a text editor of your choice. There should be a line which contains **\\*\\*REPLACE WITH PUBLIC API URL\\*\\***. Replace this string with the url that you wrote down in the last step and then save the file.\n",
    "\n",
    "Now, if you open `index.html` on your local computer, your browser will behave as a local web server and you can use the provided site to interact with your SageMaker model.\n",
    "\n",
    "If you'd like to go further, you can host this html file anywhere you'd like, for example using github or hosting a static site on Amazon's S3. Once you have done this you can share the link with anyone you'd like and have them play with it too!\n",
    "\n",
    "> **Important Note** In order for the web app to communicate with the SageMaker endpoint, the endpoint has to actually be deployed and running. This means that you are paying for it. Make sure that the endpoint is running when you want to use the web app but that you shut it down when you don't need it, otherwise you will end up with a surprisingly large AWS bill.\n",
    "\n",
    "**TODO:** Make sure that you include the edited `index.html` file in your project submission."
   ]
  },
  {
   "cell_type": "markdown",
   "metadata": {},
   "source": [
    "Now that your web app is working, trying playing around with it and see how well it works.\n",
    "\n",
    "**Question**: Give an example of a review that you entered into your web app. What was the predicted sentiment of your example review?"
   ]
  },
  {
   "cell_type": "markdown",
   "metadata": {},
   "source": [
    "**Answer:** Errors in programming is a great way to learn how to code. Learning by making mistakes allows you to become the best version of yourself. Thanks to the mistakes made, I have just learned how to manage CORS. I think the error is an excellent teacher.\n",
    "\n",
    "Your review was POSITIVE!"
   ]
  },
  {
   "cell_type": "markdown",
   "metadata": {},
   "source": [
    "### Delete the endpoint\n",
    "\n",
    "Remember to always shut down your endpoint if you are no longer using it. You are charged for the length of time that the endpoint is running so if you forget and leave it on you could end up with an unexpectedly large bill."
   ]
  },
  {
   "cell_type": "code",
   "execution_count": 60,
   "metadata": {},
   "outputs": [],
   "source": [
    "predictor.delete_endpoint()"
   ]
  },
  {
   "cell_type": "code",
   "execution_count": null,
   "metadata": {},
   "outputs": [],
   "source": []
  }
 ],
 "metadata": {
  "kernelspec": {
   "display_name": "Python 3",
   "language": "python",
   "name": "python3"
  },
  "language_info": {
   "codemirror_mode": {
    "name": "ipython",
    "version": 3
   },
   "file_extension": ".py",
   "mimetype": "text/x-python",
   "name": "python",
   "nbconvert_exporter": "python",
   "pygments_lexer": "ipython3",
   "version": "3.6.7"
  }
 },
 "nbformat": 4,
 "nbformat_minor": 4
}
